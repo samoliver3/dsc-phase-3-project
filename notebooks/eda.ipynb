{
 "cells": [
  {
   "cell_type": "markdown",
   "metadata": {},
   "source": [
    "# Exploratory Data Analysis (EDA)\n",
    "This notebook will import and clean the data and offer initial insights into the dataset."
   ]
  },
  {
   "cell_type": "markdown",
   "metadata": {},
   "source": [
    "# Business Problem\n",
    "The stakeholder is SyriaTel, a telecommunications company in Syria, and this company wants to reduce money lost due to churn (customers leaving). The stakeholder wants to identify patterns found in churned customers in a US dataset so that they can implement strategies aimed at reducing their churn rate. These strategies will specifically target customers that can be classified as likely to churn."
   ]
  },
  {
   "cell_type": "markdown",
   "metadata": {},
   "source": [
    "# Import and Clean the Data"
   ]
  },
  {
   "cell_type": "code",
   "execution_count": 1,
   "metadata": {},
   "outputs": [],
   "source": [
    "# imports\n",
    "import pandas as pd\n",
    "import numpy as np\n",
    "import matplotlib.pyplot as plt\n",
    "import seaborn as sns\n",
    "import csv\n",
    "%matplotlib inline\n",
    "\n",
    "plt.style.use('seaborn')"
   ]
  },
  {
   "cell_type": "code",
   "execution_count": 2,
   "metadata": {
    "scrolled": true
   },
   "outputs": [
    {
     "data": {
      "text/html": [
       "<div>\n",
       "<style scoped>\n",
       "    .dataframe tbody tr th:only-of-type {\n",
       "        vertical-align: middle;\n",
       "    }\n",
       "\n",
       "    .dataframe tbody tr th {\n",
       "        vertical-align: top;\n",
       "    }\n",
       "\n",
       "    .dataframe thead th {\n",
       "        text-align: right;\n",
       "    }\n",
       "</style>\n",
       "<table border=\"1\" class=\"dataframe\">\n",
       "  <thead>\n",
       "    <tr style=\"text-align: right;\">\n",
       "      <th></th>\n",
       "      <th>state</th>\n",
       "      <th>account length</th>\n",
       "      <th>area code</th>\n",
       "      <th>phone number</th>\n",
       "      <th>international plan</th>\n",
       "      <th>voice mail plan</th>\n",
       "      <th>number vmail messages</th>\n",
       "      <th>total day minutes</th>\n",
       "      <th>total day calls</th>\n",
       "      <th>total day charge</th>\n",
       "      <th>...</th>\n",
       "      <th>total eve calls</th>\n",
       "      <th>total eve charge</th>\n",
       "      <th>total night minutes</th>\n",
       "      <th>total night calls</th>\n",
       "      <th>total night charge</th>\n",
       "      <th>total intl minutes</th>\n",
       "      <th>total intl calls</th>\n",
       "      <th>total intl charge</th>\n",
       "      <th>customer service calls</th>\n",
       "      <th>churn</th>\n",
       "    </tr>\n",
       "  </thead>\n",
       "  <tbody>\n",
       "    <tr>\n",
       "      <th>0</th>\n",
       "      <td>KS</td>\n",
       "      <td>128</td>\n",
       "      <td>415</td>\n",
       "      <td>382-4657</td>\n",
       "      <td>no</td>\n",
       "      <td>yes</td>\n",
       "      <td>25</td>\n",
       "      <td>265.1</td>\n",
       "      <td>110</td>\n",
       "      <td>45.07</td>\n",
       "      <td>...</td>\n",
       "      <td>99</td>\n",
       "      <td>16.78</td>\n",
       "      <td>244.7</td>\n",
       "      <td>91</td>\n",
       "      <td>11.01</td>\n",
       "      <td>10.0</td>\n",
       "      <td>3</td>\n",
       "      <td>2.70</td>\n",
       "      <td>1</td>\n",
       "      <td>False</td>\n",
       "    </tr>\n",
       "    <tr>\n",
       "      <th>1</th>\n",
       "      <td>OH</td>\n",
       "      <td>107</td>\n",
       "      <td>415</td>\n",
       "      <td>371-7191</td>\n",
       "      <td>no</td>\n",
       "      <td>yes</td>\n",
       "      <td>26</td>\n",
       "      <td>161.6</td>\n",
       "      <td>123</td>\n",
       "      <td>27.47</td>\n",
       "      <td>...</td>\n",
       "      <td>103</td>\n",
       "      <td>16.62</td>\n",
       "      <td>254.4</td>\n",
       "      <td>103</td>\n",
       "      <td>11.45</td>\n",
       "      <td>13.7</td>\n",
       "      <td>3</td>\n",
       "      <td>3.70</td>\n",
       "      <td>1</td>\n",
       "      <td>False</td>\n",
       "    </tr>\n",
       "    <tr>\n",
       "      <th>2</th>\n",
       "      <td>NJ</td>\n",
       "      <td>137</td>\n",
       "      <td>415</td>\n",
       "      <td>358-1921</td>\n",
       "      <td>no</td>\n",
       "      <td>no</td>\n",
       "      <td>0</td>\n",
       "      <td>243.4</td>\n",
       "      <td>114</td>\n",
       "      <td>41.38</td>\n",
       "      <td>...</td>\n",
       "      <td>110</td>\n",
       "      <td>10.30</td>\n",
       "      <td>162.6</td>\n",
       "      <td>104</td>\n",
       "      <td>7.32</td>\n",
       "      <td>12.2</td>\n",
       "      <td>5</td>\n",
       "      <td>3.29</td>\n",
       "      <td>0</td>\n",
       "      <td>False</td>\n",
       "    </tr>\n",
       "    <tr>\n",
       "      <th>3</th>\n",
       "      <td>OH</td>\n",
       "      <td>84</td>\n",
       "      <td>408</td>\n",
       "      <td>375-9999</td>\n",
       "      <td>yes</td>\n",
       "      <td>no</td>\n",
       "      <td>0</td>\n",
       "      <td>299.4</td>\n",
       "      <td>71</td>\n",
       "      <td>50.90</td>\n",
       "      <td>...</td>\n",
       "      <td>88</td>\n",
       "      <td>5.26</td>\n",
       "      <td>196.9</td>\n",
       "      <td>89</td>\n",
       "      <td>8.86</td>\n",
       "      <td>6.6</td>\n",
       "      <td>7</td>\n",
       "      <td>1.78</td>\n",
       "      <td>2</td>\n",
       "      <td>False</td>\n",
       "    </tr>\n",
       "    <tr>\n",
       "      <th>4</th>\n",
       "      <td>OK</td>\n",
       "      <td>75</td>\n",
       "      <td>415</td>\n",
       "      <td>330-6626</td>\n",
       "      <td>yes</td>\n",
       "      <td>no</td>\n",
       "      <td>0</td>\n",
       "      <td>166.7</td>\n",
       "      <td>113</td>\n",
       "      <td>28.34</td>\n",
       "      <td>...</td>\n",
       "      <td>122</td>\n",
       "      <td>12.61</td>\n",
       "      <td>186.9</td>\n",
       "      <td>121</td>\n",
       "      <td>8.41</td>\n",
       "      <td>10.1</td>\n",
       "      <td>3</td>\n",
       "      <td>2.73</td>\n",
       "      <td>3</td>\n",
       "      <td>False</td>\n",
       "    </tr>\n",
       "    <tr>\n",
       "      <th>...</th>\n",
       "      <td>...</td>\n",
       "      <td>...</td>\n",
       "      <td>...</td>\n",
       "      <td>...</td>\n",
       "      <td>...</td>\n",
       "      <td>...</td>\n",
       "      <td>...</td>\n",
       "      <td>...</td>\n",
       "      <td>...</td>\n",
       "      <td>...</td>\n",
       "      <td>...</td>\n",
       "      <td>...</td>\n",
       "      <td>...</td>\n",
       "      <td>...</td>\n",
       "      <td>...</td>\n",
       "      <td>...</td>\n",
       "      <td>...</td>\n",
       "      <td>...</td>\n",
       "      <td>...</td>\n",
       "      <td>...</td>\n",
       "      <td>...</td>\n",
       "    </tr>\n",
       "    <tr>\n",
       "      <th>3328</th>\n",
       "      <td>AZ</td>\n",
       "      <td>192</td>\n",
       "      <td>415</td>\n",
       "      <td>414-4276</td>\n",
       "      <td>no</td>\n",
       "      <td>yes</td>\n",
       "      <td>36</td>\n",
       "      <td>156.2</td>\n",
       "      <td>77</td>\n",
       "      <td>26.55</td>\n",
       "      <td>...</td>\n",
       "      <td>126</td>\n",
       "      <td>18.32</td>\n",
       "      <td>279.1</td>\n",
       "      <td>83</td>\n",
       "      <td>12.56</td>\n",
       "      <td>9.9</td>\n",
       "      <td>6</td>\n",
       "      <td>2.67</td>\n",
       "      <td>2</td>\n",
       "      <td>False</td>\n",
       "    </tr>\n",
       "    <tr>\n",
       "      <th>3329</th>\n",
       "      <td>WV</td>\n",
       "      <td>68</td>\n",
       "      <td>415</td>\n",
       "      <td>370-3271</td>\n",
       "      <td>no</td>\n",
       "      <td>no</td>\n",
       "      <td>0</td>\n",
       "      <td>231.1</td>\n",
       "      <td>57</td>\n",
       "      <td>39.29</td>\n",
       "      <td>...</td>\n",
       "      <td>55</td>\n",
       "      <td>13.04</td>\n",
       "      <td>191.3</td>\n",
       "      <td>123</td>\n",
       "      <td>8.61</td>\n",
       "      <td>9.6</td>\n",
       "      <td>4</td>\n",
       "      <td>2.59</td>\n",
       "      <td>3</td>\n",
       "      <td>False</td>\n",
       "    </tr>\n",
       "    <tr>\n",
       "      <th>3330</th>\n",
       "      <td>RI</td>\n",
       "      <td>28</td>\n",
       "      <td>510</td>\n",
       "      <td>328-8230</td>\n",
       "      <td>no</td>\n",
       "      <td>no</td>\n",
       "      <td>0</td>\n",
       "      <td>180.8</td>\n",
       "      <td>109</td>\n",
       "      <td>30.74</td>\n",
       "      <td>...</td>\n",
       "      <td>58</td>\n",
       "      <td>24.55</td>\n",
       "      <td>191.9</td>\n",
       "      <td>91</td>\n",
       "      <td>8.64</td>\n",
       "      <td>14.1</td>\n",
       "      <td>6</td>\n",
       "      <td>3.81</td>\n",
       "      <td>2</td>\n",
       "      <td>False</td>\n",
       "    </tr>\n",
       "    <tr>\n",
       "      <th>3331</th>\n",
       "      <td>CT</td>\n",
       "      <td>184</td>\n",
       "      <td>510</td>\n",
       "      <td>364-6381</td>\n",
       "      <td>yes</td>\n",
       "      <td>no</td>\n",
       "      <td>0</td>\n",
       "      <td>213.8</td>\n",
       "      <td>105</td>\n",
       "      <td>36.35</td>\n",
       "      <td>...</td>\n",
       "      <td>84</td>\n",
       "      <td>13.57</td>\n",
       "      <td>139.2</td>\n",
       "      <td>137</td>\n",
       "      <td>6.26</td>\n",
       "      <td>5.0</td>\n",
       "      <td>10</td>\n",
       "      <td>1.35</td>\n",
       "      <td>2</td>\n",
       "      <td>False</td>\n",
       "    </tr>\n",
       "    <tr>\n",
       "      <th>3332</th>\n",
       "      <td>TN</td>\n",
       "      <td>74</td>\n",
       "      <td>415</td>\n",
       "      <td>400-4344</td>\n",
       "      <td>no</td>\n",
       "      <td>yes</td>\n",
       "      <td>25</td>\n",
       "      <td>234.4</td>\n",
       "      <td>113</td>\n",
       "      <td>39.85</td>\n",
       "      <td>...</td>\n",
       "      <td>82</td>\n",
       "      <td>22.60</td>\n",
       "      <td>241.4</td>\n",
       "      <td>77</td>\n",
       "      <td>10.86</td>\n",
       "      <td>13.7</td>\n",
       "      <td>4</td>\n",
       "      <td>3.70</td>\n",
       "      <td>0</td>\n",
       "      <td>False</td>\n",
       "    </tr>\n",
       "  </tbody>\n",
       "</table>\n",
       "<p>3333 rows × 21 columns</p>\n",
       "</div>"
      ],
      "text/plain": [
       "     state  account length  area code phone number international plan  \\\n",
       "0       KS             128        415     382-4657                 no   \n",
       "1       OH             107        415     371-7191                 no   \n",
       "2       NJ             137        415     358-1921                 no   \n",
       "3       OH              84        408     375-9999                yes   \n",
       "4       OK              75        415     330-6626                yes   \n",
       "...    ...             ...        ...          ...                ...   \n",
       "3328    AZ             192        415     414-4276                 no   \n",
       "3329    WV              68        415     370-3271                 no   \n",
       "3330    RI              28        510     328-8230                 no   \n",
       "3331    CT             184        510     364-6381                yes   \n",
       "3332    TN              74        415     400-4344                 no   \n",
       "\n",
       "     voice mail plan  number vmail messages  total day minutes  \\\n",
       "0                yes                     25              265.1   \n",
       "1                yes                     26              161.6   \n",
       "2                 no                      0              243.4   \n",
       "3                 no                      0              299.4   \n",
       "4                 no                      0              166.7   \n",
       "...              ...                    ...                ...   \n",
       "3328             yes                     36              156.2   \n",
       "3329              no                      0              231.1   \n",
       "3330              no                      0              180.8   \n",
       "3331              no                      0              213.8   \n",
       "3332             yes                     25              234.4   \n",
       "\n",
       "      total day calls  total day charge  ...  total eve calls  \\\n",
       "0                 110             45.07  ...               99   \n",
       "1                 123             27.47  ...              103   \n",
       "2                 114             41.38  ...              110   \n",
       "3                  71             50.90  ...               88   \n",
       "4                 113             28.34  ...              122   \n",
       "...               ...               ...  ...              ...   \n",
       "3328               77             26.55  ...              126   \n",
       "3329               57             39.29  ...               55   \n",
       "3330              109             30.74  ...               58   \n",
       "3331              105             36.35  ...               84   \n",
       "3332              113             39.85  ...               82   \n",
       "\n",
       "      total eve charge  total night minutes  total night calls  \\\n",
       "0                16.78                244.7                 91   \n",
       "1                16.62                254.4                103   \n",
       "2                10.30                162.6                104   \n",
       "3                 5.26                196.9                 89   \n",
       "4                12.61                186.9                121   \n",
       "...                ...                  ...                ...   \n",
       "3328             18.32                279.1                 83   \n",
       "3329             13.04                191.3                123   \n",
       "3330             24.55                191.9                 91   \n",
       "3331             13.57                139.2                137   \n",
       "3332             22.60                241.4                 77   \n",
       "\n",
       "      total night charge  total intl minutes  total intl calls  \\\n",
       "0                  11.01                10.0                 3   \n",
       "1                  11.45                13.7                 3   \n",
       "2                   7.32                12.2                 5   \n",
       "3                   8.86                 6.6                 7   \n",
       "4                   8.41                10.1                 3   \n",
       "...                  ...                 ...               ...   \n",
       "3328               12.56                 9.9                 6   \n",
       "3329                8.61                 9.6                 4   \n",
       "3330                8.64                14.1                 6   \n",
       "3331                6.26                 5.0                10   \n",
       "3332               10.86                13.7                 4   \n",
       "\n",
       "      total intl charge  customer service calls  churn  \n",
       "0                  2.70                       1  False  \n",
       "1                  3.70                       1  False  \n",
       "2                  3.29                       0  False  \n",
       "3                  1.78                       2  False  \n",
       "4                  2.73                       3  False  \n",
       "...                 ...                     ...    ...  \n",
       "3328               2.67                       2  False  \n",
       "3329               2.59                       3  False  \n",
       "3330               3.81                       2  False  \n",
       "3331               1.35                       2  False  \n",
       "3332               3.70                       0  False  \n",
       "\n",
       "[3333 rows x 21 columns]"
      ]
     },
     "execution_count": 2,
     "metadata": {},
     "output_type": "execute_result"
    }
   ],
   "source": [
    "# import the dataset\n",
    "df = pd.read_csv('..\\\\data\\\\telecom_data.csv')\n",
    "df"
   ]
  },
  {
   "cell_type": "code",
   "execution_count": 3,
   "metadata": {},
   "outputs": [],
   "source": [
    "# drop exact duplicates (same exact values across rows)\n",
    "# there shouldn't be any same rows because of unique values like area code + #\n",
    "df = df.drop_duplicates()"
   ]
  },
  {
   "cell_type": "code",
   "execution_count": 4,
   "metadata": {
    "scrolled": true
   },
   "outputs": [
    {
     "name": "stdout",
     "output_type": "stream",
     "text": [
      "<class 'pandas.core.frame.DataFrame'>\n",
      "Int64Index: 3333 entries, 0 to 3332\n",
      "Data columns (total 21 columns):\n",
      " #   Column                  Non-Null Count  Dtype  \n",
      "---  ------                  --------------  -----  \n",
      " 0   state                   3333 non-null   object \n",
      " 1   account length          3333 non-null   int64  \n",
      " 2   area code               3333 non-null   int64  \n",
      " 3   phone number            3333 non-null   object \n",
      " 4   international plan      3333 non-null   object \n",
      " 5   voice mail plan         3333 non-null   object \n",
      " 6   number vmail messages   3333 non-null   int64  \n",
      " 7   total day minutes       3333 non-null   float64\n",
      " 8   total day calls         3333 non-null   int64  \n",
      " 9   total day charge        3333 non-null   float64\n",
      " 10  total eve minutes       3333 non-null   float64\n",
      " 11  total eve calls         3333 non-null   int64  \n",
      " 12  total eve charge        3333 non-null   float64\n",
      " 13  total night minutes     3333 non-null   float64\n",
      " 14  total night calls       3333 non-null   int64  \n",
      " 15  total night charge      3333 non-null   float64\n",
      " 16  total intl minutes      3333 non-null   float64\n",
      " 17  total intl calls        3333 non-null   int64  \n",
      " 18  total intl charge       3333 non-null   float64\n",
      " 19  customer service calls  3333 non-null   int64  \n",
      " 20  churn                   3333 non-null   bool   \n",
      "dtypes: bool(1), float64(8), int64(8), object(4)\n",
      "memory usage: 550.1+ KB\n"
     ]
    }
   ],
   "source": [
    "# check for null data\n",
    "df.info()"
   ]
  },
  {
   "cell_type": "markdown",
   "metadata": {},
   "source": [
    "* The dataset looks fairly clean already (no non-null items). But there are object datatypes that I will likely have to handle in some way."
   ]
  },
  {
   "cell_type": "code",
   "execution_count": 5,
   "metadata": {},
   "outputs": [],
   "source": [
    "# Handle object types for international plan and voice mail plan\n",
    "df.loc[df['international plan'] == 'no', 'international plan'] = 0\n",
    "df.loc[df['international plan'] == 'yes', 'international plan'] = 1 \n",
    "\n",
    "df.loc[df['voice mail plan'] == 'no', 'voice mail plan'] = 0\n",
    "df.loc[df['voice mail plan']== 'yes', 'voice mail plan'] = 1"
   ]
  },
  {
   "cell_type": "code",
   "execution_count": 6,
   "metadata": {},
   "outputs": [],
   "source": [
    "# Change churn to values: 1 (churned/True) 0 (no churn/False)\n",
    "df.loc[df['churn'] == True, 'churn'] = 1\n",
    "df.loc[df['churn'] == False, 'churn'] = 0"
   ]
  },
  {
   "cell_type": "code",
   "execution_count": 7,
   "metadata": {
    "scrolled": true
   },
   "outputs": [],
   "source": [
    "# going to create backup df and drop phone number from original df\n",
    "# phone number could be used as unique id, but it doesn't seem necessary\n",
    "df_backup = df.copy()\n",
    "df = df.drop(['phone number'], axis=1)"
   ]
  },
  {
   "cell_type": "code",
   "execution_count": 8,
   "metadata": {},
   "outputs": [
    {
     "data": {
      "text/plain": [
       "51"
      ]
     },
     "execution_count": 8,
     "metadata": {},
     "output_type": "execute_result"
    }
   ],
   "source": [
    "# checking unique count of states represented in dataset\n",
    "df.state.unique().size"
   ]
  },
  {
   "cell_type": "markdown",
   "metadata": {},
   "source": [
    "51 total states represented- all states & DC"
   ]
  },
  {
   "cell_type": "code",
   "execution_count": 9,
   "metadata": {},
   "outputs": [],
   "source": [
    "# casting int values to churn, voice mail plan, and international plan cols\n",
    "objs = ['international plan', 'voice mail plan', 'churn']\n",
    "\n",
    "for o in objs:\n",
    "    df = df.astype({o: int})"
   ]
  },
  {
   "cell_type": "code",
   "execution_count": 10,
   "metadata": {},
   "outputs": [
    {
     "name": "stdout",
     "output_type": "stream",
     "text": [
      "<class 'pandas.core.frame.DataFrame'>\n",
      "Int64Index: 3333 entries, 0 to 3332\n",
      "Data columns (total 20 columns):\n",
      " #   Column                  Non-Null Count  Dtype  \n",
      "---  ------                  --------------  -----  \n",
      " 0   state                   3333 non-null   object \n",
      " 1   account length          3333 non-null   int64  \n",
      " 2   area code               3333 non-null   int64  \n",
      " 3   international plan      3333 non-null   int32  \n",
      " 4   voice mail plan         3333 non-null   int32  \n",
      " 5   number vmail messages   3333 non-null   int64  \n",
      " 6   total day minutes       3333 non-null   float64\n",
      " 7   total day calls         3333 non-null   int64  \n",
      " 8   total day charge        3333 non-null   float64\n",
      " 9   total eve minutes       3333 non-null   float64\n",
      " 10  total eve calls         3333 non-null   int64  \n",
      " 11  total eve charge        3333 non-null   float64\n",
      " 12  total night minutes     3333 non-null   float64\n",
      " 13  total night calls       3333 non-null   int64  \n",
      " 14  total night charge      3333 non-null   float64\n",
      " 15  total intl minutes      3333 non-null   float64\n",
      " 16  total intl calls        3333 non-null   int64  \n",
      " 17  total intl charge       3333 non-null   float64\n",
      " 18  customer service calls  3333 non-null   int64  \n",
      " 19  churn                   3333 non-null   int32  \n",
      "dtypes: float64(8), int32(3), int64(8), object(1)\n",
      "memory usage: 507.8+ KB\n"
     ]
    }
   ],
   "source": [
    "df.info()"
   ]
  },
  {
   "cell_type": "markdown",
   "metadata": {},
   "source": [
    "# Exploration of the Data"
   ]
  },
  {
   "cell_type": "markdown",
   "metadata": {},
   "source": [
    "## Analyzing distribution of each variable"
   ]
  },
  {
   "cell_type": "code",
   "execution_count": 11,
   "metadata": {},
   "outputs": [
    {
     "data": {
      "text/plain": [
       "array([[<AxesSubplot:title={'center':'account length'}>,\n",
       "        <AxesSubplot:title={'center':'area code'}>,\n",
       "        <AxesSubplot:title={'center':'international plan'}>,\n",
       "        <AxesSubplot:title={'center':'voice mail plan'}>],\n",
       "       [<AxesSubplot:title={'center':'number vmail messages'}>,\n",
       "        <AxesSubplot:title={'center':'total day minutes'}>,\n",
       "        <AxesSubplot:title={'center':'total day calls'}>,\n",
       "        <AxesSubplot:title={'center':'total day charge'}>],\n",
       "       [<AxesSubplot:title={'center':'total eve minutes'}>,\n",
       "        <AxesSubplot:title={'center':'total eve calls'}>,\n",
       "        <AxesSubplot:title={'center':'total eve charge'}>,\n",
       "        <AxesSubplot:title={'center':'total night minutes'}>],\n",
       "       [<AxesSubplot:title={'center':'total night calls'}>,\n",
       "        <AxesSubplot:title={'center':'total night charge'}>,\n",
       "        <AxesSubplot:title={'center':'total intl minutes'}>,\n",
       "        <AxesSubplot:title={'center':'total intl calls'}>],\n",
       "       [<AxesSubplot:title={'center':'total intl charge'}>,\n",
       "        <AxesSubplot:title={'center':'customer service calls'}>,\n",
       "        <AxesSubplot:title={'center':'churn'}>, <AxesSubplot:>]],\n",
       "      dtype=object)"
      ]
     },
     "execution_count": 11,
     "metadata": {},
     "output_type": "execute_result"
    },
    {
     "data": {
      "image/png": "[encoded data removed]",
      "text/plain": [
       "<Figure size 1800x900 with 20 Axes>"
      ]
     },
     "metadata": {},
     "output_type": "display_data"
    }
   ],
   "source": [
    "# plot histograms of all the columns in the set.\n",
    "df.hist(bins=50, figsize=(25, 12.5))"
   ]
  },
  {
   "cell_type": "markdown",
   "metadata": {},
   "source": [
    "Notes on distributions:\n",
    "* Account length - normal distribution\n",
    "* There are only 3 different area codes - how can that be if there are 51 different states? \n",
    "* Vast majority of customers do not have an international plan.\n",
    "* About 1/3rd of customers have a voice mail plan.\n",
    "* The vast majority of customers have 0 voice mail messages\n",
    "* Other normal distributions (or approximately normal distributions): total day minutes, total day calls, total day charge, total eve minutes, total eve calls, total eve charge, total night minutes, total night calls, total night charge, total intl minutes, and total intl charge.\n",
    "* Most people have had 0-2 customer service calls.\n",
    "* Most people have had 2-4 international calls."
   ]
  },
  {
   "cell_type": "code",
   "execution_count": 12,
   "metadata": {},
   "outputs": [
    {
     "data": {
      "text/plain": [
       "array([415, 408, 510], dtype=int64)"
      ]
     },
     "execution_count": 12,
     "metadata": {},
     "output_type": "execute_result"
    }
   ],
   "source": [
    "# double checking that there are only 3 area codes.\n",
    "df['area code'].unique()"
   ]
  },
  {
   "cell_type": "markdown",
   "metadata": {},
   "source": [
    "It doesn't make sense that there would only be 3 area codes while every state is represented. Is this column simply incorrect?"
   ]
  },
  {
   "cell_type": "code",
   "execution_count": 13,
   "metadata": {},
   "outputs": [
    {
     "data": {
      "text/plain": [
       "<AxesSubplot:>"
      ]
     },
     "execution_count": 13,
     "metadata": {},
     "output_type": "execute_result"
    },
    {
     "data": {
      "image/png": "[encoded data removed]",
      "text/plain": [
       "<Figure size 1440x576 with 1 Axes>"
      ]
     },
     "metadata": {},
     "output_type": "display_data"
    }
   ],
   "source": [
    "# histogram for states and their frequencies\n",
    "df.state.hist(bins=51, figsize=(20, 8))"
   ]
  },
  {
   "cell_type": "markdown",
   "metadata": {},
   "source": [
    "* Fairly even representation of states in the dataset. \n",
    "* DC is included as the 51st.\n",
    "* WV (West Virginia) has the biggest representation in the dataset."
   ]
  },
  {
   "cell_type": "markdown",
   "metadata": {},
   "source": [
    "## Visualizing variables and churn rate"
   ]
  },
  {
   "cell_type": "code",
   "execution_count": 14,
   "metadata": {},
   "outputs": [],
   "source": [
    "# going to create some bar graphs to get an idea for churn rate for some vars.\n",
    "bar_vars = ['area code', 'international plan', 'voice mail plan', \n",
    "            'customer service calls', 'total intl calls']"
   ]
  },
  {
   "cell_type": "code",
   "execution_count": 15,
   "metadata": {
    "scrolled": false
   },
   "outputs": [
    {
     "data": {
      "image/png": "[encoded data removed]",
      "text/plain": [
       "<Figure size 576x576 with 1 Axes>"
      ]
     },
     "metadata": {},
     "output_type": "display_data"
    },
    {
     "data": {
      "image/png": "[encoded data removed]",
      "text/plain": [
       "<Figure size 576x576 with 1 Axes>"
      ]
     },
     "metadata": {},
     "output_type": "display_data"
    },
    {
     "data": {
      "image/png": "[encoded data removed]",
      "text/plain": [
       "<Figure size 576x576 with 1 Axes>"
      ]
     },
     "metadata": {},
     "output_type": "display_data"
    },
    {
     "data": {
      "image/png": "[encoded data removed]",
      "text/plain": [
       "<Figure size 576x576 with 1 Axes>"
      ]
     },
     "metadata": {},
     "output_type": "display_data"
    },
    {
     "data": {
      "image/png": "[encoded data removed]",
      "text/plain": [
       "<Figure size 576x576 with 1 Axes>"
      ]
     },
     "metadata": {},
     "output_type": "display_data"
    }
   ],
   "source": [
    "# visualize scatterplots of histograms with price as y variable\n",
    "for v in bar_vars:\n",
    "    df.groupby([v, \"churn\"]).size().unstack().plot(kind='bar', stacked=True, \n",
    "                                                   figsize=(8, 8)) "
   ]
  },
  {
   "cell_type": "code",
   "execution_count": 16,
   "metadata": {},
   "outputs": [
    {
     "data": {
      "text/plain": [
       "<AxesSubplot:xlabel='state'>"
      ]
     },
     "execution_count": 16,
     "metadata": {},
     "output_type": "execute_result"
    },
    {
     "data": {
      "image/png": "[encoded data removed]",
      "text/plain": [
       "<Figure size 864x576 with 1 Axes>"
      ]
     },
     "metadata": {},
     "output_type": "display_data"
    }
   ],
   "source": [
    "# check for state too\n",
    "df.groupby(['state', \"churn\"]).size().unstack().plot(kind='bar', stacked=True, \n",
    "                                               figsize=(12, 8)) "
   ]
  },
  {
   "cell_type": "markdown",
   "metadata": {},
   "source": [
    "Comments on churn rates and variables evaluated thus far:\n",
    "* Customers in area code 415 are more likely to churn than other area codes\n",
    "* Customers with an international plan are more likely to churn than customers without one.\n",
    "* Customers with a voice mail plan are more likely to churn than without one.\n",
    "* Customers with 4 or more customer service calls are likely to churn.\n",
    "* Customers with more than 6 international calls or less than 2 international calls are less likely to churn than those with 2-6.\n",
    "* Some states have a particularly low churn rate such as Alaska, Hawaii, and Iowa, but it's difficult to tell from this histogram if state is a particularly important feature."
   ]
  },
  {
   "cell_type": "markdown",
   "metadata": {},
   "source": [
    "At this point, it does not seem that area code is a data column that was stored properly, and there are obviously issues with it; so it will be dropped from the dataset."
   ]
  },
  {
   "cell_type": "code",
   "execution_count": 17,
   "metadata": {},
   "outputs": [],
   "source": [
    "# dropping area code\n",
    "df = df.drop(['area code'], axis=1)"
   ]
  },
  {
   "cell_type": "code",
   "execution_count": 18,
   "metadata": {},
   "outputs": [],
   "source": [
    "df_s = pd.DataFrame()\n",
    "df_s = df.groupby(['state', \"churn\"]).size().unstack()\n",
    "\n",
    "# df_s is kind of a weird datatype... going to concat useful info into new df\n",
    "dddd = df_s[1].reset_index()\n",
    "ddd = df_s[0].reset_index()\n",
    "df_states_churn = pd.concat([ddd['state'], ddd[0], dddd[1]], axis=1)\n",
    "df_states_churn.columns = ['state', 'num_retained', 'num_churned']"
   ]
  },
  {
   "cell_type": "code",
   "execution_count": 19,
   "metadata": {
    "scrolled": true
   },
   "outputs": [
    {
     "data": {
      "text/html": [
       "<div>\n",
       "<style scoped>\n",
       "    .dataframe tbody tr th:only-of-type {\n",
       "        vertical-align: middle;\n",
       "    }\n",
       "\n",
       "    .dataframe tbody tr th {\n",
       "        vertical-align: top;\n",
       "    }\n",
       "\n",
       "    .dataframe thead th {\n",
       "        text-align: right;\n",
       "    }\n",
       "</style>\n",
       "<table border=\"1\" class=\"dataframe\">\n",
       "  <thead>\n",
       "    <tr style=\"text-align: right;\">\n",
       "      <th></th>\n",
       "      <th>state</th>\n",
       "      <th>num_retained</th>\n",
       "      <th>num_churned</th>\n",
       "      <th>churn rate</th>\n",
       "    </tr>\n",
       "  </thead>\n",
       "  <tbody>\n",
       "    <tr>\n",
       "      <th>0</th>\n",
       "      <td>NJ</td>\n",
       "      <td>50</td>\n",
       "      <td>18</td>\n",
       "      <td>0.264706</td>\n",
       "    </tr>\n",
       "    <tr>\n",
       "      <th>1</th>\n",
       "      <td>CA</td>\n",
       "      <td>25</td>\n",
       "      <td>9</td>\n",
       "      <td>0.264706</td>\n",
       "    </tr>\n",
       "    <tr>\n",
       "      <th>2</th>\n",
       "      <td>TX</td>\n",
       "      <td>54</td>\n",
       "      <td>18</td>\n",
       "      <td>0.250000</td>\n",
       "    </tr>\n",
       "    <tr>\n",
       "      <th>3</th>\n",
       "      <td>MD</td>\n",
       "      <td>53</td>\n",
       "      <td>17</td>\n",
       "      <td>0.242857</td>\n",
       "    </tr>\n",
       "    <tr>\n",
       "      <th>4</th>\n",
       "      <td>SC</td>\n",
       "      <td>46</td>\n",
       "      <td>14</td>\n",
       "      <td>0.233333</td>\n",
       "    </tr>\n",
       "    <tr>\n",
       "      <th>5</th>\n",
       "      <td>MI</td>\n",
       "      <td>57</td>\n",
       "      <td>16</td>\n",
       "      <td>0.219178</td>\n",
       "    </tr>\n",
       "    <tr>\n",
       "      <th>6</th>\n",
       "      <td>MS</td>\n",
       "      <td>51</td>\n",
       "      <td>14</td>\n",
       "      <td>0.215385</td>\n",
       "    </tr>\n",
       "    <tr>\n",
       "      <th>7</th>\n",
       "      <td>NV</td>\n",
       "      <td>52</td>\n",
       "      <td>14</td>\n",
       "      <td>0.212121</td>\n",
       "    </tr>\n",
       "    <tr>\n",
       "      <th>8</th>\n",
       "      <td>WA</td>\n",
       "      <td>52</td>\n",
       "      <td>14</td>\n",
       "      <td>0.212121</td>\n",
       "    </tr>\n",
       "    <tr>\n",
       "      <th>9</th>\n",
       "      <td>ME</td>\n",
       "      <td>49</td>\n",
       "      <td>13</td>\n",
       "      <td>0.209677</td>\n",
       "    </tr>\n",
       "    <tr>\n",
       "      <th>10</th>\n",
       "      <td>MT</td>\n",
       "      <td>54</td>\n",
       "      <td>14</td>\n",
       "      <td>0.205882</td>\n",
       "    </tr>\n",
       "    <tr>\n",
       "      <th>11</th>\n",
       "      <td>AR</td>\n",
       "      <td>44</td>\n",
       "      <td>11</td>\n",
       "      <td>0.200000</td>\n",
       "    </tr>\n",
       "    <tr>\n",
       "      <th>12</th>\n",
       "      <td>KS</td>\n",
       "      <td>57</td>\n",
       "      <td>13</td>\n",
       "      <td>0.185714</td>\n",
       "    </tr>\n",
       "    <tr>\n",
       "      <th>13</th>\n",
       "      <td>NY</td>\n",
       "      <td>68</td>\n",
       "      <td>15</td>\n",
       "      <td>0.180723</td>\n",
       "    </tr>\n",
       "    <tr>\n",
       "      <th>14</th>\n",
       "      <td>MN</td>\n",
       "      <td>69</td>\n",
       "      <td>15</td>\n",
       "      <td>0.178571</td>\n",
       "    </tr>\n",
       "    <tr>\n",
       "      <th>15</th>\n",
       "      <td>PA</td>\n",
       "      <td>37</td>\n",
       "      <td>8</td>\n",
       "      <td>0.177778</td>\n",
       "    </tr>\n",
       "    <tr>\n",
       "      <th>16</th>\n",
       "      <td>MA</td>\n",
       "      <td>54</td>\n",
       "      <td>11</td>\n",
       "      <td>0.169231</td>\n",
       "    </tr>\n",
       "    <tr>\n",
       "      <th>17</th>\n",
       "      <td>CT</td>\n",
       "      <td>62</td>\n",
       "      <td>12</td>\n",
       "      <td>0.162162</td>\n",
       "    </tr>\n",
       "    <tr>\n",
       "      <th>18</th>\n",
       "      <td>NC</td>\n",
       "      <td>57</td>\n",
       "      <td>11</td>\n",
       "      <td>0.161765</td>\n",
       "    </tr>\n",
       "    <tr>\n",
       "      <th>19</th>\n",
       "      <td>NH</td>\n",
       "      <td>47</td>\n",
       "      <td>9</td>\n",
       "      <td>0.160714</td>\n",
       "    </tr>\n",
       "    <tr>\n",
       "      <th>20</th>\n",
       "      <td>GA</td>\n",
       "      <td>46</td>\n",
       "      <td>8</td>\n",
       "      <td>0.148148</td>\n",
       "    </tr>\n",
       "    <tr>\n",
       "      <th>21</th>\n",
       "      <td>DE</td>\n",
       "      <td>52</td>\n",
       "      <td>9</td>\n",
       "      <td>0.147541</td>\n",
       "    </tr>\n",
       "    <tr>\n",
       "      <th>22</th>\n",
       "      <td>OK</td>\n",
       "      <td>52</td>\n",
       "      <td>9</td>\n",
       "      <td>0.147541</td>\n",
       "    </tr>\n",
       "    <tr>\n",
       "      <th>23</th>\n",
       "      <td>OR</td>\n",
       "      <td>67</td>\n",
       "      <td>11</td>\n",
       "      <td>0.141026</td>\n",
       "    </tr>\n",
       "    <tr>\n",
       "      <th>24</th>\n",
       "      <td>UT</td>\n",
       "      <td>62</td>\n",
       "      <td>10</td>\n",
       "      <td>0.138889</td>\n",
       "    </tr>\n",
       "    <tr>\n",
       "      <th>25</th>\n",
       "      <td>CO</td>\n",
       "      <td>57</td>\n",
       "      <td>9</td>\n",
       "      <td>0.136364</td>\n",
       "    </tr>\n",
       "    <tr>\n",
       "      <th>26</th>\n",
       "      <td>KY</td>\n",
       "      <td>51</td>\n",
       "      <td>8</td>\n",
       "      <td>0.135593</td>\n",
       "    </tr>\n",
       "    <tr>\n",
       "      <th>27</th>\n",
       "      <td>SD</td>\n",
       "      <td>52</td>\n",
       "      <td>8</td>\n",
       "      <td>0.133333</td>\n",
       "    </tr>\n",
       "    <tr>\n",
       "      <th>28</th>\n",
       "      <td>OH</td>\n",
       "      <td>68</td>\n",
       "      <td>10</td>\n",
       "      <td>0.128205</td>\n",
       "    </tr>\n",
       "    <tr>\n",
       "      <th>29</th>\n",
       "      <td>FL</td>\n",
       "      <td>55</td>\n",
       "      <td>8</td>\n",
       "      <td>0.126984</td>\n",
       "    </tr>\n",
       "    <tr>\n",
       "      <th>30</th>\n",
       "      <td>IN</td>\n",
       "      <td>62</td>\n",
       "      <td>9</td>\n",
       "      <td>0.126761</td>\n",
       "    </tr>\n",
       "    <tr>\n",
       "      <th>31</th>\n",
       "      <td>ID</td>\n",
       "      <td>64</td>\n",
       "      <td>9</td>\n",
       "      <td>0.123288</td>\n",
       "    </tr>\n",
       "    <tr>\n",
       "      <th>32</th>\n",
       "      <td>WY</td>\n",
       "      <td>68</td>\n",
       "      <td>9</td>\n",
       "      <td>0.116883</td>\n",
       "    </tr>\n",
       "    <tr>\n",
       "      <th>33</th>\n",
       "      <td>MO</td>\n",
       "      <td>56</td>\n",
       "      <td>7</td>\n",
       "      <td>0.111111</td>\n",
       "    </tr>\n",
       "    <tr>\n",
       "      <th>34</th>\n",
       "      <td>VT</td>\n",
       "      <td>65</td>\n",
       "      <td>8</td>\n",
       "      <td>0.109589</td>\n",
       "    </tr>\n",
       "    <tr>\n",
       "      <th>35</th>\n",
       "      <td>AL</td>\n",
       "      <td>72</td>\n",
       "      <td>8</td>\n",
       "      <td>0.100000</td>\n",
       "    </tr>\n",
       "    <tr>\n",
       "      <th>36</th>\n",
       "      <td>NM</td>\n",
       "      <td>56</td>\n",
       "      <td>6</td>\n",
       "      <td>0.096774</td>\n",
       "    </tr>\n",
       "    <tr>\n",
       "      <th>37</th>\n",
       "      <td>ND</td>\n",
       "      <td>56</td>\n",
       "      <td>6</td>\n",
       "      <td>0.096774</td>\n",
       "    </tr>\n",
       "    <tr>\n",
       "      <th>38</th>\n",
       "      <td>WV</td>\n",
       "      <td>96</td>\n",
       "      <td>10</td>\n",
       "      <td>0.094340</td>\n",
       "    </tr>\n",
       "    <tr>\n",
       "      <th>39</th>\n",
       "      <td>TN</td>\n",
       "      <td>48</td>\n",
       "      <td>5</td>\n",
       "      <td>0.094340</td>\n",
       "    </tr>\n",
       "    <tr>\n",
       "      <th>40</th>\n",
       "      <td>DC</td>\n",
       "      <td>49</td>\n",
       "      <td>5</td>\n",
       "      <td>0.092593</td>\n",
       "    </tr>\n",
       "    <tr>\n",
       "      <th>41</th>\n",
       "      <td>RI</td>\n",
       "      <td>59</td>\n",
       "      <td>6</td>\n",
       "      <td>0.092308</td>\n",
       "    </tr>\n",
       "    <tr>\n",
       "      <th>42</th>\n",
       "      <td>WI</td>\n",
       "      <td>71</td>\n",
       "      <td>7</td>\n",
       "      <td>0.089744</td>\n",
       "    </tr>\n",
       "    <tr>\n",
       "      <th>43</th>\n",
       "      <td>IL</td>\n",
       "      <td>53</td>\n",
       "      <td>5</td>\n",
       "      <td>0.086207</td>\n",
       "    </tr>\n",
       "    <tr>\n",
       "      <th>44</th>\n",
       "      <td>NE</td>\n",
       "      <td>56</td>\n",
       "      <td>5</td>\n",
       "      <td>0.081967</td>\n",
       "    </tr>\n",
       "    <tr>\n",
       "      <th>45</th>\n",
       "      <td>LA</td>\n",
       "      <td>47</td>\n",
       "      <td>4</td>\n",
       "      <td>0.078431</td>\n",
       "    </tr>\n",
       "    <tr>\n",
       "      <th>46</th>\n",
       "      <td>IA</td>\n",
       "      <td>41</td>\n",
       "      <td>3</td>\n",
       "      <td>0.068182</td>\n",
       "    </tr>\n",
       "    <tr>\n",
       "      <th>47</th>\n",
       "      <td>VA</td>\n",
       "      <td>72</td>\n",
       "      <td>5</td>\n",
       "      <td>0.064935</td>\n",
       "    </tr>\n",
       "    <tr>\n",
       "      <th>48</th>\n",
       "      <td>AZ</td>\n",
       "      <td>60</td>\n",
       "      <td>4</td>\n",
       "      <td>0.062500</td>\n",
       "    </tr>\n",
       "    <tr>\n",
       "      <th>49</th>\n",
       "      <td>AK</td>\n",
       "      <td>49</td>\n",
       "      <td>3</td>\n",
       "      <td>0.057692</td>\n",
       "    </tr>\n",
       "    <tr>\n",
       "      <th>50</th>\n",
       "      <td>HI</td>\n",
       "      <td>50</td>\n",
       "      <td>3</td>\n",
       "      <td>0.056604</td>\n",
       "    </tr>\n",
       "  </tbody>\n",
       "</table>\n",
       "</div>"
      ],
      "text/plain": [
       "   state  num_retained  num_churned  churn rate\n",
       "0     NJ            50           18    0.264706\n",
       "1     CA            25            9    0.264706\n",
       "2     TX            54           18    0.250000\n",
       "3     MD            53           17    0.242857\n",
       "4     SC            46           14    0.233333\n",
       "5     MI            57           16    0.219178\n",
       "6     MS            51           14    0.215385\n",
       "7     NV            52           14    0.212121\n",
       "8     WA            52           14    0.212121\n",
       "9     ME            49           13    0.209677\n",
       "10    MT            54           14    0.205882\n",
       "11    AR            44           11    0.200000\n",
       "12    KS            57           13    0.185714\n",
       "13    NY            68           15    0.180723\n",
       "14    MN            69           15    0.178571\n",
       "15    PA            37            8    0.177778\n",
       "16    MA            54           11    0.169231\n",
       "17    CT            62           12    0.162162\n",
       "18    NC            57           11    0.161765\n",
       "19    NH            47            9    0.160714\n",
       "20    GA            46            8    0.148148\n",
       "21    DE            52            9    0.147541\n",
       "22    OK            52            9    0.147541\n",
       "23    OR            67           11    0.141026\n",
       "24    UT            62           10    0.138889\n",
       "25    CO            57            9    0.136364\n",
       "26    KY            51            8    0.135593\n",
       "27    SD            52            8    0.133333\n",
       "28    OH            68           10    0.128205\n",
       "29    FL            55            8    0.126984\n",
       "30    IN            62            9    0.126761\n",
       "31    ID            64            9    0.123288\n",
       "32    WY            68            9    0.116883\n",
       "33    MO            56            7    0.111111\n",
       "34    VT            65            8    0.109589\n",
       "35    AL            72            8    0.100000\n",
       "36    NM            56            6    0.096774\n",
       "37    ND            56            6    0.096774\n",
       "38    WV            96           10    0.094340\n",
       "39    TN            48            5    0.094340\n",
       "40    DC            49            5    0.092593\n",
       "41    RI            59            6    0.092308\n",
       "42    WI            71            7    0.089744\n",
       "43    IL            53            5    0.086207\n",
       "44    NE            56            5    0.081967\n",
       "45    LA            47            4    0.078431\n",
       "46    IA            41            3    0.068182\n",
       "47    VA            72            5    0.064935\n",
       "48    AZ            60            4    0.062500\n",
       "49    AK            49            3    0.057692\n",
       "50    HI            50            3    0.056604"
      ]
     },
     "execution_count": 19,
     "metadata": {},
     "output_type": "execute_result"
    }
   ],
   "source": [
    "# new column with churn rate (total customers - retained customers) / total\n",
    "df_states_churn['churn rate'] = df_states_churn.apply(lambda x: ((x['num_retained'] +  x['num_churned']) - x['num_retained']) / (x['num_retained'] +  x['num_churned']), axis=1)\n",
    "df_states_churn = df_states_churn.sort_values(['churn rate'], ascending=False)\n",
    "df_states_churn = df_states_churn.reset_index(drop=True)\n",
    "df_states_churn"
   ]
  },
  {
   "cell_type": "code",
   "execution_count": 20,
   "metadata": {},
   "outputs": [
    {
     "data": {
      "text/plain": [
       "Text(0, 0.5, 'Churn Rate')"
      ]
     },
     "execution_count": 20,
     "metadata": {},
     "output_type": "execute_result"
    },
    {
     "data": {
      "image/png": "[encoded data removed]",
      "text/plain": [
       "<Figure size 1152x576 with 1 Axes>"
      ]
     },
     "metadata": {},
     "output_type": "display_data"
    }
   ],
   "source": [
    "# visualize churn rate and states\n",
    "plt.figure(figsize=(16, 8))\n",
    "plt.bar(df_states_churn.state, df_states_churn['churn rate'])\n",
    "plt.title('Churn Rate by State', fontsize=14)\n",
    "plt.xlabel('State')\n",
    "plt.ylabel('Churn Rate')"
   ]
  },
  {
   "cell_type": "markdown",
   "metadata": {},
   "source": [
    "* New Jersey, California, and Texas have the highest churn rates with all being at least 25%. \n",
    "* Hawaii and Alaska have the lowest churn rates with slightly more than 5%.\n",
    "* These data may indicate that this company is able to provide services in more remote regions with HI and AK representing the two lowest churn rates."
   ]
  },
  {
   "cell_type": "markdown",
   "metadata": {},
   "source": [
    "## Is longer account length associated with lower churn rate?"
   ]
  },
  {
   "cell_type": "markdown",
   "metadata": {},
   "source": [
    "As a customer stays with the service longer, it is probably the case that they are more likely to continue with the service. It might be useful to look into trends of customers with a low account length vs. high account length. If customers can be retained in the short term, then they are probably more likely to continue with the service in the long term."
   ]
  },
  {
   "cell_type": "code",
   "execution_count": 21,
   "metadata": {},
   "outputs": [
    {
     "data": {
      "text/plain": [
       "count    3333.000000\n",
       "mean      101.064806\n",
       "std        39.822106\n",
       "min         1.000000\n",
       "25%        74.000000\n",
       "50%       101.000000\n",
       "75%       127.000000\n",
       "max       243.000000\n",
       "Name: account length, dtype: float64"
      ]
     },
     "execution_count": 21,
     "metadata": {},
     "output_type": "execute_result"
    }
   ],
   "source": [
    "df['account length'].describe()"
   ]
  },
  {
   "cell_type": "code",
   "execution_count": 22,
   "metadata": {},
   "outputs": [
    {
     "data": {
      "text/plain": [
       "{'whiskers': [<matplotlib.lines.Line2D at 0x2c17e5cbfd0>,\n",
       "  <matplotlib.lines.Line2D at 0x2c17e5d9370>],\n",
       " 'caps': [<matplotlib.lines.Line2D at 0x2c17e5d96d0>,\n",
       "  <matplotlib.lines.Line2D at 0x2c17e5d9a30>],\n",
       " 'boxes': [<matplotlib.lines.Line2D at 0x2c17e5cbc70>],\n",
       " 'medians': [<matplotlib.lines.Line2D at 0x2c17e5d9d90>],\n",
       " 'fliers': [<matplotlib.lines.Line2D at 0x2c17e5e7130>],\n",
       " 'means': []}"
      ]
     },
     "execution_count": 22,
     "metadata": {},
     "output_type": "execute_result"
    },
    {
     "data": {
      "image/png": "[encoded data removed]",
      "text/plain": [
       "<Figure size 576x396 with 1 Axes>"
      ]
     },
     "metadata": {},
     "output_type": "display_data"
    }
   ],
   "source": [
    "plt.boxplot(df['account length'])"
   ]
  },
  {
   "cell_type": "code",
   "execution_count": 23,
   "metadata": {},
   "outputs": [],
   "source": [
    "# df with account length >= 75%\n",
    "high_account_length = df.loc[df['account length'] >= 127.00]"
   ]
  },
  {
   "cell_type": "code",
   "execution_count": 24,
   "metadata": {},
   "outputs": [],
   "source": [
    "# df with account length <= 25%\n",
    "low_account_length = df.loc[df['account length'] <= 74.00]"
   ]
  },
  {
   "cell_type": "code",
   "execution_count": 25,
   "metadata": {},
   "outputs": [
    {
     "name": "stderr",
     "output_type": "stream",
     "text": [
      "C:\\Users\\samue\\anaconda_3\\envs\\learn-env\\lib\\site-packages\\pandas\\core\\frame.py:4163: SettingWithCopyWarning: \n",
      "A value is trying to be set on a copy of a slice from a DataFrame\n",
      "\n",
      "See the caveats in the documentation: https://pandas.pydata.org/pandas-docs/stable/user_guide/indexing.html#returning-a-view-versus-a-copy\n",
      "  return super().drop(\n"
     ]
    },
    {
     "data": {
      "text/html": [
       "<div>\n",
       "<style scoped>\n",
       "    .dataframe tbody tr th:only-of-type {\n",
       "        vertical-align: middle;\n",
       "    }\n",
       "\n",
       "    .dataframe tbody tr th {\n",
       "        vertical-align: top;\n",
       "    }\n",
       "\n",
       "    .dataframe thead th {\n",
       "        text-align: right;\n",
       "    }\n",
       "</style>\n",
       "<table border=\"1\" class=\"dataframe\">\n",
       "  <thead>\n",
       "    <tr style=\"text-align: right;\">\n",
       "      <th></th>\n",
       "      <th>state</th>\n",
       "      <th>account length</th>\n",
       "      <th>international plan</th>\n",
       "      <th>voice mail plan</th>\n",
       "      <th>number vmail messages</th>\n",
       "      <th>total day minutes</th>\n",
       "      <th>total day calls</th>\n",
       "      <th>total day charge</th>\n",
       "      <th>total eve minutes</th>\n",
       "      <th>total eve calls</th>\n",
       "      <th>total eve charge</th>\n",
       "      <th>total night minutes</th>\n",
       "      <th>total night calls</th>\n",
       "      <th>total night charge</th>\n",
       "      <th>total intl minutes</th>\n",
       "      <th>total intl calls</th>\n",
       "      <th>total intl charge</th>\n",
       "      <th>customer service calls</th>\n",
       "      <th>churn</th>\n",
       "    </tr>\n",
       "  </thead>\n",
       "  <tbody>\n",
       "    <tr>\n",
       "      <th>0</th>\n",
       "      <td>KS</td>\n",
       "      <td>128</td>\n",
       "      <td>0</td>\n",
       "      <td>1</td>\n",
       "      <td>25</td>\n",
       "      <td>265.1</td>\n",
       "      <td>110</td>\n",
       "      <td>45.07</td>\n",
       "      <td>197.4</td>\n",
       "      <td>99</td>\n",
       "      <td>16.78</td>\n",
       "      <td>244.7</td>\n",
       "      <td>91</td>\n",
       "      <td>11.01</td>\n",
       "      <td>10.0</td>\n",
       "      <td>3</td>\n",
       "      <td>2.70</td>\n",
       "      <td>1</td>\n",
       "      <td>0</td>\n",
       "    </tr>\n",
       "    <tr>\n",
       "      <th>2</th>\n",
       "      <td>NJ</td>\n",
       "      <td>137</td>\n",
       "      <td>0</td>\n",
       "      <td>0</td>\n",
       "      <td>0</td>\n",
       "      <td>243.4</td>\n",
       "      <td>114</td>\n",
       "      <td>41.38</td>\n",
       "      <td>121.2</td>\n",
       "      <td>110</td>\n",
       "      <td>10.30</td>\n",
       "      <td>162.6</td>\n",
       "      <td>104</td>\n",
       "      <td>7.32</td>\n",
       "      <td>12.2</td>\n",
       "      <td>5</td>\n",
       "      <td>3.29</td>\n",
       "      <td>0</td>\n",
       "      <td>0</td>\n",
       "    </tr>\n",
       "    <tr>\n",
       "      <th>7</th>\n",
       "      <td>MO</td>\n",
       "      <td>147</td>\n",
       "      <td>1</td>\n",
       "      <td>0</td>\n",
       "      <td>0</td>\n",
       "      <td>157.0</td>\n",
       "      <td>79</td>\n",
       "      <td>26.69</td>\n",
       "      <td>103.1</td>\n",
       "      <td>94</td>\n",
       "      <td>8.76</td>\n",
       "      <td>211.8</td>\n",
       "      <td>96</td>\n",
       "      <td>9.53</td>\n",
       "      <td>7.1</td>\n",
       "      <td>6</td>\n",
       "      <td>1.92</td>\n",
       "      <td>0</td>\n",
       "      <td>0</td>\n",
       "    </tr>\n",
       "    <tr>\n",
       "      <th>9</th>\n",
       "      <td>WV</td>\n",
       "      <td>141</td>\n",
       "      <td>1</td>\n",
       "      <td>1</td>\n",
       "      <td>37</td>\n",
       "      <td>258.6</td>\n",
       "      <td>84</td>\n",
       "      <td>43.96</td>\n",
       "      <td>222.0</td>\n",
       "      <td>111</td>\n",
       "      <td>18.87</td>\n",
       "      <td>326.4</td>\n",
       "      <td>97</td>\n",
       "      <td>14.69</td>\n",
       "      <td>11.2</td>\n",
       "      <td>5</td>\n",
       "      <td>3.02</td>\n",
       "      <td>0</td>\n",
       "      <td>0</td>\n",
       "    </tr>\n",
       "    <tr>\n",
       "      <th>12</th>\n",
       "      <td>IA</td>\n",
       "      <td>168</td>\n",
       "      <td>0</td>\n",
       "      <td>0</td>\n",
       "      <td>0</td>\n",
       "      <td>128.8</td>\n",
       "      <td>96</td>\n",
       "      <td>21.90</td>\n",
       "      <td>104.9</td>\n",
       "      <td>71</td>\n",
       "      <td>8.92</td>\n",
       "      <td>141.1</td>\n",
       "      <td>128</td>\n",
       "      <td>6.35</td>\n",
       "      <td>11.2</td>\n",
       "      <td>2</td>\n",
       "      <td>3.02</td>\n",
       "      <td>1</td>\n",
       "      <td>0</td>\n",
       "    </tr>\n",
       "    <tr>\n",
       "      <th>...</th>\n",
       "      <td>...</td>\n",
       "      <td>...</td>\n",
       "      <td>...</td>\n",
       "      <td>...</td>\n",
       "      <td>...</td>\n",
       "      <td>...</td>\n",
       "      <td>...</td>\n",
       "      <td>...</td>\n",
       "      <td>...</td>\n",
       "      <td>...</td>\n",
       "      <td>...</td>\n",
       "      <td>...</td>\n",
       "      <td>...</td>\n",
       "      <td>...</td>\n",
       "      <td>...</td>\n",
       "      <td>...</td>\n",
       "      <td>...</td>\n",
       "      <td>...</td>\n",
       "      <td>...</td>\n",
       "    </tr>\n",
       "    <tr>\n",
       "      <th>3307</th>\n",
       "      <td>OK</td>\n",
       "      <td>172</td>\n",
       "      <td>0</td>\n",
       "      <td>0</td>\n",
       "      <td>0</td>\n",
       "      <td>203.9</td>\n",
       "      <td>109</td>\n",
       "      <td>34.66</td>\n",
       "      <td>234.0</td>\n",
       "      <td>123</td>\n",
       "      <td>19.89</td>\n",
       "      <td>160.7</td>\n",
       "      <td>65</td>\n",
       "      <td>7.23</td>\n",
       "      <td>17.8</td>\n",
       "      <td>4</td>\n",
       "      <td>4.81</td>\n",
       "      <td>4</td>\n",
       "      <td>0</td>\n",
       "    </tr>\n",
       "    <tr>\n",
       "      <th>3311</th>\n",
       "      <td>LA</td>\n",
       "      <td>128</td>\n",
       "      <td>0</td>\n",
       "      <td>0</td>\n",
       "      <td>0</td>\n",
       "      <td>147.7</td>\n",
       "      <td>94</td>\n",
       "      <td>25.11</td>\n",
       "      <td>283.3</td>\n",
       "      <td>83</td>\n",
       "      <td>24.08</td>\n",
       "      <td>188.3</td>\n",
       "      <td>124</td>\n",
       "      <td>8.47</td>\n",
       "      <td>6.9</td>\n",
       "      <td>5</td>\n",
       "      <td>1.86</td>\n",
       "      <td>2</td>\n",
       "      <td>0</td>\n",
       "    </tr>\n",
       "    <tr>\n",
       "      <th>3312</th>\n",
       "      <td>SC</td>\n",
       "      <td>181</td>\n",
       "      <td>0</td>\n",
       "      <td>0</td>\n",
       "      <td>0</td>\n",
       "      <td>229.9</td>\n",
       "      <td>130</td>\n",
       "      <td>39.08</td>\n",
       "      <td>144.4</td>\n",
       "      <td>93</td>\n",
       "      <td>12.27</td>\n",
       "      <td>262.4</td>\n",
       "      <td>110</td>\n",
       "      <td>11.81</td>\n",
       "      <td>14.2</td>\n",
       "      <td>4</td>\n",
       "      <td>3.83</td>\n",
       "      <td>2</td>\n",
       "      <td>0</td>\n",
       "    </tr>\n",
       "    <tr>\n",
       "      <th>3313</th>\n",
       "      <td>ID</td>\n",
       "      <td>127</td>\n",
       "      <td>0</td>\n",
       "      <td>0</td>\n",
       "      <td>0</td>\n",
       "      <td>102.8</td>\n",
       "      <td>128</td>\n",
       "      <td>17.48</td>\n",
       "      <td>143.7</td>\n",
       "      <td>95</td>\n",
       "      <td>12.21</td>\n",
       "      <td>191.4</td>\n",
       "      <td>97</td>\n",
       "      <td>8.61</td>\n",
       "      <td>10.0</td>\n",
       "      <td>5</td>\n",
       "      <td>2.70</td>\n",
       "      <td>1</td>\n",
       "      <td>0</td>\n",
       "    </tr>\n",
       "    <tr>\n",
       "      <th>3315</th>\n",
       "      <td>ME</td>\n",
       "      <td>149</td>\n",
       "      <td>0</td>\n",
       "      <td>1</td>\n",
       "      <td>18</td>\n",
       "      <td>148.5</td>\n",
       "      <td>106</td>\n",
       "      <td>25.25</td>\n",
       "      <td>114.5</td>\n",
       "      <td>106</td>\n",
       "      <td>9.73</td>\n",
       "      <td>178.3</td>\n",
       "      <td>98</td>\n",
       "      <td>8.02</td>\n",
       "      <td>6.5</td>\n",
       "      <td>4</td>\n",
       "      <td>1.76</td>\n",
       "      <td>0</td>\n",
       "      <td>0</td>\n",
       "    </tr>\n",
       "  </tbody>\n",
       "</table>\n",
       "<p>857 rows × 19 columns</p>\n",
       "</div>"
      ],
      "text/plain": [
       "     state  account length  international plan  voice mail plan  \\\n",
       "0       KS             128                   0                1   \n",
       "2       NJ             137                   0                0   \n",
       "7       MO             147                   1                0   \n",
       "9       WV             141                   1                1   \n",
       "12      IA             168                   0                0   \n",
       "...    ...             ...                 ...              ...   \n",
       "3307    OK             172                   0                0   \n",
       "3311    LA             128                   0                0   \n",
       "3312    SC             181                   0                0   \n",
       "3313    ID             127                   0                0   \n",
       "3315    ME             149                   0                1   \n",
       "\n",
       "      number vmail messages  total day minutes  total day calls  \\\n",
       "0                        25              265.1              110   \n",
       "2                         0              243.4              114   \n",
       "7                         0              157.0               79   \n",
       "9                        37              258.6               84   \n",
       "12                        0              128.8               96   \n",
       "...                     ...                ...              ...   \n",
       "3307                      0              203.9              109   \n",
       "3311                      0              147.7               94   \n",
       "3312                      0              229.9              130   \n",
       "3313                      0              102.8              128   \n",
       "3315                     18              148.5              106   \n",
       "\n",
       "      total day charge  total eve minutes  total eve calls  total eve charge  \\\n",
       "0                45.07              197.4               99             16.78   \n",
       "2                41.38              121.2              110             10.30   \n",
       "7                26.69              103.1               94              8.76   \n",
       "9                43.96              222.0              111             18.87   \n",
       "12               21.90              104.9               71              8.92   \n",
       "...                ...                ...              ...               ...   \n",
       "3307             34.66              234.0              123             19.89   \n",
       "3311             25.11              283.3               83             24.08   \n",
       "3312             39.08              144.4               93             12.27   \n",
       "3313             17.48              143.7               95             12.21   \n",
       "3315             25.25              114.5              106              9.73   \n",
       "\n",
       "      total night minutes  total night calls  total night charge  \\\n",
       "0                   244.7                 91               11.01   \n",
       "2                   162.6                104                7.32   \n",
       "7                   211.8                 96                9.53   \n",
       "9                   326.4                 97               14.69   \n",
       "12                  141.1                128                6.35   \n",
       "...                   ...                ...                 ...   \n",
       "3307                160.7                 65                7.23   \n",
       "3311                188.3                124                8.47   \n",
       "3312                262.4                110               11.81   \n",
       "3313                191.4                 97                8.61   \n",
       "3315                178.3                 98                8.02   \n",
       "\n",
       "      total intl minutes  total intl calls  total intl charge  \\\n",
       "0                   10.0                 3               2.70   \n",
       "2                   12.2                 5               3.29   \n",
       "7                    7.1                 6               1.92   \n",
       "9                   11.2                 5               3.02   \n",
       "12                  11.2                 2               3.02   \n",
       "...                  ...               ...                ...   \n",
       "3307                17.8                 4               4.81   \n",
       "3311                 6.9                 5               1.86   \n",
       "3312                14.2                 4               3.83   \n",
       "3313                10.0                 5               2.70   \n",
       "3315                 6.5                 4               1.76   \n",
       "\n",
       "      customer service calls  churn  \n",
       "0                          1      0  \n",
       "2                          0      0  \n",
       "7                          0      0  \n",
       "9                          0      0  \n",
       "12                         1      0  \n",
       "...                      ...    ...  \n",
       "3307                       4      0  \n",
       "3311                       2      0  \n",
       "3312                       2      0  \n",
       "3313                       1      0  \n",
       "3315                       0      0  \n",
       "\n",
       "[857 rows x 19 columns]"
      ]
     },
     "execution_count": 25,
     "metadata": {},
     "output_type": "execute_result"
    }
   ],
   "source": [
    "# drop last 4 rows in high account length df\n",
    "high_account_length.drop(high_account_length.tail(4).index, inplace = True)\n",
    "high_account_length"
   ]
  },
  {
   "cell_type": "code",
   "execution_count": 26,
   "metadata": {},
   "outputs": [
    {
     "name": "stderr",
     "output_type": "stream",
     "text": [
      "<ipython-input-26-8164c291913b>:2: SettingWithCopyWarning: \n",
      "A value is trying to be set on a copy of a slice from a DataFrame.\n",
      "Try using .loc[row_indexer,col_indexer] = value instead\n",
      "\n",
      "See the caveats in the documentation: https://pandas.pydata.org/pandas-docs/stable/user_guide/indexing.html#returning-a-view-versus-a-copy\n",
      "  high_account_length['Long Account'] = lst\n"
     ]
    }
   ],
   "source": [
    "lst = [1] * 857\n",
    "high_account_length['Long Account'] = lst"
   ]
  },
  {
   "cell_type": "code",
   "execution_count": 27,
   "metadata": {},
   "outputs": [
    {
     "name": "stderr",
     "output_type": "stream",
     "text": [
      "<ipython-input-27-ee4d92db62c4>:2: SettingWithCopyWarning: \n",
      "A value is trying to be set on a copy of a slice from a DataFrame.\n",
      "Try using .loc[row_indexer,col_indexer] = value instead\n",
      "\n",
      "See the caveats in the documentation: https://pandas.pydata.org/pandas-docs/stable/user_guide/indexing.html#returning-a-view-versus-a-copy\n",
      "  low_account_length['Long Account'] = lst\n"
     ]
    }
   ],
   "source": [
    "lst = [0] * 857\n",
    "low_account_length['Long Account'] = lst"
   ]
  },
  {
   "cell_type": "code",
   "execution_count": 28,
   "metadata": {},
   "outputs": [],
   "source": [
    "low_account_length = low_account_length[['churn', 'Long Account']]\n",
    "high_account_length = high_account_length[['churn', 'Long Account']]"
   ]
  },
  {
   "cell_type": "code",
   "execution_count": 29,
   "metadata": {},
   "outputs": [
    {
     "data": {
      "text/html": [
       "<div>\n",
       "<style scoped>\n",
       "    .dataframe tbody tr th:only-of-type {\n",
       "        vertical-align: middle;\n",
       "    }\n",
       "\n",
       "    .dataframe tbody tr th {\n",
       "        vertical-align: top;\n",
       "    }\n",
       "\n",
       "    .dataframe thead th {\n",
       "        text-align: right;\n",
       "    }\n",
       "</style>\n",
       "<table border=\"1\" class=\"dataframe\">\n",
       "  <thead>\n",
       "    <tr style=\"text-align: right;\">\n",
       "      <th></th>\n",
       "      <th>churn</th>\n",
       "      <th>Long Account</th>\n",
       "    </tr>\n",
       "  </thead>\n",
       "  <tbody>\n",
       "    <tr>\n",
       "      <th>0</th>\n",
       "      <td>0</td>\n",
       "      <td>1</td>\n",
       "    </tr>\n",
       "    <tr>\n",
       "      <th>2</th>\n",
       "      <td>0</td>\n",
       "      <td>1</td>\n",
       "    </tr>\n",
       "    <tr>\n",
       "      <th>7</th>\n",
       "      <td>0</td>\n",
       "      <td>1</td>\n",
       "    </tr>\n",
       "    <tr>\n",
       "      <th>9</th>\n",
       "      <td>0</td>\n",
       "      <td>1</td>\n",
       "    </tr>\n",
       "    <tr>\n",
       "      <th>12</th>\n",
       "      <td>0</td>\n",
       "      <td>1</td>\n",
       "    </tr>\n",
       "    <tr>\n",
       "      <th>...</th>\n",
       "      <td>...</td>\n",
       "      <td>...</td>\n",
       "    </tr>\n",
       "    <tr>\n",
       "      <th>3321</th>\n",
       "      <td>0</td>\n",
       "      <td>0</td>\n",
       "    </tr>\n",
       "    <tr>\n",
       "      <th>3322</th>\n",
       "      <td>1</td>\n",
       "      <td>0</td>\n",
       "    </tr>\n",
       "    <tr>\n",
       "      <th>3329</th>\n",
       "      <td>0</td>\n",
       "      <td>0</td>\n",
       "    </tr>\n",
       "    <tr>\n",
       "      <th>3330</th>\n",
       "      <td>0</td>\n",
       "      <td>0</td>\n",
       "    </tr>\n",
       "    <tr>\n",
       "      <th>3332</th>\n",
       "      <td>0</td>\n",
       "      <td>0</td>\n",
       "    </tr>\n",
       "  </tbody>\n",
       "</table>\n",
       "<p>1714 rows × 2 columns</p>\n",
       "</div>"
      ],
      "text/plain": [
       "      churn  Long Account\n",
       "0         0             1\n",
       "2         0             1\n",
       "7         0             1\n",
       "9         0             1\n",
       "12        0             1\n",
       "...     ...           ...\n",
       "3321      0             0\n",
       "3322      1             0\n",
       "3329      0             0\n",
       "3330      0             0\n",
       "3332      0             0\n",
       "\n",
       "[1714 rows x 2 columns]"
      ]
     },
     "execution_count": 29,
     "metadata": {},
     "output_type": "execute_result"
    }
   ],
   "source": [
    "df_old_new_accounts = pd.concat([high_account_length, low_account_length], axis=0)\n",
    "df_old_new_accounts"
   ]
  },
  {
   "cell_type": "code",
   "execution_count": 30,
   "metadata": {},
   "outputs": [
    {
     "data": {
      "text/plain": [
       "<AxesSubplot:xlabel='Long Account'>"
      ]
     },
     "execution_count": 30,
     "metadata": {},
     "output_type": "execute_result"
    },
    {
     "data": {
      "image/png": "[encoded data removed]",
      "text/plain": [
       "<Figure size 864x576 with 1 Axes>"
      ]
     },
     "metadata": {},
     "output_type": "display_data"
    }
   ],
   "source": [
    "df_old_new_accounts.groupby(['Long Account', \"churn\"]).size().unstack().plot(\n",
    "    kind='bar', stacked=True, figsize=(12, 8)) "
   ]
  },
  {
   "cell_type": "markdown",
   "metadata": {},
   "source": [
    "* The churn rate is similar for customers that are relatively new to the service versus customers that have retained the service for a longer time."
   ]
  },
  {
   "cell_type": "markdown",
   "metadata": {},
   "source": [
    "## Are customers only charged for international calls if they do not have a plan?"
   ]
  },
  {
   "cell_type": "markdown",
   "metadata": {},
   "source": [
    "* It seems unclear what total international charge actually refers to.\n",
    "* Does the international charge column include the plan that the customer has?\n",
    "* If a customer has an international plan, is it safe to assume that the customer has always had that plan in the period of time this data was collected? It seems reasonable to assume so, or it might be a good idea to assume that the customer has had the plan for at least half of the time of their account length. * It might also be assumed that the customer had an international plan by the end of the data collection period."
   ]
  },
  {
   "cell_type": "code",
   "execution_count": 55,
   "metadata": {},
   "outputs": [],
   "source": [
    "# create df with relevant info (intl data)\n",
    "df_intl = pd.DataFrame()\n",
    "df_intl = df[['international plan', 'total intl minutes', 'total intl calls',\n",
    "              'total intl charge', 'account length']].copy()"
   ]
  },
  {
   "cell_type": "markdown",
   "metadata": {},
   "source": [
    "* So, it looks like customers are charged for international calls even if they have a plan.\n",
    "* It's too soon to tell what the true relationship is between international charge and total international minutes given the assumptions discussed earlier."
   ]
  },
  {
   "cell_type": "code",
   "execution_count": 56,
   "metadata": {},
   "outputs": [
    {
     "name": "stderr",
     "output_type": "stream",
     "text": [
      "<ipython-input-56-aeeaf984aabf>:3: RuntimeWarning: invalid value encountered in double_scalars\n",
      "  df_intl['intl_charge_per_hour'] = df_intl.apply(lambda x: (x['total intl charge'] / x['total intl minutes']) * 60,\n"
     ]
    },
    {
     "data": {
      "text/html": [
       "<div>\n",
       "<style scoped>\n",
       "    .dataframe tbody tr th:only-of-type {\n",
       "        vertical-align: middle;\n",
       "    }\n",
       "\n",
       "    .dataframe tbody tr th {\n",
       "        vertical-align: top;\n",
       "    }\n",
       "\n",
       "    .dataframe thead th {\n",
       "        text-align: right;\n",
       "    }\n",
       "</style>\n",
       "<table border=\"1\" class=\"dataframe\">\n",
       "  <thead>\n",
       "    <tr style=\"text-align: right;\">\n",
       "      <th></th>\n",
       "      <th>international plan</th>\n",
       "      <th>total intl minutes</th>\n",
       "      <th>total intl calls</th>\n",
       "      <th>total intl charge</th>\n",
       "      <th>account length</th>\n",
       "      <th>intl_charge_per_hour</th>\n",
       "    </tr>\n",
       "  </thead>\n",
       "  <tbody>\n",
       "    <tr>\n",
       "      <th>0</th>\n",
       "      <td>0</td>\n",
       "      <td>10.0</td>\n",
       "      <td>3</td>\n",
       "      <td>2.70</td>\n",
       "      <td>128</td>\n",
       "      <td>16.200000</td>\n",
       "    </tr>\n",
       "    <tr>\n",
       "      <th>1</th>\n",
       "      <td>0</td>\n",
       "      <td>13.7</td>\n",
       "      <td>3</td>\n",
       "      <td>3.70</td>\n",
       "      <td>107</td>\n",
       "      <td>16.204380</td>\n",
       "    </tr>\n",
       "    <tr>\n",
       "      <th>2</th>\n",
       "      <td>0</td>\n",
       "      <td>12.2</td>\n",
       "      <td>5</td>\n",
       "      <td>3.29</td>\n",
       "      <td>137</td>\n",
       "      <td>16.180328</td>\n",
       "    </tr>\n",
       "    <tr>\n",
       "      <th>3</th>\n",
       "      <td>1</td>\n",
       "      <td>6.6</td>\n",
       "      <td>7</td>\n",
       "      <td>1.78</td>\n",
       "      <td>84</td>\n",
       "      <td>16.181818</td>\n",
       "    </tr>\n",
       "    <tr>\n",
       "      <th>4</th>\n",
       "      <td>1</td>\n",
       "      <td>10.1</td>\n",
       "      <td>3</td>\n",
       "      <td>2.73</td>\n",
       "      <td>75</td>\n",
       "      <td>16.217822</td>\n",
       "    </tr>\n",
       "  </tbody>\n",
       "</table>\n",
       "</div>"
      ],
      "text/plain": [
       "   international plan  total intl minutes  total intl calls  \\\n",
       "0                   0                10.0                 3   \n",
       "1                   0                13.7                 3   \n",
       "2                   0                12.2                 5   \n",
       "3                   1                 6.6                 7   \n",
       "4                   1                10.1                 3   \n",
       "\n",
       "   total intl charge  account length  intl_charge_per_hour  \n",
       "0               2.70             128             16.200000  \n",
       "1               3.70             107             16.204380  \n",
       "2               3.29             137             16.180328  \n",
       "3               1.78              84             16.181818  \n",
       "4               2.73              75             16.217822  "
      ]
     },
     "execution_count": 56,
     "metadata": {},
     "output_type": "execute_result"
    }
   ],
   "source": [
    "# create a column with charge per international minute. It seems way more\n",
    "# likely that the company is charging per minute, not per call.\n",
    "df_intl['intl_charge_per_hour'] = df_intl.apply(lambda x: (x['total intl charge'] / x['total intl minutes']) * 60,\n",
    "                                                 axis=1)\n",
    "df_intl.head()"
   ]
  },
  {
   "cell_type": "code",
   "execution_count": 57,
   "metadata": {},
   "outputs": [
    {
     "data": {
      "text/plain": [
       "count    3315.000000\n",
       "mean       16.203393\n",
       "std         0.019735\n",
       "min        16.090909\n",
       "25%        16.188679\n",
       "50%        16.200000\n",
       "75%        16.217822\n",
       "max        16.363636\n",
       "Name: intl_charge_per_hour, dtype: float64"
      ]
     },
     "execution_count": 57,
     "metadata": {},
     "output_type": "execute_result"
    }
   ],
   "source": [
    "df_intl.intl_charge_per_hour.describe()"
   ]
  },
  {
   "cell_type": "code",
   "execution_count": 60,
   "metadata": {},
   "outputs": [
    {
     "name": "stdout",
     "output_type": "stream",
     "text": [
      "16.202296346338677 16.203511095061724\n"
     ]
    }
   ],
   "source": [
    "# find average charge per international hour for customers with and without\n",
    "# an international plan\n",
    "ave_charge_intlplan = df_intl.loc[df_intl['international plan'] == 1,\n",
    "                                  'intl_charge_per_hour'].mean()\n",
    "ave_charge_no_intlplan = df_intl.loc[df_intl['international plan'] == 0,\n",
    "                                  'intl_charge_per_hour'].mean()\n",
    "print(ave_charge_intlplan, ave_charge_no_intlplan)"
   ]
  },
  {
   "cell_type": "markdown",
   "metadata": {},
   "source": [
    "* There is almost no difference between how much customers pay for international minutes if they do or do not have an international plan.\n",
    "* This discovery begs the question- what does the international plan even do?"
   ]
  },
  {
   "cell_type": "code",
   "execution_count": 62,
   "metadata": {},
   "outputs": [
    {
     "data": {
      "text/plain": [
       "<AxesSubplot:xlabel='international plan'>"
      ]
     },
     "execution_count": 62,
     "metadata": {},
     "output_type": "execute_result"
    },
    {
     "data": {
      "image/png": "[encoded data removed]",
      "text/plain": [
       "<Figure size 576x576 with 1 Axes>"
      ]
     },
     "metadata": {},
     "output_type": "display_data"
    }
   ],
   "source": [
    "# recall the churn rate for international plans\n",
    "df.groupby(['international plan', 'churn']).size().unstack().plot(kind='bar', stacked=True, \n",
    "                                                   figsize=(8, 8))"
   ]
  },
  {
   "cell_type": "code",
   "execution_count": 65,
   "metadata": {},
   "outputs": [
    {
     "name": "stdout",
     "output_type": "stream",
     "text": [
      "42.41 11.5\n"
     ]
    }
   ],
   "source": [
    "# what are the exact churn rates for customers with and without an intl plan?\n",
    "international_plan_churn = df.loc[df['international plan'] == 1,\n",
    "                                  'churn'].mean()\n",
    "no_international_plan_churn = df.loc[df['international plan'] == 0,\n",
    "                                  'churn'].mean()\n",
    "print(round(international_plan_churn*100, 2), \n",
    "      round(no_international_plan_churn*100, 2))"
   ]
  },
  {
   "cell_type": "markdown",
   "metadata": {},
   "source": [
    "* The churn rate for customers with an international plan is 42.41% and the churn rate for customers without one is 11.5%.\n",
    "* Given the findings in this section, it seems as though the international plan does absolutely nothing, and customers are probably unhappy with the plan, which causes high churn."
   ]
  },
  {
   "cell_type": "markdown",
   "metadata": {},
   "source": [
    "## Is total charge for the customer associated with churn?"
   ]
  },
  {
   "cell_type": "markdown",
   "metadata": {},
   "source": [
    "* If a customer is paying an exorbitant amount for their service, it would be logical to assume they would probably shop around for another service, and thus, higher amounts may be associated with higher churn rates.\n",
    "* International charge will not be included in total charge because it seems redundant to include this data due to the findings in the previous section."
   ]
  },
  {
   "cell_type": "code",
   "execution_count": 31,
   "metadata": {},
   "outputs": [
    {
     "data": {
      "text/html": [
       "<div>\n",
       "<style scoped>\n",
       "    .dataframe tbody tr th:only-of-type {\n",
       "        vertical-align: middle;\n",
       "    }\n",
       "\n",
       "    .dataframe tbody tr th {\n",
       "        vertical-align: top;\n",
       "    }\n",
       "\n",
       "    .dataframe thead th {\n",
       "        text-align: right;\n",
       "    }\n",
       "</style>\n",
       "<table border=\"1\" class=\"dataframe\">\n",
       "  <thead>\n",
       "    <tr style=\"text-align: right;\">\n",
       "      <th></th>\n",
       "      <th>total day charge</th>\n",
       "      <th>total eve charge</th>\n",
       "      <th>total night charge</th>\n",
       "    </tr>\n",
       "  </thead>\n",
       "  <tbody>\n",
       "    <tr>\n",
       "      <th>count</th>\n",
       "      <td>3333.000000</td>\n",
       "      <td>3333.000000</td>\n",
       "      <td>3333.000000</td>\n",
       "    </tr>\n",
       "    <tr>\n",
       "      <th>mean</th>\n",
       "      <td>30.562307</td>\n",
       "      <td>17.083540</td>\n",
       "      <td>9.039325</td>\n",
       "    </tr>\n",
       "    <tr>\n",
       "      <th>std</th>\n",
       "      <td>9.259435</td>\n",
       "      <td>4.310668</td>\n",
       "      <td>2.275873</td>\n",
       "    </tr>\n",
       "    <tr>\n",
       "      <th>min</th>\n",
       "      <td>0.000000</td>\n",
       "      <td>0.000000</td>\n",
       "      <td>1.040000</td>\n",
       "    </tr>\n",
       "    <tr>\n",
       "      <th>25%</th>\n",
       "      <td>24.430000</td>\n",
       "      <td>14.160000</td>\n",
       "      <td>7.520000</td>\n",
       "    </tr>\n",
       "    <tr>\n",
       "      <th>50%</th>\n",
       "      <td>30.500000</td>\n",
       "      <td>17.120000</td>\n",
       "      <td>9.050000</td>\n",
       "    </tr>\n",
       "    <tr>\n",
       "      <th>75%</th>\n",
       "      <td>36.790000</td>\n",
       "      <td>20.000000</td>\n",
       "      <td>10.590000</td>\n",
       "    </tr>\n",
       "    <tr>\n",
       "      <th>max</th>\n",
       "      <td>59.640000</td>\n",
       "      <td>30.910000</td>\n",
       "      <td>17.770000</td>\n",
       "    </tr>\n",
       "  </tbody>\n",
       "</table>\n",
       "</div>"
      ],
      "text/plain": [
       "       total day charge  total eve charge  total night charge\n",
       "count       3333.000000       3333.000000         3333.000000\n",
       "mean          30.562307         17.083540            9.039325\n",
       "std            9.259435          4.310668            2.275873\n",
       "min            0.000000          0.000000            1.040000\n",
       "25%           24.430000         14.160000            7.520000\n",
       "50%           30.500000         17.120000            9.050000\n",
       "75%           36.790000         20.000000           10.590000\n",
       "max           59.640000         30.910000           17.770000"
      ]
     },
     "execution_count": 31,
     "metadata": {},
     "output_type": "execute_result"
    }
   ],
   "source": [
    "df[['total day charge', 'total eve charge', 'total night charge']].describe()"
   ]
  },
  {
   "cell_type": "code",
   "execution_count": 66,
   "metadata": {},
   "outputs": [
    {
     "data": {
      "text/html": [
       "<div>\n",
       "<style scoped>\n",
       "    .dataframe tbody tr th:only-of-type {\n",
       "        vertical-align: middle;\n",
       "    }\n",
       "\n",
       "    .dataframe tbody tr th {\n",
       "        vertical-align: top;\n",
       "    }\n",
       "\n",
       "    .dataframe thead th {\n",
       "        text-align: right;\n",
       "    }\n",
       "</style>\n",
       "<table border=\"1\" class=\"dataframe\">\n",
       "  <thead>\n",
       "    <tr style=\"text-align: right;\">\n",
       "      <th></th>\n",
       "      <th>typical_total_monthly_charge</th>\n",
       "      <th>churn</th>\n",
       "    </tr>\n",
       "  </thead>\n",
       "  <tbody>\n",
       "    <tr>\n",
       "      <th>0</th>\n",
       "      <td>0.569219</td>\n",
       "      <td>0</td>\n",
       "    </tr>\n",
       "    <tr>\n",
       "      <th>1</th>\n",
       "      <td>0.519065</td>\n",
       "      <td>0</td>\n",
       "    </tr>\n",
       "    <tr>\n",
       "      <th>2</th>\n",
       "      <td>0.430657</td>\n",
       "      <td>0</td>\n",
       "    </tr>\n",
       "    <tr>\n",
       "      <th>3</th>\n",
       "      <td>0.774048</td>\n",
       "      <td>0</td>\n",
       "    </tr>\n",
       "    <tr>\n",
       "      <th>4</th>\n",
       "      <td>0.658133</td>\n",
       "      <td>0</td>\n",
       "    </tr>\n",
       "  </tbody>\n",
       "</table>\n",
       "</div>"
      ],
      "text/plain": [
       "   typical_total_monthly_charge  churn\n",
       "0                      0.569219      0\n",
       "1                      0.519065      0\n",
       "2                      0.430657      0\n",
       "3                      0.774048      0\n",
       "4                      0.658133      0"
      ]
     },
     "execution_count": 66,
     "metadata": {},
     "output_type": "execute_result"
    }
   ],
   "source": [
    "df_charges = pd.DataFrame()\n",
    "df_charges = df[['total day charge', 'total eve charge', 'total night charge',\n",
    "                 'account length', 'churn']].copy()\n",
    "\n",
    "df_charges['total_charge'] = df_charges.apply(lambda x: x['total day charge'] + x['total eve charge'] + x['total night charge'],\n",
    "                                             axis=1) \n",
    "\n",
    "df_charges['typical_total_monthly_charge'] = df_charges.apply(lambda x: x['total_charge'] / x['account length'],\n",
    "                                                        axis=1)\n",
    "df_charges = df_charges[['typical_total_monthly_charge', 'churn']]\n",
    "df_charges.head()"
   ]
  },
  {
   "cell_type": "code",
   "execution_count": 45,
   "metadata": {},
   "outputs": [
    {
     "data": {
      "text/html": [
       "<div>\n",
       "<style scoped>\n",
       "    .dataframe tbody tr th:only-of-type {\n",
       "        vertical-align: middle;\n",
       "    }\n",
       "\n",
       "    .dataframe tbody tr th {\n",
       "        vertical-align: top;\n",
       "    }\n",
       "\n",
       "    .dataframe thead th {\n",
       "        text-align: right;\n",
       "    }\n",
       "</style>\n",
       "<table border=\"1\" class=\"dataframe\">\n",
       "  <thead>\n",
       "    <tr style=\"text-align: right;\">\n",
       "      <th></th>\n",
       "      <th>typical_total_monthly_charge</th>\n",
       "      <th>churn</th>\n",
       "    </tr>\n",
       "  </thead>\n",
       "  <tbody>\n",
       "    <tr>\n",
       "      <th>count</th>\n",
       "      <td>3333.000000</td>\n",
       "      <td>3333.000000</td>\n",
       "    </tr>\n",
       "    <tr>\n",
       "      <th>mean</th>\n",
       "      <td>0.930584</td>\n",
       "      <td>0.144914</td>\n",
       "    </tr>\n",
       "    <tr>\n",
       "      <th>std</th>\n",
       "      <td>2.927339</td>\n",
       "      <td>0.352067</td>\n",
       "    </tr>\n",
       "    <tr>\n",
       "      <th>min</th>\n",
       "      <td>0.158488</td>\n",
       "      <td>0.000000</td>\n",
       "    </tr>\n",
       "    <tr>\n",
       "      <th>25%</th>\n",
       "      <td>0.447424</td>\n",
       "      <td>0.000000</td>\n",
       "    </tr>\n",
       "    <tr>\n",
       "      <th>50%</th>\n",
       "      <td>0.589368</td>\n",
       "      <td>0.000000</td>\n",
       "    </tr>\n",
       "    <tr>\n",
       "      <th>75%</th>\n",
       "      <td>0.815570</td>\n",
       "      <td>0.000000</td>\n",
       "    </tr>\n",
       "    <tr>\n",
       "      <th>max</th>\n",
       "      <td>69.950000</td>\n",
       "      <td>1.000000</td>\n",
       "    </tr>\n",
       "  </tbody>\n",
       "</table>\n",
       "</div>"
      ],
      "text/plain": [
       "       typical_total_monthly_charge        churn\n",
       "count                   3333.000000  3333.000000\n",
       "mean                       0.930584     0.144914\n",
       "std                        2.927339     0.352067\n",
       "min                        0.158488     0.000000\n",
       "25%                        0.447424     0.000000\n",
       "50%                        0.589368     0.000000\n",
       "75%                        0.815570     0.000000\n",
       "max                       69.950000     1.000000"
      ]
     },
     "execution_count": 45,
     "metadata": {},
     "output_type": "execute_result"
    }
   ],
   "source": [
    "df_charges.describe()"
   ]
  },
  {
   "cell_type": "markdown",
   "metadata": {},
   "source": [
    "The maximum average monthly payment is quite high compared to the mean."
   ]
  },
  {
   "cell_type": "code",
   "execution_count": 67,
   "metadata": {},
   "outputs": [
    {
     "data": {
      "text/plain": [
       "{'whiskers': [<matplotlib.lines.Line2D at 0x2c1001a8c40>,\n",
       "  <matplotlib.lines.Line2D at 0x2c17c6d96d0>],\n",
       " 'caps': [<matplotlib.lines.Line2D at 0x2c17c6d9580>,\n",
       "  <matplotlib.lines.Line2D at 0x2c17f8bbc70>],\n",
       " 'boxes': [<matplotlib.lines.Line2D at 0x2c1001a80d0>],\n",
       " 'medians': [<matplotlib.lines.Line2D at 0x2c17c7cbb80>],\n",
       " 'fliers': [<matplotlib.lines.Line2D at 0x2c100bf6400>],\n",
       " 'means': []}"
      ]
     },
     "execution_count": 67,
     "metadata": {},
     "output_type": "execute_result"
    },
    {
     "data": {
      "image/png": "[encoded data removed]",
      "text/plain": [
       "<Figure size 576x396 with 1 Axes>"
      ]
     },
     "metadata": {},
     "output_type": "display_data"
    }
   ],
   "source": [
    "plt.boxplot(df_charges.typical_total_monthly_charge)"
   ]
  },
  {
   "cell_type": "markdown",
   "metadata": {},
   "source": [
    "# Conclusions"
   ]
  },
  {
   "cell_type": "markdown",
   "metadata": {},
   "source": [
    "## Main findings"
   ]
  },
  {
   "cell_type": "markdown",
   "metadata": {},
   "source": [
    "* Area code does not seem like a useful column as it is likely incorrectly stored in the dataset.\n",
    "* Customers with an international plan are more likely to churn than customers without one.\n",
    "* Customers with a voice mail plan are more likely to churn than without one.\n",
    "* Customers with 4 or more customer service calls are likely to churn.\n",
    "* Customers with more than 6 international calls or less than 2 international calls are less likely to churn than those with 2-6.\n",
    "* New Jersey, California, and Texas have the highest churn rates with all being at least 25%. \n",
    "* Hawaii and Alaska have the lowest churn rates with slightly more than 5%.\n",
    "* The international plan does not seem to offer any value.\n",
    "* The churn rate for customers with an international plan is 42.41% and the churn rate for customers without one is 11.5%."
   ]
  },
  {
   "cell_type": "markdown",
   "metadata": {},
   "source": [
    "## Potential Recommendations"
   ]
  },
  {
   "cell_type": "markdown",
   "metadata": {},
   "source": [
    "* Due to the churn rates associated with international and voice mail plans, it may be useful to develop better plans or lower the cost of these plans in order to retain customers.\n",
    "* Customers with repeated calls (4+) are likely to churn, so it would be useful to invest more money into developing better customer service in order to retain business.\n",
    "* These data may indicate that this company is able to provide services in more remote regions with HI and AK representing the two lowest churn rates.\n",
    "* Immediately improve the international plan or remove it entirely."
   ]
  },
  {
   "cell_type": "code",
   "execution_count": null,
   "metadata": {},
   "outputs": [],
   "source": []
  }
 ],
 "metadata": {
  "kernelspec": {
   "display_name": "Python (learn-env)",
   "language": "python",
   "name": "learn-env"
  },
  "language_info": {
   "codemirror_mode": {
    "name": "ipython",
    "version": 3
   },
   "file_extension": ".py",
   "mimetype": "text/x-python",
   "name": "python",
   "nbconvert_exporter": "python",
   "pygments_lexer": "ipython3",
   "version": "3.8.5"
  },
  "toc": {
   "base_numbering": 1,
   "nav_menu": {},
   "number_sections": true,
   "sideBar": true,
   "skip_h1_title": false,
   "title_cell": "Table of Contents",
   "title_sidebar": "Contents",
   "toc_cell": false,
   "toc_position": {
    "height": "calc(100% - 180px)",
    "left": "10px",
    "top": "150px",
    "width": "327px"
   },
   "toc_section_display": true,
   "toc_window_display": true
  }
 },
 "nbformat": 4,
 "nbformat_minor": 4
}
