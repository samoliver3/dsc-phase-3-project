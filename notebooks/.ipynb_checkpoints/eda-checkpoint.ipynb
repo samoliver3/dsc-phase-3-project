{
 "cells": [
  {
   "cell_type": "markdown",
   "metadata": {},
   "source": [
    "# Exploratory Data Analysis (EDA)\n",
    "This notebook will import and clean the data and offer initial insights into the dataset."
   ]
  },
  {
   "cell_type": "markdown",
   "metadata": {},
   "source": [
    "# Business Problem\n",
    "The stakeholder is SyriaTel, a telecommunications company in Syria, and this company wants to reduce money lost due to churn (customers leaving). The stakeholder wants to identify patterns found in churned customers in a US dataset so that they can implement strategies aimed at reducing their churn rate. These strategies will specifically target customers that can be classified as likely to churn."
   ]
  },
  {
   "cell_type": "markdown",
   "metadata": {},
   "source": [
    "# Import and Clean the Data"
   ]
  },
  {
   "cell_type": "code",
   "execution_count": null,
   "metadata": {},
   "outputs": [],
   "source": [
    "# imports\n",
    "import pandas as pd\n",
    "import numpy as np\n",
    "import matplotlib.pyplot as plt\n",
    "import seaborn as sns\n",
    "import csv\n",
    "%matplotlib inline\n",
    "\n",
    "plt.style.use('seaborn')"
   ]
  },
  {
   "cell_type": "code",
   "execution_count": null,
   "metadata": {
    "scrolled": true
   },
   "outputs": [],
   "source": [
    "# import the dataset\n",
    "df = pd.read_csv('..\\\\data\\\\telecom_data.csv')\n",
    "df"
   ]
  },
  {
   "cell_type": "code",
   "execution_count": null,
   "metadata": {},
   "outputs": [],
   "source": [
    "# drop exact duplicates (same exact values across rows)\n",
    "# there shouldn't be any same rows because of unique values like area code + #\n",
    "df = df.drop_duplicates()"
   ]
  },
  {
   "cell_type": "code",
   "execution_count": null,
   "metadata": {
    "scrolled": true
   },
   "outputs": [],
   "source": [
    "# check for null data\n",
    "df.info()"
   ]
  },
  {
   "cell_type": "markdown",
   "metadata": {},
   "source": [
    "* The dataset looks fairly clean already (no non-null items). But there are object datatypes that I will likely have to handle in some way."
   ]
  },
  {
   "cell_type": "code",
   "execution_count": null,
   "metadata": {},
   "outputs": [],
   "source": [
    "# Handle object types for international plan and voice mail plan\n",
    "df.loc[df['international plan'] == 'no', 'international plan'] = 0\n",
    "df.loc[df['international plan'] == 'yes', 'international plan'] = 1 \n",
    "\n",
    "df.loc[df['voice mail plan'] == 'no', 'voice mail plan'] = 0\n",
    "df.loc[df['voice mail plan']== 'yes', 'voice mail plan'] = 1"
   ]
  },
  {
   "cell_type": "code",
   "execution_count": null,
   "metadata": {},
   "outputs": [],
   "source": [
    "# Change churn to values: 1 (churned/True) 0 (no churn/False)\n",
    "df.loc[df['churn'] == True, 'churn'] = 1\n",
    "df.loc[df['churn'] == False, 'churn'] = 0"
   ]
  },
  {
   "cell_type": "code",
   "execution_count": null,
   "metadata": {
    "scrolled": true
   },
   "outputs": [],
   "source": [
    "# going to create backup df and drop phone number from original df\n",
    "# phone number could be used as unique id, but it doesn't seem necessary\n",
    "df_backup = df.copy()\n",
    "df = df.drop(['phone number'], axis=1)"
   ]
  },
  {
   "cell_type": "code",
   "execution_count": null,
   "metadata": {},
   "outputs": [],
   "source": [
    "# checking unique count of states represented in dataset\n",
    "df.state.unique().size"
   ]
  },
  {
   "cell_type": "markdown",
   "metadata": {},
   "source": [
    "51 total states represented- all states & DC"
   ]
  },
  {
   "cell_type": "code",
   "execution_count": null,
   "metadata": {},
   "outputs": [],
   "source": [
    "# casting int values to churn, voice mail plan, and international plan cols\n",
    "objs = ['international plan', 'voice mail plan', 'churn']\n",
    "\n",
    "for o in objs:\n",
    "    df = df.astype({o: int})"
   ]
  },
  {
   "cell_type": "code",
   "execution_count": null,
   "metadata": {},
   "outputs": [],
   "source": [
    "df.info()"
   ]
  },
  {
   "cell_type": "markdown",
   "metadata": {},
   "source": [
    "# Exploration of the Data"
   ]
  },
  {
   "cell_type": "markdown",
   "metadata": {},
   "source": [
    "## Analyzing distribution of each variable"
   ]
  },
  {
   "cell_type": "code",
   "execution_count": null,
   "metadata": {},
   "outputs": [],
   "source": [
    "# plot histograms of all the columns in the set.\n",
    "df.hist(bins=50, figsize=(25, 12.5))"
   ]
  },
  {
   "cell_type": "markdown",
   "metadata": {},
   "source": [
    "Notes on distributions:\n",
    "* Account length - normal distribution\n",
    "* There are only 3 different area codes - how can that be if there are 51 different states? \n",
    "* Vast majority of customers do not have an international plan.\n",
    "* About 1/3rd of customers have a voice mail plan.\n",
    "* The vast majority of customers have 0 voice mail messages\n",
    "* Other normal distributions (or approximately normal distributions): total day minutes, total day calls, total day charge, total eve minutes, total eve calls, total eve charge, total night minutes, total night calls, total night charge, total intl minutes, and total intl charge.\n",
    "* Most people have had 0-2 customer service calls.\n",
    "* Most people have had 2-4 international calls."
   ]
  },
  {
   "cell_type": "code",
   "execution_count": null,
   "metadata": {},
   "outputs": [],
   "source": [
    "# double checking that there are only 3 area codes.\n",
    "df['area code'].unique()"
   ]
  },
  {
   "cell_type": "markdown",
   "metadata": {},
   "source": [
    "It doesn't make sense that there would only be 3 area codes while every state is represented. Is this column simply incorrect?"
   ]
  },
  {
   "cell_type": "code",
   "execution_count": null,
   "metadata": {},
   "outputs": [],
   "source": [
    "# histogram for states and their frequencies\n",
    "df.state.hist(bins=51, figsize=(20, 8))"
   ]
  },
  {
   "cell_type": "markdown",
   "metadata": {},
   "source": [
    "* Fairly even representation of states in the dataset. \n",
    "* DC is included as the 51st.\n",
    "* WV (West Virginia) has the biggest representation in the dataset."
   ]
  },
  {
   "cell_type": "markdown",
   "metadata": {},
   "source": [
    "## Visualizing variables and churn rate"
   ]
  },
  {
   "cell_type": "code",
   "execution_count": null,
   "metadata": {},
   "outputs": [],
   "source": [
    "# going to create some bar graphs to get an idea for churn rate for some vars.\n",
    "bar_vars = ['area code', 'international plan', 'voice mail plan', \n",
    "            'customer service calls', 'total intl calls']"
   ]
  },
  {
   "cell_type": "code",
   "execution_count": null,
   "metadata": {
    "scrolled": false
   },
   "outputs": [],
   "source": [
    "# visualize scatterplots of histograms with price as y variable\n",
    "for v in bar_vars:\n",
    "    df.groupby([v, \"churn\"]).size().unstack().plot(kind='bar', stacked=True, \n",
    "                                                   figsize=(8, 8)) "
   ]
  },
  {
   "cell_type": "code",
   "execution_count": null,
   "metadata": {},
   "outputs": [],
   "source": [
    "# check for state too\n",
    "df.groupby(['state', \"churn\"]).size().unstack().plot(kind='bar', stacked=True, \n",
    "                                               figsize=(12, 8)) "
   ]
  },
  {
   "cell_type": "markdown",
   "metadata": {},
   "source": [
    "Comments on churn rates and variables evaluated thus far:\n",
    "* Customers in area code 415 are more likely to churn than other area codes\n",
    "* Customers with an international plan are more likely to churn than customers without one.\n",
    "* Customers with a voice mail plan are more likely to churn than without one.\n",
    "* Customers with 4 or more customer service calls are likely to churn.\n",
    "* Customers with more than 6 international calls or less than 2 international calls are less likely to churn than those with 2-6.\n",
    "* Some states have a particularly low churn rate such as Alaska, Hawaii, and Iowa, but it's difficult to tell from this histogram if state is a particularly important feature."
   ]
  },
  {
   "cell_type": "markdown",
   "metadata": {},
   "source": [
    "At this point, it does not seem that area code is a data column that was stored properly, and there are obviously issues with it; so it will be dropped from the dataset."
   ]
  },
  {
   "cell_type": "code",
   "execution_count": null,
   "metadata": {},
   "outputs": [],
   "source": [
    "# dropping area code\n",
    "df = df.drop(['area code'], axis=1)"
   ]
  },
  {
   "cell_type": "code",
   "execution_count": null,
   "metadata": {},
   "outputs": [],
   "source": [
    "df_s = pd.DataFrame()\n",
    "df_s = df.groupby(['state', \"churn\"]).size().unstack()\n",
    "\n",
    "# df_s is kind of a weird datatype... going to concat useful info into new df\n",
    "dddd = df_s[1].reset_index()\n",
    "ddd = df_s[0].reset_index()\n",
    "df_states_churn = pd.concat([ddd['state'], ddd[0], dddd[1]], axis=1)\n",
    "df_states_churn.columns = ['state', 'num_retained', 'num_churned']"
   ]
  },
  {
   "cell_type": "code",
   "execution_count": null,
   "metadata": {
    "scrolled": true
   },
   "outputs": [],
   "source": [
    "# new column with churn rate (total customers - retained customers) / total\n",
    "df_states_churn['churn rate'] = df_states_churn.apply(lambda x: ((x['num_retained'] +  x['num_churned']) - x['num_retained']) / (x['num_retained'] +  x['num_churned']), axis=1)\n",
    "df_states_churn = df_states_churn.sort_values(['churn rate'], ascending=False)\n",
    "df_states_churn = df_states_churn.reset_index(drop=True)\n",
    "df_states_churn"
   ]
  },
  {
   "cell_type": "code",
   "execution_count": null,
   "metadata": {},
   "outputs": [],
   "source": [
    "# visualize churn rate and states\n",
    "plt.figure(figsize=(16, 8))\n",
    "plt.bar(df_states_churn.state, df_states_churn['churn rate'])\n",
    "plt.title('Churn Rate by State', fontsize=14)\n",
    "plt.xlabel('State')\n",
    "plt.ylabel('Churn Rate')"
   ]
  },
  {
   "cell_type": "markdown",
   "metadata": {},
   "source": [
    "* New Jersey, California, and Texas have the highest churn rates with all being at least 25%. \n",
    "* Hawaii and Alaska have the lowest churn rates with slightly more than 5%.\n",
    "* These data may indicate that this company is able to provide services in more remote regions with HI and AK representing the two lowest churn rates."
   ]
  },
  {
   "cell_type": "markdown",
   "metadata": {},
   "source": [
    "## Is longer account length associated with lower churn rate?"
   ]
  },
  {
   "cell_type": "markdown",
   "metadata": {},
   "source": [
    "As a customer stays with the service longer, it is probably the case that they are more likely to continue with the service. It might be useful to look into trends of customers with a low account length vs. high account length. If customers can be retained in the short term, then they are probably more likely to continue with the service in the long term."
   ]
  },
  {
   "cell_type": "code",
   "execution_count": null,
   "metadata": {},
   "outputs": [],
   "source": [
    "df['account length'].describe()"
   ]
  },
  {
   "cell_type": "markdown",
   "metadata": {},
   "source": [
    "Average length of customer being at the company is about 8.42 years."
   ]
  },
  {
   "cell_type": "code",
   "execution_count": null,
   "metadata": {},
   "outputs": [],
   "source": [
    "plt.boxplot(df['account length'])"
   ]
  },
  {
   "cell_type": "code",
   "execution_count": null,
   "metadata": {},
   "outputs": [],
   "source": [
    "# df with account length >= 75%\n",
    "high_account_length = df.loc[df['account length'] >= 127.00]"
   ]
  },
  {
   "cell_type": "code",
   "execution_count": null,
   "metadata": {},
   "outputs": [],
   "source": [
    "# df with account length <= 25%\n",
    "low_account_length = df.loc[df['account length'] <= 74.00]"
   ]
  },
  {
   "cell_type": "code",
   "execution_count": null,
   "metadata": {},
   "outputs": [],
   "source": [
    "# drop last 4 rows in high account length df\n",
    "high_account_length.drop(high_account_length.tail(4).index, inplace = True)\n",
    "high_account_length"
   ]
  },
  {
   "cell_type": "code",
   "execution_count": null,
   "metadata": {},
   "outputs": [],
   "source": [
    "lst = [1] * 857\n",
    "high_account_length['Long Account'] = lst"
   ]
  },
  {
   "cell_type": "code",
   "execution_count": null,
   "metadata": {},
   "outputs": [],
   "source": [
    "lst = [0] * 857\n",
    "low_account_length['Long Account'] = lst"
   ]
  },
  {
   "cell_type": "code",
   "execution_count": null,
   "metadata": {},
   "outputs": [],
   "source": [
    "low_account_length = low_account_length[['churn', 'Long Account']]\n",
    "high_account_length = high_account_length[['churn', 'Long Account']]"
   ]
  },
  {
   "cell_type": "code",
   "execution_count": null,
   "metadata": {},
   "outputs": [],
   "source": [
    "df_old_new_accounts = pd.concat([high_account_length, low_account_length], axis=0)\n",
    "df_old_new_accounts"
   ]
  },
  {
   "cell_type": "code",
   "execution_count": null,
   "metadata": {},
   "outputs": [],
   "source": [
    "df_old_new_accounts.groupby(['Long Account', \"churn\"]).size().unstack().plot(\n",
    "    kind='bar', stacked=True, figsize=(12, 8)) "
   ]
  },
  {
   "cell_type": "markdown",
   "metadata": {},
   "source": [
    "* The churn rate is similar for customers that are relatively new to the service versus customers that have retained the service for a longer time."
   ]
  },
  {
   "cell_type": "markdown",
   "metadata": {},
   "source": [
    "## Are customers only charged for international calls if they do not have a plan?"
   ]
  },
  {
   "cell_type": "markdown",
   "metadata": {},
   "source": [
    "* It seems unclear what total international charge actually refers to.\n",
    "* Does the international charge column include the plan that the customer has?\n",
    "* If a customer has an international plan, is it safe to assume that the customer has always had that plan in the period of time this data was collected? It seems reasonable to assume so, or it might be a good idea to assume that the customer has had the plan for at least half of the time of their account length. * It might also be assumed that the customer had an international plan by the end of the data collection period."
   ]
  },
  {
   "cell_type": "code",
   "execution_count": null,
   "metadata": {},
   "outputs": [],
   "source": [
    "# create df with relevant info (intl data)\n",
    "df_intl = pd.DataFrame()\n",
    "df_intl = df[['international plan', 'total intl minutes', 'total intl calls',\n",
    "              'total intl charge', 'account length']].copy()"
   ]
  },
  {
   "cell_type": "markdown",
   "metadata": {},
   "source": [
    "* So, it looks like customers are charged for international calls even if they have a plan.\n",
    "* It's too soon to tell what the true relationship is between international charge and total international minutes given the assumptions discussed earlier."
   ]
  },
  {
   "cell_type": "code",
   "execution_count": null,
   "metadata": {},
   "outputs": [],
   "source": [
    "# create a column with charge per international minute. It seems way more\n",
    "# likely that the company is charging per minute, not per call.\n",
    "df_intl['intl_charge_per_hour'] = df_intl.apply(lambda x: (x['total intl charge'] / x['total intl minutes']) * 60,\n",
    "                                                 axis=1)\n",
    "df_intl.head()"
   ]
  },
  {
   "cell_type": "code",
   "execution_count": null,
   "metadata": {},
   "outputs": [],
   "source": [
    "df_intl.intl_charge_per_hour.describe()"
   ]
  },
  {
   "cell_type": "code",
   "execution_count": null,
   "metadata": {},
   "outputs": [],
   "source": [
    "# find average charge per international hour for customers with and without\n",
    "# an international plan\n",
    "ave_charge_intlplan = df_intl.loc[df_intl['international plan'] == 1,\n",
    "                                  'intl_charge_per_hour'].mean()\n",
    "ave_charge_no_intlplan = df_intl.loc[df_intl['international plan'] == 0,\n",
    "                                  'intl_charge_per_hour'].mean()\n",
    "print(ave_charge_intlplan, ave_charge_no_intlplan)"
   ]
  },
  {
   "cell_type": "markdown",
   "metadata": {},
   "source": [
    "* There is almost no difference between how much customers pay for international minutes if they do or do not have an international plan.\n",
    "* This discovery begs the question- what does the international plan even do?"
   ]
  },
  {
   "cell_type": "code",
   "execution_count": null,
   "metadata": {},
   "outputs": [],
   "source": [
    "# recall the churn rate for international plans\n",
    "df.groupby(['international plan', 'churn']).size().unstack().plot(kind='bar', stacked=True, \n",
    "                                                   figsize=(8, 8))"
   ]
  },
  {
   "cell_type": "code",
   "execution_count": null,
   "metadata": {},
   "outputs": [],
   "source": [
    "# what are the exact churn rates for customers with and without an intl plan?\n",
    "international_plan_churn = df.loc[df['international plan'] == 1,\n",
    "                                  'churn'].mean()\n",
    "no_international_plan_churn = df.loc[df['international plan'] == 0,\n",
    "                                  'churn'].mean()\n",
    "print(round(international_plan_churn*100, 2), \n",
    "      round(no_international_plan_churn*100, 2))"
   ]
  },
  {
   "cell_type": "markdown",
   "metadata": {},
   "source": [
    "* The churn rate for customers with an international plan is 42.41% and the churn rate for customers without one is 11.5%.\n",
    "* Given the findings in this section, it seems as though the international plan does absolutely nothing, and customers are probably unhappy with the plan, which causes high churn."
   ]
  },
  {
   "cell_type": "markdown",
   "metadata": {},
   "source": [
    "## Is total charge for the customer associated with churn?"
   ]
  },
  {
   "cell_type": "markdown",
   "metadata": {},
   "source": [
    "* If a customer is paying an exorbitant amount for their service, it would be logical to assume they would probably shop around for another service, and thus, higher amounts may be associated with higher churn rates.\n",
    "* International charge will not be included in total charge because it seems redundant to include this data due to the findings in the previous section."
   ]
  },
  {
   "cell_type": "code",
   "execution_count": null,
   "metadata": {},
   "outputs": [],
   "source": [
    "df[['total day charge', 'total eve charge', 'total night charge']].describe()"
   ]
  },
  {
   "cell_type": "code",
   "execution_count": null,
   "metadata": {},
   "outputs": [],
   "source": [
    "df_charges = pd.DataFrame()\n",
    "df_charges = df[['total day charge', 'total eve charge', 'total night charge',\n",
    "                 'account length', 'churn']].copy()\n",
    "\n",
    "df_charges['total_charge'] = df_charges.apply(lambda x: x['total day charge'] + x['total eve charge'] + x['total night charge'],\n",
    "                                             axis=1) \n",
    "\n",
    "df_charges['typical_total_monthly_charge'] = df_charges.apply(lambda x: x['total_charge'] / x['account length'],\n",
    "                                                        axis=1)\n",
    "df_charges = df_charges[['typical_total_monthly_charge', 'churn']]\n",
    "df_charges.head()"
   ]
  },
  {
   "cell_type": "code",
   "execution_count": null,
   "metadata": {},
   "outputs": [],
   "source": [
    "df_charges.describe()"
   ]
  },
  {
   "cell_type": "markdown",
   "metadata": {},
   "source": [
    "The maximum average monthly payment is quite high compared to the mean."
   ]
  },
  {
   "cell_type": "code",
   "execution_count": null,
   "metadata": {},
   "outputs": [],
   "source": [
    "plt.boxplot(df_charges.typical_total_monthly_charge)"
   ]
  },
  {
   "cell_type": "code",
   "execution_count": null,
   "metadata": {},
   "outputs": [],
   "source": [
    "# first will look at IQRs\n",
    "\n",
    "\n",
    "# find first and third quartiles\n",
    "q3, q1 = np.percentile(df_charges.typical_total_monthly_charge, [75 ,25])\n",
    "\n",
    "iqr = q3 - q1\n",
    "\n",
    "# define outliers\n",
    "upper_bound = q3 + 1.5 * iqr\n",
    "lower_bound = q1 - 1.5 * iqr\n",
    "\n",
    "df_high_monthly_rate = df_charges.loc[df_charges.typical_total_monthly_charge >= upper_bound]\n",
    "df_high_monthly_rate"
   ]
  },
  {
   "cell_type": "code",
   "execution_count": null,
   "metadata": {},
   "outputs": [],
   "source": [
    "df_high_monthly_rate.typical_total_monthly_charge.min()"
   ]
  },
  {
   "cell_type": "code",
   "execution_count": null,
   "metadata": {},
   "outputs": [],
   "source": [
    "df_high_monthly_rate.churn.mean()*100"
   ]
  },
  {
   "cell_type": "markdown",
   "metadata": {},
   "source": [
    "* churn rate for the highest charged outliers (268 highest charged customers) is about 17.5%"
   ]
  },
  {
   "cell_type": "code",
   "execution_count": null,
   "metadata": {},
   "outputs": [],
   "source": [
    "# now filter the high outliers out and calculate difference in churn between \n",
    "# bottom 25% and top 75% to get idea of churn rate and cost\n",
    "df_mo_charge_filtered = df_charges.copy()\n",
    "df_mo_charge_filtered = df_mo_charge_filtered.loc[df_mo_charge_filtered.typical_total_monthly_charge < upper_bound]\n",
    "\n",
    "df_mo_charge_filtered"
   ]
  },
  {
   "cell_type": "code",
   "execution_count": null,
   "metadata": {},
   "outputs": [],
   "source": [
    "# find bottom 25% and top 75% and then compare churn\n",
    "q3, q1 = np.percentile(df_mo_charge_filtered.typical_total_monthly_charge, [75 ,25])\n",
    "\n",
    "top75_charge = df_mo_charge_filtered.loc[df_mo_charge_filtered.typical_total_monthly_charge > q3]\n",
    "low25_charge = df_mo_charge_filtered.loc[df_mo_charge_filtered.typical_total_monthly_charge < q1]\n",
    "\n",
    "# compare churn between the two\n",
    "top_churn = top75_charge.churn.mean()*100\n",
    "low_churn = low25_charge.churn.mean()*100\n",
    "\n",
    "print(top_churn, low_churn)"
   ]
  },
  {
   "cell_type": "code",
   "execution_count": null,
   "metadata": {},
   "outputs": [],
   "source": [
    "# compare typical yearly cost for calls between the 25% mark and 75% mark\n",
    "print(round(100*q1,2), round(100*q3,2))"
   ]
  },
  {
   "cell_type": "code",
   "execution_count": null,
   "metadata": {},
   "outputs": [],
   "source": [
    "# how many times more does the 75% mark pay versus the 25% mark?\n",
    "print(70.83/41.6)"
   ]
  },
  {
   "cell_type": "markdown",
   "metadata": {},
   "source": [
    "Considering that at the 75% mark of top paying customers (not including outliers) pay around 1.7x more than the 25% mark and that there is only a 5% higher churn rate at the 75 percentile, it will be useful to create some sort of cost benefit analysis in order to quantify whether it is worthwhile to charge more while sacrificing the ability to retain higher paying customers."
   ]
  },
  {
   "cell_type": "code",
   "execution_count": null,
   "metadata": {},
   "outputs": [],
   "source": [
    "# Compare these churn rates to the total churn rate in the dataset:\n",
    "df.churn.mean()"
   ]
  },
  {
   "cell_type": "markdown",
   "metadata": {},
   "source": [
    "* The churn rate of the dataset (~14.5%) indicates that customers are typically retained for a little under 7 years."
   ]
  },
  {
   "cell_type": "markdown",
   "metadata": {},
   "source": [
    "* There seems to be a significant increase (~5%) in churn when the customer pays more.\n",
    "* In comparison to the high outliers (n=268), the highest 25% paying customers (excluding the high outliers) had less than a 1% decrease in churn.\n",
    "* It seems that the customers identified as outliers pay a lot but may need to rely on the service and are willing to pay more."
   ]
  },
  {
   "cell_type": "markdown",
   "metadata": {},
   "source": [
    "## Investigate potential feature engineering opportunities"
   ]
  },
  {
   "cell_type": "code",
   "execution_count": null,
   "metadata": {},
   "outputs": [],
   "source": [
    "# total calls, total charge, and total minutes columns\n",
    "df2 = df.copy()\n",
    "df2['total_calls'] = df2.apply(lambda x: x['total night calls'] + x['total day calls'] + x['total night calls'], \n",
    "                               axis=1)\n",
    "df2['total_charge']= df2.apply(lambda x: x['total day charge'] + x['total eve charge'] + x['total night charge'],\n",
    "                                             axis=1)\n",
    "df2['total_minutes'] = df2.apply(lambda x: x['total day minutes'] + x['total eve minutes'] + x['total night minutes'],\n",
    "                                             axis=1)"
   ]
  },
  {
   "cell_type": "markdown",
   "metadata": {},
   "source": [
    "Check distributions for normality"
   ]
  },
  {
   "cell_type": "code",
   "execution_count": null,
   "metadata": {},
   "outputs": [],
   "source": [
    "plt.hist(df2.total_calls, bins=50)"
   ]
  },
  {
   "cell_type": "code",
   "execution_count": null,
   "metadata": {},
   "outputs": [],
   "source": [
    "plt.hist(df2.total_charge, bins=50)"
   ]
  },
  {
   "cell_type": "code",
   "execution_count": null,
   "metadata": {},
   "outputs": [],
   "source": [
    "plt.hist(df2.total_minutes, bins=50)"
   ]
  },
  {
   "cell_type": "markdown",
   "metadata": {},
   "source": [
    "Total charge, total calls, and total minutes are all approximately normally distributed."
   ]
  },
  {
   "cell_type": "markdown",
   "metadata": {},
   "source": [
    "# Conclusions"
   ]
  },
  {
   "cell_type": "markdown",
   "metadata": {},
   "source": [
    "## Main findings"
   ]
  },
  {
   "cell_type": "markdown",
   "metadata": {},
   "source": [
    "* Area code does not seem like a useful column as it is likely incorrectly stored in the dataset.\n",
    "* Customers with an international plan are more likely to churn than customers without one.\n",
    "* Customers with a voice mail plan are more likely to churn than without one.\n",
    "* Customers with 4 or more customer service calls are likely to churn.\n",
    "* Customers with more than 6 international calls or less than 2 international calls are less likely to churn than those with 2-6.\n",
    "* New Jersey, California, and Texas have the highest churn rates with all being at least 25%. \n",
    "* Hawaii and Alaska have the lowest churn rates with slightly more than 5%.\n",
    "* The international plan does not seem to offer any value.\n",
    "* The churn rate for customers with an international plan is 42.41% and the churn rate for customers without one is 11.5%.\n",
    "* Customers that pay more than others are more likely to churn, but it is not necessarily costly for the company as long as the churn rate is not too high."
   ]
  },
  {
   "cell_type": "markdown",
   "metadata": {},
   "source": [
    "## Potential Recommendations"
   ]
  },
  {
   "cell_type": "markdown",
   "metadata": {},
   "source": [
    "* Due to the churn rates associated with international and voice mail plans, it may be useful to develop better plans or lower the cost of these plans in order to retain customers.\n",
    "* Customers with repeated calls (4+) are likely to churn, so it would be useful to invest more money into developing better customer service in order to retain business.\n",
    "* These data may indicate that this company is able to provide services in more remote regions with HI and AK representing the two lowest churn rates.\n",
    "* Immediately improve the international plan or remove it entirely."
   ]
  }
 ],
 "metadata": {
  "kernelspec": {
   "display_name": "Python (learn-env)",
   "language": "python",
   "name": "learn-env"
  },
  "language_info": {
   "codemirror_mode": {
    "name": "ipython",
    "version": 3
   },
   "file_extension": ".py",
   "mimetype": "text/x-python",
   "name": "python",
   "nbconvert_exporter": "python",
   "pygments_lexer": "ipython3",
   "version": "3.8.5"
  },
  "toc": {
   "base_numbering": 1,
   "nav_menu": {},
   "number_sections": true,
   "sideBar": true,
   "skip_h1_title": false,
   "title_cell": "Table of Contents",
   "title_sidebar": "Contents",
   "toc_cell": false,
   "toc_position": {
    "height": "calc(100% - 180px)",
    "left": "10px",
    "top": "150px",
    "width": "513px"
   },
   "toc_section_display": true,
   "toc_window_display": true
  }
 },
 "nbformat": 4,
 "nbformat_minor": 4
}
