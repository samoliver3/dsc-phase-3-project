{
 "cells": [
  {
   "cell_type": "markdown",
   "metadata": {},
   "source": [
    "# Modeling Preparation"
   ]
  },
  {
   "cell_type": "markdown",
   "metadata": {},
   "source": [
    "## Imports and Some Dtype Conversions"
   ]
  },
  {
   "cell_type": "code",
   "execution_count": 1,
   "metadata": {},
   "outputs": [],
   "source": [
    "# imports\n",
    "import pandas as pd\n",
    "import numpy as np\n",
    "import matplotlib.pyplot as plt\n",
    "import seaborn as sns\n",
    "import sklearn\n",
    "\n",
    "%matplotlib inline\n",
    "\n",
    "from sklearn.model_selection import train_test_split\n",
    "from sklearn.impute import SimpleImputer\n",
    "from sklearn.preprocessing import OneHotEncoder\n",
    "from sklearn.preprocessing import MinMaxScaler\n",
    "from sklearn.linear_model import LogisticRegression\n",
    "\n",
    "from imblearn.over_sampling import SMOTE\n",
    "\n",
    "from sklearn.preprocessing import StandardScaler\n",
    "from sklearn.neighbors import KNeighborsClassifier\n",
    "from sklearn.model_selection import train_test_split, GridSearchCV\n",
    "from sklearn.ensemble import RandomForestClassifier\n",
    "from sklearn.pipeline import Pipeline\n",
    "from sklearn import tree\n",
    "from sklearn.svm import SVC  \n",
    "from sklearn import svm\n",
    "\n",
    "from sklearn.metrics import classification_report, confusion_matrix, accuracy_score\n",
    "\n",
    "from sklearn.metrics import plot_confusion_matrix"
   ]
  },
  {
   "cell_type": "code",
   "execution_count": 2,
   "metadata": {},
   "outputs": [
    {
     "data": {
      "text/html": [
       "<div>\n",
       "<style scoped>\n",
       "    .dataframe tbody tr th:only-of-type {\n",
       "        vertical-align: middle;\n",
       "    }\n",
       "\n",
       "    .dataframe tbody tr th {\n",
       "        vertical-align: top;\n",
       "    }\n",
       "\n",
       "    .dataframe thead th {\n",
       "        text-align: right;\n",
       "    }\n",
       "</style>\n",
       "<table border=\"1\" class=\"dataframe\">\n",
       "  <thead>\n",
       "    <tr style=\"text-align: right;\">\n",
       "      <th></th>\n",
       "      <th>state</th>\n",
       "      <th>account length</th>\n",
       "      <th>international plan</th>\n",
       "      <th>voice mail plan</th>\n",
       "      <th>number vmail messages</th>\n",
       "      <th>total day minutes</th>\n",
       "      <th>total day calls</th>\n",
       "      <th>total day charge</th>\n",
       "      <th>total eve minutes</th>\n",
       "      <th>total eve calls</th>\n",
       "      <th>total eve charge</th>\n",
       "      <th>total night minutes</th>\n",
       "      <th>total night calls</th>\n",
       "      <th>total night charge</th>\n",
       "      <th>total intl minutes</th>\n",
       "      <th>total intl calls</th>\n",
       "      <th>total intl charge</th>\n",
       "      <th>customer service calls</th>\n",
       "      <th>churn</th>\n",
       "    </tr>\n",
       "  </thead>\n",
       "  <tbody>\n",
       "    <tr>\n",
       "      <th>0</th>\n",
       "      <td>KS</td>\n",
       "      <td>128</td>\n",
       "      <td>0</td>\n",
       "      <td>1</td>\n",
       "      <td>25</td>\n",
       "      <td>265.1</td>\n",
       "      <td>110</td>\n",
       "      <td>45.07</td>\n",
       "      <td>197.4</td>\n",
       "      <td>99</td>\n",
       "      <td>16.78</td>\n",
       "      <td>244.7</td>\n",
       "      <td>91</td>\n",
       "      <td>11.01</td>\n",
       "      <td>10.0</td>\n",
       "      <td>3</td>\n",
       "      <td>2.70</td>\n",
       "      <td>1</td>\n",
       "      <td>0</td>\n",
       "    </tr>\n",
       "    <tr>\n",
       "      <th>1</th>\n",
       "      <td>OH</td>\n",
       "      <td>107</td>\n",
       "      <td>0</td>\n",
       "      <td>1</td>\n",
       "      <td>26</td>\n",
       "      <td>161.6</td>\n",
       "      <td>123</td>\n",
       "      <td>27.47</td>\n",
       "      <td>195.5</td>\n",
       "      <td>103</td>\n",
       "      <td>16.62</td>\n",
       "      <td>254.4</td>\n",
       "      <td>103</td>\n",
       "      <td>11.45</td>\n",
       "      <td>13.7</td>\n",
       "      <td>3</td>\n",
       "      <td>3.70</td>\n",
       "      <td>1</td>\n",
       "      <td>0</td>\n",
       "    </tr>\n",
       "    <tr>\n",
       "      <th>2</th>\n",
       "      <td>NJ</td>\n",
       "      <td>137</td>\n",
       "      <td>0</td>\n",
       "      <td>0</td>\n",
       "      <td>0</td>\n",
       "      <td>243.4</td>\n",
       "      <td>114</td>\n",
       "      <td>41.38</td>\n",
       "      <td>121.2</td>\n",
       "      <td>110</td>\n",
       "      <td>10.30</td>\n",
       "      <td>162.6</td>\n",
       "      <td>104</td>\n",
       "      <td>7.32</td>\n",
       "      <td>12.2</td>\n",
       "      <td>5</td>\n",
       "      <td>3.29</td>\n",
       "      <td>0</td>\n",
       "      <td>0</td>\n",
       "    </tr>\n",
       "    <tr>\n",
       "      <th>3</th>\n",
       "      <td>OH</td>\n",
       "      <td>84</td>\n",
       "      <td>1</td>\n",
       "      <td>0</td>\n",
       "      <td>0</td>\n",
       "      <td>299.4</td>\n",
       "      <td>71</td>\n",
       "      <td>50.90</td>\n",
       "      <td>61.9</td>\n",
       "      <td>88</td>\n",
       "      <td>5.26</td>\n",
       "      <td>196.9</td>\n",
       "      <td>89</td>\n",
       "      <td>8.86</td>\n",
       "      <td>6.6</td>\n",
       "      <td>7</td>\n",
       "      <td>1.78</td>\n",
       "      <td>2</td>\n",
       "      <td>0</td>\n",
       "    </tr>\n",
       "    <tr>\n",
       "      <th>4</th>\n",
       "      <td>OK</td>\n",
       "      <td>75</td>\n",
       "      <td>1</td>\n",
       "      <td>0</td>\n",
       "      <td>0</td>\n",
       "      <td>166.7</td>\n",
       "      <td>113</td>\n",
       "      <td>28.34</td>\n",
       "      <td>148.3</td>\n",
       "      <td>122</td>\n",
       "      <td>12.61</td>\n",
       "      <td>186.9</td>\n",
       "      <td>121</td>\n",
       "      <td>8.41</td>\n",
       "      <td>10.1</td>\n",
       "      <td>3</td>\n",
       "      <td>2.73</td>\n",
       "      <td>3</td>\n",
       "      <td>0</td>\n",
       "    </tr>\n",
       "  </tbody>\n",
       "</table>\n",
       "</div>"
      ],
      "text/plain": [
       "  state  account length  international plan  voice mail plan  \\\n",
       "0    KS             128                   0                1   \n",
       "1    OH             107                   0                1   \n",
       "2    NJ             137                   0                0   \n",
       "3    OH              84                   1                0   \n",
       "4    OK              75                   1                0   \n",
       "\n",
       "   number vmail messages  total day minutes  total day calls  \\\n",
       "0                     25              265.1              110   \n",
       "1                     26              161.6              123   \n",
       "2                      0              243.4              114   \n",
       "3                      0              299.4               71   \n",
       "4                      0              166.7              113   \n",
       "\n",
       "   total day charge  total eve minutes  total eve calls  total eve charge  \\\n",
       "0             45.07              197.4               99             16.78   \n",
       "1             27.47              195.5              103             16.62   \n",
       "2             41.38              121.2              110             10.30   \n",
       "3             50.90               61.9               88              5.26   \n",
       "4             28.34              148.3              122             12.61   \n",
       "\n",
       "   total night minutes  total night calls  total night charge  \\\n",
       "0                244.7                 91               11.01   \n",
       "1                254.4                103               11.45   \n",
       "2                162.6                104                7.32   \n",
       "3                196.9                 89                8.86   \n",
       "4                186.9                121                8.41   \n",
       "\n",
       "   total intl minutes  total intl calls  total intl charge  \\\n",
       "0                10.0                 3               2.70   \n",
       "1                13.7                 3               3.70   \n",
       "2                12.2                 5               3.29   \n",
       "3                 6.6                 7               1.78   \n",
       "4                10.1                 3               2.73   \n",
       "\n",
       "   customer service calls  churn  \n",
       "0                       1      0  \n",
       "1                       1      0  \n",
       "2                       0      0  \n",
       "3                       2      0  \n",
       "4                       3      0  "
      ]
     },
     "execution_count": 2,
     "metadata": {},
     "output_type": "execute_result"
    }
   ],
   "source": [
    "# import dataset\n",
    "df = pd.read_csv('..\\\\data\\\\telecom_data.csv')\n",
    "\n",
    "# Handle object types for international plan and voice mail plan\n",
    "df.loc[df['international plan'] == 'no', 'international plan'] = 0\n",
    "df.loc[df['international plan'] == 'yes', 'international plan'] = 1 \n",
    "\n",
    "df.loc[df['voice mail plan'] == 'no', 'voice mail plan'] = 0\n",
    "df.loc[df['voice mail plan']== 'yes', 'voice mail plan'] = 1\n",
    "\n",
    "# Change churn to values: 1 (churned/True) 0 (no churn/False)\n",
    "df.loc[df['churn'] == True, 'churn'] = 1\n",
    "df.loc[df['churn'] == False, 'churn'] = 0\n",
    "\n",
    "# going to create backup df and drop phone number from original df\n",
    "# phone number could be used as unique id, but it doesn't seem necessary\n",
    "df_backup = df.copy()\n",
    "df = df.drop(['phone number'], axis=1)\n",
    "\n",
    "# casting int values to churn, voice mail plan, and international plan cols\n",
    "objs = ['international plan', 'voice mail plan', 'churn']\n",
    "\n",
    "for o in objs:\n",
    "    df = df.astype({o: int})\n",
    "    \n",
    "# dropping area code\n",
    "df = df.drop(['area code'], axis=1)\n",
    "\n",
    "# check df\n",
    "df.head()"
   ]
  },
  {
   "cell_type": "markdown",
   "metadata": {},
   "source": [
    "Handle international calls to bin them into categories easier."
   ]
  },
  {
   "cell_type": "code",
   "execution_count": 3,
   "metadata": {},
   "outputs": [
    {
     "data": {
      "text/plain": [
       "3     668\n",
       "4     619\n",
       "2     489\n",
       "5     472\n",
       "6     336\n",
       "7     218\n",
       "1     160\n",
       "8     116\n",
       "9     109\n",
       "10     50\n",
       "11     28\n",
       "0      18\n",
       "12     15\n",
       "13     14\n",
       "15      7\n",
       "14      6\n",
       "18      3\n",
       "16      2\n",
       "19      1\n",
       "17      1\n",
       "20      1\n",
       "Name: total intl calls, dtype: int64"
      ]
     },
     "execution_count": 3,
     "metadata": {},
     "output_type": "execute_result"
    }
   ],
   "source": [
    "# handle international calls to bin them into categories easier.\n",
    "df['total intl calls'].value_counts()"
   ]
  },
  {
   "cell_type": "code",
   "execution_count": 4,
   "metadata": {},
   "outputs": [
    {
     "data": {
      "text/plain": [
       "{'whiskers': [<matplotlib.lines.Line2D at 0x18ade3e1fa0>,\n",
       "  <matplotlib.lines.Line2D at 0x18ade3fb340>],\n",
       " 'caps': [<matplotlib.lines.Line2D at 0x18ade3fb6a0>,\n",
       "  <matplotlib.lines.Line2D at 0x18ade3fba00>],\n",
       " 'boxes': [<matplotlib.lines.Line2D at 0x18ade3e1c40>],\n",
       " 'medians': [<matplotlib.lines.Line2D at 0x18ade3fbd60>],\n",
       " 'fliers': [<matplotlib.lines.Line2D at 0x18ade447100>],\n",
       " 'means': []}"
      ]
     },
     "execution_count": 4,
     "metadata": {},
     "output_type": "execute_result"
    },
    {
     "data": {
      "image/png": "[encoded data removed]",
      "text/plain": [
       "<Figure size 432x288 with 1 Axes>"
      ]
     },
     "metadata": {
      "needs_background": "light"
     },
     "output_type": "display_data"
    }
   ],
   "source": [
    "plt.boxplot(df['total intl calls'])"
   ]
  },
  {
   "cell_type": "code",
   "execution_count": 5,
   "metadata": {},
   "outputs": [
    {
     "data": {
      "text/plain": [
       "count    3333.000000\n",
       "mean        4.479448\n",
       "std         2.461214\n",
       "min         0.000000\n",
       "25%         3.000000\n",
       "50%         4.000000\n",
       "75%         6.000000\n",
       "max        20.000000\n",
       "Name: total intl calls, dtype: float64"
      ]
     },
     "execution_count": 5,
     "metadata": {},
     "output_type": "execute_result"
    }
   ],
   "source": [
    "df['total intl calls'].describe()"
   ]
  },
  {
   "cell_type": "code",
   "execution_count": 6,
   "metadata": {
    "scrolled": true
   },
   "outputs": [
    {
     "data": {
      "text/plain": [
       "count         3333\n",
       "unique           3\n",
       "top       moderate\n",
       "freq          2095\n",
       "Name: total_intl_calls, dtype: object"
      ]
     },
     "execution_count": 6,
     "metadata": {},
     "output_type": "execute_result"
    }
   ],
   "source": [
    "# range is 0-20 for international calls with most concentrated from 0-10\n",
    "# I will bin into cats: low, moderate, and high with values <3, 3-6, and >6\n",
    "\n",
    "list_tmp = []\n",
    "\n",
    "for index, row in df.iterrows():\n",
    "    if row['total intl calls'] < 3:\n",
    "        list_tmp.append('low')\n",
    "    elif row['total intl calls'] > 6:\n",
    "        list_tmp.append('high')\n",
    "    else:\n",
    "        list_tmp.append('moderate')\n",
    "\n",
    "df['total_intl_calls'] = list_tmp\n",
    "\n",
    "df['total_intl_calls'].describe()"
   ]
  },
  {
   "cell_type": "markdown",
   "metadata": {},
   "source": [
    "## What would be the % chance of guessing correctly if the customer was assumed to not churn?"
   ]
  },
  {
   "cell_type": "code",
   "execution_count": 7,
   "metadata": {},
   "outputs": [
    {
     "data": {
      "text/plain": [
       "0.8550855085508551"
      ]
     },
     "execution_count": 7,
     "metadata": {},
     "output_type": "execute_result"
    }
   ],
   "source": [
    "1-df.churn.mean()"
   ]
  },
  {
   "cell_type": "markdown",
   "metadata": {},
   "source": [
    "Guessing \"not churned\" for every customer would yield about an 85.5% chance of guessing correctly."
   ]
  },
  {
   "cell_type": "markdown",
   "metadata": {},
   "source": [
    "## Handle datatypes"
   ]
  },
  {
   "cell_type": "markdown",
   "metadata": {},
   "source": [
    "Handle state and total_intl_calls object types. Turn these into integers for later modeling."
   ]
  },
  {
   "cell_type": "code",
   "execution_count": 8,
   "metadata": {},
   "outputs": [],
   "source": [
    "states = [\"AL\", \"AK\", \"AZ\", \"AR\", \"CA\", \"CO\", \"CT\", \"DC\", \"DE\", \"FL\", \"GA\",\n",
    "          \"HI\", \"ID\", \"IL\", \"IN\", \"IA\", \"KS\", \"KY\", \"LA\", \"ME\", \"MD\", \"MA\",\n",
    "          \"MI\", \"MN\", \"MS\", \"MO\", \"MT\", \"NE\", \"NV\", \"NH\", \"NJ\", \"NM\", \"NY\",\n",
    "          \"NC\", \"ND\", \"OH\", \"OK\", \"OR\", \"PA\", \"RI\", \"SC\", \"SD\", \"TN\", \"TX\",\n",
    "          \"UT\", \"VT\", \"VA\", \"WA\", \"WV\", \"WI\", \"WY\"]"
   ]
  },
  {
   "cell_type": "code",
   "execution_count": 9,
   "metadata": {},
   "outputs": [],
   "source": [
    "state_int = []\n",
    "for i, row in df.iterrows():\n",
    "    state_int.append(states.index(row['state']))"
   ]
  },
  {
   "cell_type": "code",
   "execution_count": 10,
   "metadata": {},
   "outputs": [],
   "source": [
    "df['state_int'] = state_int"
   ]
  },
  {
   "cell_type": "markdown",
   "metadata": {},
   "source": [
    "States in the dataset are alphabetically ordered such that Alabama is 0 and Wyoming is 50."
   ]
  },
  {
   "cell_type": "code",
   "execution_count": 11,
   "metadata": {},
   "outputs": [],
   "source": [
    "intl_calls_int = []\n",
    "for i, row in df.iterrows():\n",
    "    if row['total_intl_calls'] == 'low':\n",
    "        intl_calls_int.append(0)\n",
    "    elif row['total_intl_calls'] == 'moderate':\n",
    "        intl_calls_int.append(1)\n",
    "    else:\n",
    "        intl_calls_int.append(2)\n",
    "\n",
    "df['intl_calls_bins'] = intl_calls_int"
   ]
  },
  {
   "cell_type": "code",
   "execution_count": 12,
   "metadata": {},
   "outputs": [],
   "source": [
    "cats = ['state_int', 'international plan', 'intl_calls_bins',\n",
    "        'customer service calls', 'voice mail plan']"
   ]
  },
  {
   "cell_type": "markdown",
   "metadata": {},
   "source": [
    "## Feature Engineering: Totals for Charge, Minutes, and Calls"
   ]
  },
  {
   "cell_type": "markdown",
   "metadata": {},
   "source": [
    "To reduce the number of variables and redundancies in the dataset, total calls, total charge, and total minutes will represent totals for each category. These new categories will not include international call data."
   ]
  },
  {
   "cell_type": "code",
   "execution_count": 13,
   "metadata": {},
   "outputs": [],
   "source": [
    "df['total_calls'] = df.apply(lambda x: x['total night calls'] + x['total day calls'] + x['total night calls'], \n",
    "                               axis=1)\n",
    "df['total_charge']= df.apply(lambda x: x['total day charge'] + x['total eve charge'] + x['total night charge'],\n",
    "                                             axis=1)\n",
    "df['total_minutes'] = df.apply(lambda x: x['total day minutes'] + x['total eve minutes'] + x['total night minutes'],\n",
    "                                             axis=1)"
   ]
  },
  {
   "cell_type": "markdown",
   "metadata": {},
   "source": [
    "## Define X and y and Normalize the Data"
   ]
  },
  {
   "cell_type": "code",
   "execution_count": 14,
   "metadata": {},
   "outputs": [],
   "source": [
    "y = df['churn']\n",
    "\n",
    "# dropping # vmail messages because its distribution isn't normal\n",
    "# drop redundancies now that there are total charge, minutes, and calls cols.\n",
    "X = df.drop(['churn', 'total intl calls', 'number vmail messages',\n",
    "             'total_intl_calls', 'state', 'total day minutes',\n",
    "             'total day calls', 'total day charge', 'total eve minutes',\n",
    "             'total eve calls', 'total eve charge', 'total night minutes',\n",
    "             'total night calls', 'total night charge'], axis=1)"
   ]
  },
  {
   "cell_type": "markdown",
   "metadata": {},
   "source": [
    "To clarify the new confusing column names ('x0_0' and so on), the following list is provided to retain what each column refers to:\n",
    "* First 51 columns (x0_0-x0_50) refer to the states\n",
    "* The next two columns (x1_0 & x1_1) refer to whether or not the customer has an international plan.\n",
    "* Columns x2_0-x2_2 refer to the frequency (low, moderate, high) of international calls.\n",
    "* Columns x3_0-x3_9 refer to how many calls to customer service the customer has completed.\n",
    "* The last two columns indicate whether or not the customer has a voice mail plan."
   ]
  },
  {
   "cell_type": "markdown",
   "metadata": {},
   "source": [
    "## Train-test-split and SMOTE"
   ]
  },
  {
   "cell_type": "code",
   "execution_count": 20,
   "metadata": {},
   "outputs": [],
   "source": [
    "# Split\n",
    "X_train, X_test, y_train, y_test = train_test_split(X, y, random_state=27)\n",
    "\n",
    "# Fixing class imbalance with SMOTE\n",
    "smote = SMOTE()\n",
    "X_train_resampled, y_train_resampled = smote.fit_sample(X_train, y_train)"
   ]
  },
  {
   "cell_type": "markdown",
   "metadata": {},
   "source": [
    "## OHE and Normalize"
   ]
  },
  {
   "cell_type": "markdown",
   "metadata": {},
   "source": [
    "Avoiding data leakage by transforming after the split"
   ]
  },
  {
   "cell_type": "code",
   "execution_count": 21,
   "metadata": {},
   "outputs": [],
   "source": [
    "# Seperate data into categorical for train and test sets\n",
    "X_train_cats = X_train_resampled[cats]\n",
    "X_test_cats = X_test[cats]\n",
    "\n",
    "# handle categorical values\n",
    "ohe = OneHotEncoder(handle_unknown=\"ignore\", sparse=False)\n",
    "\n",
    "ohe.fit(X_train_cats)\n",
    "X_train_ohe = pd.DataFrame(\n",
    "    ohe.transform(X_train_cats),\n",
    "    index=X_train_cats.index,\n",
    "    columns=ohe.get_feature_names()\n",
    ")\n",
    "\n",
    "ohe.fit(X_test_cats)\n",
    "X_test_ohe = pd.DataFrame(\n",
    "    ohe.transform(X_test_cats),\n",
    "    index=X_test_cats.index,\n",
    "    columns=ohe.get_feature_names()\n",
    ")\n",
    "\n",
    "# Scaling variables to work well with OHE data\n",
    "X_train_numerics = X_train_resampled.drop(cats, axis=1)\n",
    "X_test_numerics = X_test.drop(cats, axis=1)\n",
    "\n",
    "scaler = MinMaxScaler()\n",
    "\n",
    "scaler.fit(X_train_numerics)\n",
    "X_train_scaled = pd.DataFrame(\n",
    "    scaler.transform(X_train_numerics),\n",
    "    index=X_train_numerics.index,\n",
    "    columns=X_train_numerics.columns\n",
    ")\n",
    "\n",
    "scaler.fit(X_train_numerics)\n",
    "X_test_scaled = pd.DataFrame(\n",
    "    scaler.transform(X_test_numerics),\n",
    "    index=X_test_numerics.index,\n",
    "    columns=X_test_numerics.columns\n",
    ")\n",
    "\n",
    "\n",
    "# Concatenate\n",
    "X_train_resampled = pd.DataFrame()\n",
    "X_train_resampled = pd.concat([X_train_scaled, X_train_ohe], axis=1)\n",
    "\n",
    "X_test = pd.DataFrame()\n",
    "X_test = pd.concat([X_test_scaled, X_test_ohe], axis=1)"
   ]
  },
  {
   "cell_type": "markdown",
   "metadata": {},
   "source": [
    "## Confusion Matrix Helper Function"
   ]
  },
  {
   "cell_type": "code",
   "execution_count": 24,
   "metadata": {},
   "outputs": [],
   "source": [
    "def conf_matrix(y_true, y_pred):\n",
    "    cm = {'TP': 0, 'TN': 0, 'FP': 0, 'FN': 0}\n",
    "    \n",
    "    for ind, label in enumerate(y_true):\n",
    "        pred = y_pred[ind]\n",
    "        if label == 1:\n",
    "            # CASE: TP \n",
    "            if label == pred:\n",
    "                cm['TP'] += 1\n",
    "            # CASE: FN\n",
    "            else:\n",
    "                cm['FN'] += 1\n",
    "        else:\n",
    "            # CASE: TN\n",
    "            if label == pred:\n",
    "                cm['TN'] += 1\n",
    "            # CASE: FP\n",
    "            else:\n",
    "                cm['FP'] += 1\n",
    "    return cm"
   ]
  },
  {
   "cell_type": "markdown",
   "metadata": {},
   "source": [
    "# Baseline Model - Logistic Regression"
   ]
  },
  {
   "cell_type": "markdown",
   "metadata": {},
   "source": [
    "## Fit data to model"
   ]
  },
  {
   "cell_type": "code",
   "execution_count": 25,
   "metadata": {},
   "outputs": [
    {
     "data": {
      "text/plain": [
       "LogisticRegression(C=1000000000000.0, fit_intercept=False, random_state=1,\n",
       "                   solver='liblinear')"
      ]
     },
     "execution_count": 25,
     "metadata": {},
     "output_type": "execute_result"
    }
   ],
   "source": [
    "# model\n",
    "logreg = LogisticRegression(fit_intercept=False, C=1e12, solver='liblinear',\n",
    "                            random_state=1)\n",
    "model_log = logreg.fit(X_train_resampled, y_train_resampled)\n",
    "model_log"
   ]
  },
  {
   "cell_type": "markdown",
   "metadata": {},
   "source": [
    "## Evaluate"
   ]
  },
  {
   "cell_type": "code",
   "execution_count": 26,
   "metadata": {},
   "outputs": [
    {
     "name": "stdout",
     "output_type": "stream",
     "text": [
      "0    3341\n",
      "1     901\n",
      "Name: Residuals (counts), dtype: int64\n",
      "\n",
      "0    0.7876\n",
      "1    0.2124\n",
      "Name: Residuals (proportions), dtype: float64\n"
     ]
    }
   ],
   "source": [
    "y_hat_train = logreg.predict(X_train_resampled)\n",
    "\n",
    "train_residuals = np.abs(y_train_resampled - y_hat_train)\n",
    "print(pd.Series(train_residuals, name=\"Residuals (counts)\").value_counts())\n",
    "print()\n",
    "print(pd.Series(train_residuals, name=\"Residuals (proportions)\").value_counts(normalize=True))"
   ]
  },
  {
   "cell_type": "code",
   "execution_count": 27,
   "metadata": {},
   "outputs": [
    {
     "name": "stdout",
     "output_type": "stream",
     "text": [
      "[[1653  468]\n",
      " [ 433 1688]]\n",
      "              precision    recall  f1-score   support\n",
      "\n",
      "           0       0.79      0.78      0.79      2121\n",
      "           1       0.78      0.80      0.79      2121\n",
      "\n",
      "    accuracy                           0.79      4242\n",
      "   macro avg       0.79      0.79      0.79      4242\n",
      "weighted avg       0.79      0.79      0.79      4242\n",
      "\n",
      "The accuracy score is 0.7876001885902876\n"
     ]
    }
   ],
   "source": [
    "print(confusion_matrix(y_train_resampled, y_hat_train))  \n",
    "print(classification_report(y_train_resampled, y_hat_train)) \n",
    "print(\"The accuracy score is\" + \" \"+ str(accuracy_score(y_train_resampled, y_hat_train)))"
   ]
  },
  {
   "cell_type": "code",
   "execution_count": 28,
   "metadata": {},
   "outputs": [
    {
     "name": "stdout",
     "output_type": "stream",
     "text": [
      "0    635\n",
      "1    199\n",
      "Name: Residuals (counts), dtype: int64\n",
      "\n",
      "0    0.761391\n",
      "1    0.238609\n",
      "Name: Residuals (proportions), dtype: float64\n",
      "[[550 179]\n",
      " [ 20  85]]\n",
      "              precision    recall  f1-score   support\n",
      "\n",
      "           0       0.96      0.75      0.85       729\n",
      "           1       0.32      0.81      0.46       105\n",
      "\n",
      "    accuracy                           0.76       834\n",
      "   macro avg       0.64      0.78      0.65       834\n",
      "weighted avg       0.88      0.76      0.80       834\n",
      "\n",
      "The accuracy score is 0.7613908872901679\n"
     ]
    }
   ],
   "source": [
    "y_hat_test = logreg.predict(X_test)\n",
    "\n",
    "test_residuals = np.abs(y_test - y_hat_test)\n",
    "print(pd.Series(test_residuals, name=\"Residuals (counts)\").value_counts())\n",
    "print()\n",
    "print(pd.Series(test_residuals, name=\"Residuals (proportions)\").value_counts(normalize=True))\n",
    "\n",
    "print(confusion_matrix(y_test, y_hat_test))  \n",
    "print(classification_report(y_test, y_hat_test)) \n",
    "print(\"The accuracy score is\" + \" \"+ str(accuracy_score(y_test, y_hat_test)))"
   ]
  },
  {
   "cell_type": "code",
   "execution_count": 29,
   "metadata": {},
   "outputs": [
    {
     "data": {
      "text/plain": [
       "{'TP': 85, 'TN': 550, 'FP': 179, 'FN': 20}"
      ]
     },
     "execution_count": 29,
     "metadata": {},
     "output_type": "execute_result"
    }
   ],
   "source": [
    "conf_matrix(y_test, y_hat_test)"
   ]
  },
  {
   "cell_type": "code",
   "execution_count": 30,
   "metadata": {},
   "outputs": [
    {
     "data": {
      "image/png": "[encoded data removed]",
      "text/plain": [
       "<Figure size 432x288 with 2 Axes>"
      ]
     },
     "metadata": {
      "needs_background": "light"
     },
     "output_type": "display_data"
    }
   ],
   "source": [
    "plot_confusion_matrix(logreg, X_test, y_test,\n",
    "                     cmap=plt.cm.Blues)\n",
    "plt.show()"
   ]
  },
  {
   "cell_type": "markdown",
   "metadata": {},
   "source": [
    "Logistic Regression results:\n",
    "* Both accuracy scores are below a the strategy of simply guessing \"not churned\" for every customer.\n",
    "* It will be key to reduce the number of customers that are identified as retained but actually churned. Ideally everyone that can be identified as churning will be retained with some kind of strategy."
   ]
  },
  {
   "cell_type": "markdown",
   "metadata": {},
   "source": [
    "# Model 2 - RF"
   ]
  },
  {
   "cell_type": "markdown",
   "metadata": {},
   "source": [
    "## Fit model"
   ]
  },
  {
   "cell_type": "code",
   "execution_count": 31,
   "metadata": {},
   "outputs": [
    {
     "data": {
      "text/plain": [
       "RandomForestClassifier(max_depth=13, random_state=1)"
      ]
     },
     "execution_count": 31,
     "metadata": {},
     "output_type": "execute_result"
    }
   ],
   "source": [
    "# random forest model\n",
    "forest = RandomForestClassifier(n_estimators=100, max_depth=13, random_state=1)\n",
    "forest.fit(X_train_resampled, y_train_resampled)"
   ]
  },
  {
   "cell_type": "markdown",
   "metadata": {},
   "source": [
    "## Evaluate"
   ]
  },
  {
   "cell_type": "code",
   "execution_count": 34,
   "metadata": {},
   "outputs": [],
   "source": [
    "def plot_feature_importances(model):\n",
    "    n_features = X_train_resampled.shape[1]\n",
    "    plt.figure(figsize=(8,16))\n",
    "    plt.barh(range(n_features), model.feature_importances_, align='center') \n",
    "    plt.yticks(np.arange(n_features), X_train_resampled.columns.values) \n",
    "    plt.xlabel('Feature importance')\n",
    "    plt.ylabel('Feature')"
   ]
  },
  {
   "cell_type": "code",
   "execution_count": 35,
   "metadata": {},
   "outputs": [
    {
     "data": {
      "image/png": "[encoded data removed]",
      "text/plain": [
       "<Figure size 576x1152 with 1 Axes>"
      ]
     },
     "metadata": {
      "needs_background": "light"
     },
     "output_type": "display_data"
    }
   ],
   "source": [
    "plot_feature_importances(forest)"
   ]
  },
  {
   "cell_type": "code",
   "execution_count": 36,
   "metadata": {},
   "outputs": [
    {
     "data": {
      "text/plain": [
       "0.9125412541254125"
      ]
     },
     "execution_count": 36,
     "metadata": {},
     "output_type": "execute_result"
    }
   ],
   "source": [
    "# Training Accuracy\n",
    "forest.score(X_train_resampled, y_train_resampled)"
   ]
  },
  {
   "cell_type": "code",
   "execution_count": 37,
   "metadata": {},
   "outputs": [
    {
     "data": {
      "text/plain": [
       "0.907673860911271"
      ]
     },
     "execution_count": 37,
     "metadata": {},
     "output_type": "execute_result"
    }
   ],
   "source": [
    "# Testing Accuracy\n",
    "forest.score(X_test, y_test)"
   ]
  },
  {
   "cell_type": "code",
   "execution_count": 38,
   "metadata": {},
   "outputs": [
    {
     "name": "stdout",
     "output_type": "stream",
     "text": [
      "0    3871\n",
      "1     371\n",
      "Name: Residuals (counts), dtype: int64\n",
      "\n",
      "0    0.912541\n",
      "1    0.087459\n",
      "Name: Residuals (proportions), dtype: float64\n",
      "[[2039   82]\n",
      " [ 289 1832]]\n",
      "              precision    recall  f1-score   support\n",
      "\n",
      "           0       0.88      0.96      0.92      2121\n",
      "           1       0.96      0.86      0.91      2121\n",
      "\n",
      "    accuracy                           0.91      4242\n",
      "   macro avg       0.92      0.91      0.91      4242\n",
      "weighted avg       0.92      0.91      0.91      4242\n",
      "\n",
      "The accuracy score is 0.9125412541254125\n"
     ]
    }
   ],
   "source": [
    "y_hat_train = forest.predict(X_train_resampled)\n",
    "\n",
    "train_residuals = np.abs(y_train_resampled - y_hat_train)\n",
    "print(pd.Series(train_residuals, name=\"Residuals (counts)\").value_counts())\n",
    "print()\n",
    "print(pd.Series(train_residuals, name=\"Residuals (proportions)\").value_counts(normalize=True))\n",
    "\n",
    "print(confusion_matrix(y_train_resampled, y_hat_train))  \n",
    "print(classification_report(y_train_resampled, y_hat_train)) \n",
    "print(\"The accuracy score is\" + \" \"+ str(accuracy_score(y_train_resampled, y_hat_train)))"
   ]
  },
  {
   "cell_type": "code",
   "execution_count": 39,
   "metadata": {},
   "outputs": [
    {
     "name": "stdout",
     "output_type": "stream",
     "text": [
      "0    757\n",
      "1     77\n",
      "Name: Residuals (counts), dtype: int64\n",
      "\n",
      "0    0.907674\n",
      "1    0.092326\n",
      "Name: Residuals (proportions), dtype: float64\n",
      "[[666  63]\n",
      " [ 14  91]]\n",
      "              precision    recall  f1-score   support\n",
      "\n",
      "           0       0.98      0.91      0.95       729\n",
      "           1       0.59      0.87      0.70       105\n",
      "\n",
      "    accuracy                           0.91       834\n",
      "   macro avg       0.79      0.89      0.82       834\n",
      "weighted avg       0.93      0.91      0.91       834\n",
      "\n",
      "The accuracy score is 0.907673860911271\n"
     ]
    }
   ],
   "source": [
    "y_hat_test = forest.predict(X_test)\n",
    "\n",
    "test_residuals = np.abs(y_test - y_hat_test)\n",
    "print(pd.Series(test_residuals, name=\"Residuals (counts)\").value_counts())\n",
    "print()\n",
    "print(pd.Series(test_residuals, name=\"Residuals (proportions)\").value_counts(normalize=True))\n",
    "\n",
    "print(confusion_matrix(y_test, y_hat_test))  \n",
    "print(classification_report(y_test, y_hat_test)) \n",
    "print(\"The accuracy score is\" + \" \"+ str(accuracy_score(y_test, y_hat_test)))"
   ]
  },
  {
   "cell_type": "code",
   "execution_count": 40,
   "metadata": {},
   "outputs": [
    {
     "data": {
      "image/png": "[encoded data removed]",
      "text/plain": [
       "<Figure size 432x288 with 2 Axes>"
      ]
     },
     "metadata": {
      "needs_background": "light"
     },
     "output_type": "display_data"
    }
   ],
   "source": [
    "plot_confusion_matrix(forest, X_test, y_test,\n",
    "                     cmap=plt.cm.Blues)\n",
    "plt.show()"
   ]
  },
  {
   "cell_type": "markdown",
   "metadata": {},
   "source": [
    "# Model 3 - Optimize RF Model"
   ]
  },
  {
   "cell_type": "markdown",
   "metadata": {},
   "source": [
    "## Fit and use GridSearchCV to find best parameters"
   ]
  },
  {
   "cell_type": "code",
   "execution_count": null,
   "metadata": {},
   "outputs": [],
   "source": [
    "# Using a pipeline to select for optimal parameters in the RF Classifier\n",
    "pipe = Pipeline([('clf', RandomForestClassifier(random_state=1))])\n",
    "\n",
    "grid_params = [{'clf__n_estimators': [100, 1000],\n",
    "                'clf__criterion': ['gini', 'entropy'],\n",
    "                'clf__max_depth': [None, 1, 5, 7, 11, 13, 17, 19],\n",
    "                'clf__min_samples_split': [2, 5, 10],\n",
    "                'clf__min_samples_leaf': [2, 3, 4, 5]\n",
    "               }]\n",
    "\n",
    "# grid search\n",
    "gs = GridSearchCV(estimator=pipe,\n",
    "                  param_grid=grid_params,\n",
    "                  scoring='accuracy',\n",
    "                  cv=10)\n",
    "\n",
    "# Fit using grid search\n",
    "gs.fit(X_train_resampled, y_train_resampled)\n",
    "\n",
    "# Best accuracy\n",
    "print('Best accuracy: %.3f' % gs.best_score_)\n",
    "\n",
    "# Best params\n",
    "print('\\nBest params:\\n', gs.best_params_)"
   ]
  },
  {
   "cell_type": "markdown",
   "metadata": {},
   "source": [
    "This GridSearchCV code took my machine about 1.5 hours to run."
   ]
  },
  {
   "cell_type": "code",
   "execution_count": 41,
   "metadata": {},
   "outputs": [
    {
     "data": {
      "text/plain": [
       "RandomForestClassifier(criterion='entropy', min_samples_leaf=2,\n",
       "                       min_samples_split=5, random_state=1)"
      ]
     },
     "execution_count": 41,
     "metadata": {},
     "output_type": "execute_result"
    }
   ],
   "source": [
    "forest = RandomForestClassifier(n_estimators=100, criterion='entropy', \n",
    "                                max_depth=None, min_samples_leaf=2,\n",
    "                                min_samples_split=5, random_state=1)\n",
    "forest.fit(X_train_resampled, y_train_resampled)"
   ]
  },
  {
   "cell_type": "markdown",
   "metadata": {},
   "source": [
    "## Evaluate"
   ]
  },
  {
   "cell_type": "code",
   "execution_count": 42,
   "metadata": {},
   "outputs": [
    {
     "data": {
      "text/plain": [
       "0.9747760490334748"
      ]
     },
     "execution_count": 42,
     "metadata": {},
     "output_type": "execute_result"
    }
   ],
   "source": [
    "# Training Accuracy\n",
    "forest.score(X_train_resampled, y_train_resampled)"
   ]
  },
  {
   "cell_type": "code",
   "execution_count": 43,
   "metadata": {},
   "outputs": [
    {
     "data": {
      "text/plain": [
       "0.9232613908872902"
      ]
     },
     "execution_count": 43,
     "metadata": {},
     "output_type": "execute_result"
    }
   ],
   "source": [
    "# Testing Accuracy\n",
    "forest.score(X_test, y_test)"
   ]
  },
  {
   "cell_type": "code",
   "execution_count": 44,
   "metadata": {},
   "outputs": [
    {
     "name": "stdout",
     "output_type": "stream",
     "text": [
      "              precision    recall  f1-score   support\n",
      "\n",
      "           0       0.88      0.96      0.92      2121\n",
      "           1       0.96      0.86      0.91      2121\n",
      "\n",
      "    accuracy                           0.91      4242\n",
      "   macro avg       0.92      0.91      0.91      4242\n",
      "weighted avg       0.92      0.91      0.91      4242\n",
      "\n",
      "              precision    recall  f1-score   support\n",
      "\n",
      "           0       0.98      0.91      0.95       729\n",
      "           1       0.59      0.87      0.70       105\n",
      "\n",
      "    accuracy                           0.91       834\n",
      "   macro avg       0.79      0.89      0.82       834\n",
      "weighted avg       0.93      0.91      0.91       834\n",
      "\n"
     ]
    }
   ],
   "source": [
    "print(classification_report(y_train_resampled, y_hat_train)) \n",
    "print(classification_report(y_test, y_hat_test)) "
   ]
  },
  {
   "cell_type": "code",
   "execution_count": 45,
   "metadata": {},
   "outputs": [
    {
     "data": {
      "image/png": "[encoded data removed]",
      "text/plain": [
       "<Figure size 432x288 with 2 Axes>"
      ]
     },
     "metadata": {
      "needs_background": "light"
     },
     "output_type": "display_data"
    }
   ],
   "source": [
    "plot_confusion_matrix(forest, X_train_resampled, y_train_resampled,\n",
    "                     cmap=plt.cm.Blues)\n",
    "plt.show()"
   ]
  },
  {
   "cell_type": "code",
   "execution_count": 46,
   "metadata": {},
   "outputs": [
    {
     "data": {
      "image/png": "[encoded data removed]",
      "text/plain": [
       "<Figure size 432x288 with 2 Axes>"
      ]
     },
     "metadata": {
      "needs_background": "light"
     },
     "output_type": "display_data"
    }
   ],
   "source": [
    "plot_confusion_matrix(forest, X_test, y_test,\n",
    "                     cmap=plt.cm.Blues)\n",
    "plt.show()"
   ]
  },
  {
   "cell_type": "code",
   "execution_count": 47,
   "metadata": {
    "scrolled": true
   },
   "outputs": [
    {
     "data": {
      "image/png": "[encoded data removed]",
      "text/plain": [
       "<Figure size 576x1152 with 1 Axes>"
      ]
     },
     "metadata": {
      "needs_background": "light"
     },
     "output_type": "display_data"
    }
   ],
   "source": [
    "plot_feature_importances(forest)"
   ]
  },
  {
   "cell_type": "markdown",
   "metadata": {},
   "source": [
    "# Model 4 - Optimize RF Model (2nd Attempt)"
   ]
  },
  {
   "cell_type": "markdown",
   "metadata": {},
   "source": [
    "Attempting to reduce runtime by decreasing parameters a bit, but this code still does take a while to run.\n",
    "\n",
    "To avoid overfitting in the RF Model, the following strategies will be utilized:\n",
    "* Use less features (use something like 50% of total features for the max features parameter).\n",
    "* Keep n_estimators large because the more trees there are, the less likely it is to overfit."
   ]
  },
  {
   "cell_type": "markdown",
   "metadata": {},
   "source": [
    "## Optimize RF Parameters and Fit"
   ]
  },
  {
   "cell_type": "code",
   "execution_count": null,
   "metadata": {},
   "outputs": [],
   "source": [
    "# Using a pipeline to select for optimal parameters in the RF Classifier\n",
    "pipe = Pipeline([('clf', RandomForestClassifier(random_state=1))])\n",
    "\n",
    "grid_params = [{'clf__n_estimators': [100],\n",
    "                'clf__criterion': ['entropy'],\n",
    "                'clf__max_depth': [None, 1, 7, 15],\n",
    "                'clf__min_samples_split': [2, 5, 10],\n",
    "                'clf__min_samples_leaf': [2, 3, 4, 5],\n",
    "                'clf__max_features': [37]     #this is 50% of total features\n",
    "               }]\n",
    "\n",
    "# grid search\n",
    "gs = GridSearchCV(estimator=pipe,\n",
    "                  param_grid=grid_params,\n",
    "                  scoring='accuracy',\n",
    "                  cv=10)\n",
    "\n",
    "# Fit using grid search\n",
    "gs.fit(X_train_resampled, y_train_resampled)\n",
    "\n",
    "# Best accuracy\n",
    "print('Best accuracy: %.3f' % gs.best_score_)\n",
    "\n",
    "# Best params\n",
    "print('\\nBest params:\\n', gs.best_params_)"
   ]
  },
  {
   "cell_type": "code",
   "execution_count": 48,
   "metadata": {},
   "outputs": [
    {
     "data": {
      "text/plain": [
       "RandomForestClassifier(criterion='entropy', max_features=37, min_samples_leaf=2,\n",
       "                       min_samples_split=5, random_state=1)"
      ]
     },
     "execution_count": 48,
     "metadata": {},
     "output_type": "execute_result"
    }
   ],
   "source": [
    "forest = RandomForestClassifier(n_estimators=100, criterion='entropy', \n",
    "                                max_depth=None, min_samples_leaf=2,\n",
    "                                min_samples_split=5, random_state=1,\n",
    "                                max_features=37)\n",
    "forest.fit(X_train_resampled, y_train_resampled)"
   ]
  },
  {
   "cell_type": "markdown",
   "metadata": {},
   "source": [
    "## Evaluate"
   ]
  },
  {
   "cell_type": "code",
   "execution_count": 49,
   "metadata": {},
   "outputs": [
    {
     "data": {
      "text/plain": [
       "0.9962281942479962"
      ]
     },
     "execution_count": 49,
     "metadata": {},
     "output_type": "execute_result"
    }
   ],
   "source": [
    "# Training Accuracy\n",
    "forest.score(X_train_resampled, y_train_resampled)"
   ]
  },
  {
   "cell_type": "code",
   "execution_count": 50,
   "metadata": {},
   "outputs": [
    {
     "data": {
      "text/plain": [
       "0.935251798561151"
      ]
     },
     "execution_count": 50,
     "metadata": {},
     "output_type": "execute_result"
    }
   ],
   "source": [
    "# Testing Accuracy\n",
    "forest.score(X_test, y_test)"
   ]
  },
  {
   "cell_type": "code",
   "execution_count": 51,
   "metadata": {},
   "outputs": [
    {
     "name": "stdout",
     "output_type": "stream",
     "text": [
      "              precision    recall  f1-score   support\n",
      "\n",
      "           0       0.88      0.96      0.92      2121\n",
      "           1       0.96      0.86      0.91      2121\n",
      "\n",
      "    accuracy                           0.91      4242\n",
      "   macro avg       0.92      0.91      0.91      4242\n",
      "weighted avg       0.92      0.91      0.91      4242\n",
      "\n",
      "              precision    recall  f1-score   support\n",
      "\n",
      "           0       0.98      0.91      0.95       729\n",
      "           1       0.59      0.87      0.70       105\n",
      "\n",
      "    accuracy                           0.91       834\n",
      "   macro avg       0.79      0.89      0.82       834\n",
      "weighted avg       0.93      0.91      0.91       834\n",
      "\n"
     ]
    }
   ],
   "source": [
    "print(classification_report(y_train_resampled, y_hat_train)) \n",
    "print(classification_report(y_test, y_hat_test)) "
   ]
  },
  {
   "cell_type": "code",
   "execution_count": 52,
   "metadata": {},
   "outputs": [
    {
     "data": {
      "image/png": "[encoded data removed]",
      "text/plain": [
       "<Figure size 432x288 with 2 Axes>"
      ]
     },
     "metadata": {
      "needs_background": "light"
     },
     "output_type": "display_data"
    }
   ],
   "source": [
    "plot_confusion_matrix(forest, X_train_resampled, y_train_resampled,\n",
    "                     cmap=plt.cm.Blues)\n",
    "plt.show()"
   ]
  },
  {
   "cell_type": "code",
   "execution_count": 53,
   "metadata": {},
   "outputs": [
    {
     "data": {
      "image/png": "[encoded data removed]",
      "text/plain": [
       "<Figure size 432x288 with 2 Axes>"
      ]
     },
     "metadata": {
      "needs_background": "light"
     },
     "output_type": "display_data"
    }
   ],
   "source": [
    "plot_confusion_matrix(forest, X_test, y_test,\n",
    "                     cmap=plt.cm.Blues)\n",
    "plt.show()"
   ]
  },
  {
   "cell_type": "markdown",
   "metadata": {},
   "source": [
    "# Model 5 - SVM"
   ]
  },
  {
   "cell_type": "markdown",
   "metadata": {},
   "source": [
    "Creating an SVM model to attempt to lower runtime expense found in the RF models."
   ]
  },
  {
   "cell_type": "markdown",
   "metadata": {},
   "source": [
    "## Fit Baseline SVM, and then optimize parameters"
   ]
  },
  {
   "cell_type": "markdown",
   "metadata": {},
   "source": [
    "* Multiple types of kernel functions were tested.\n",
    "* Poly and rbf kernels were the strongest, but poly seems to be slightly better."
   ]
  },
  {
   "cell_type": "code",
   "execution_count": 54,
   "metadata": {},
   "outputs": [],
   "source": [
    "svclassifier = SVC(kernel='poly', C=1)  \n",
    "svclassifier.fit(X_train_resampled, y_train_resampled) \n",
    "y_pred = svclassifier.predict(X_test)"
   ]
  },
  {
   "cell_type": "code",
   "execution_count": 55,
   "metadata": {
    "scrolled": true
   },
   "outputs": [
    {
     "name": "stdout",
     "output_type": "stream",
     "text": [
      "[[604 125]\n",
      " [ 18  87]]\n",
      "              precision    recall  f1-score   support\n",
      "\n",
      "           0       0.97      0.83      0.89       729\n",
      "           1       0.41      0.83      0.55       105\n",
      "\n",
      "    accuracy                           0.83       834\n",
      "   macro avg       0.69      0.83      0.72       834\n",
      "weighted avg       0.90      0.83      0.85       834\n",
      "\n",
      "The accuracy score is 0.8285371702637889\n"
     ]
    }
   ],
   "source": [
    "print(confusion_matrix(y_test, y_pred))  \n",
    "print(classification_report(y_test, y_pred)) \n",
    "print(\"The accuracy score is\" + \" \"+ str(accuracy_score(y_test, y_pred)))"
   ]
  },
  {
   "cell_type": "markdown",
   "metadata": {},
   "source": [
    "Optimize parameters to use in SVM"
   ]
  },
  {
   "cell_type": "code",
   "execution_count": 56,
   "metadata": {},
   "outputs": [],
   "source": [
    "def svc_param_selection(X, y, nfolds):\n",
    "    Cs = [0.001, 0.01, 0.1, 1, 10]\n",
    "    gammas = [0.001, 0.01, 0.1, 1]\n",
    "    param_grid = {'C': Cs, 'gamma' : gammas}\n",
    "    grid_search = GridSearchCV(svm.SVC(kernel='poly'), param_grid, cv=nfolds)\n",
    "    grid_search.fit(X_train_resampled, y_train_resampled)\n",
    "    grid_search.best_params_\n",
    "    return grid_search.best_params_"
   ]
  },
  {
   "cell_type": "code",
   "execution_count": 57,
   "metadata": {},
   "outputs": [
    {
     "data": {
      "text/plain": [
       "{'C': 0.01, 'gamma': 1}"
      ]
     },
     "execution_count": 57,
     "metadata": {},
     "output_type": "execute_result"
    }
   ],
   "source": [
    "svc_param_selection(X_train_resampled, y_train_resampled, 5)"
   ]
  },
  {
   "cell_type": "code",
   "execution_count": 59,
   "metadata": {},
   "outputs": [],
   "source": [
    "# best rbf params: C=10, gamma=1 with .861 accuracy on test set\n",
    "# best poly params: C=1, gamma=1 with .887 accuracy on test set\n",
    "svclassifier = SVC(kernel='poly', C=.01, gamma=1)  \n",
    "svclassifier.fit(X_train_resampled, y_train_resampled) \n",
    "y_pred = svclassifier.predict(X_test)"
   ]
  },
  {
   "cell_type": "markdown",
   "metadata": {},
   "source": [
    "## Evaluate"
   ]
  },
  {
   "cell_type": "code",
   "execution_count": 60,
   "metadata": {},
   "outputs": [
    {
     "name": "stdout",
     "output_type": "stream",
     "text": [
      "[[605 124]\n",
      " [ 15  90]]\n",
      "              precision    recall  f1-score   support\n",
      "\n",
      "           0       0.98      0.83      0.90       729\n",
      "           1       0.42      0.86      0.56       105\n",
      "\n",
      "    accuracy                           0.83       834\n",
      "   macro avg       0.70      0.84      0.73       834\n",
      "weighted avg       0.91      0.83      0.86       834\n",
      "\n",
      "The accuracy score is 0.8333333333333334\n"
     ]
    }
   ],
   "source": [
    "print(confusion_matrix(y_test, y_pred))  \n",
    "print(classification_report(y_test, y_pred)) \n",
    "print(\"The accuracy score is\" + \" \"+ str(accuracy_score(y_test, y_pred)))"
   ]
  },
  {
   "cell_type": "code",
   "execution_count": 61,
   "metadata": {},
   "outputs": [
    {
     "data": {
      "text/plain": [
       "0.8689297501178689"
      ]
     },
     "execution_count": 61,
     "metadata": {},
     "output_type": "execute_result"
    }
   ],
   "source": [
    "y_pred_train = svclassifier.predict(X_train_resampled)\n",
    "accuracy_score(y_train_resampled, y_pred_train)"
   ]
  },
  {
   "cell_type": "code",
   "execution_count": 62,
   "metadata": {},
   "outputs": [
    {
     "name": "stdout",
     "output_type": "stream",
     "text": [
      "[[1872  249]\n",
      " [ 307 1814]]\n",
      "              precision    recall  f1-score   support\n",
      "\n",
      "           0       0.86      0.88      0.87      2121\n",
      "           1       0.88      0.86      0.87      2121\n",
      "\n",
      "    accuracy                           0.87      4242\n",
      "   macro avg       0.87      0.87      0.87      4242\n",
      "weighted avg       0.87      0.87      0.87      4242\n",
      "\n"
     ]
    }
   ],
   "source": [
    "print(confusion_matrix(y_train_resampled, y_pred_train))  \n",
    "print(classification_report(y_train_resampled, y_pred_train))"
   ]
  },
  {
   "cell_type": "markdown",
   "metadata": {},
   "source": [
    "The accuracy score on the train set is about 12% higher than the test set, which suggests overfitting. The train set also predicted perfectly, which indicates complete overfitting to the training set. The test set evaluation shows many FNs and FPs. Overall, SVM does not seem like the best model for this problem."
   ]
  },
  {
   "cell_type": "markdown",
   "metadata": {},
   "source": [
    "# Model 6 - AdaBoost"
   ]
  },
  {
   "cell_type": "markdown",
   "metadata": {},
   "source": [
    "The motivation for this model is to reduce runtime expense found in the RF model optimization processes."
   ]
  },
  {
   "cell_type": "markdown",
   "metadata": {},
   "source": [
    "## Instantiate Model and Fit"
   ]
  },
  {
   "cell_type": "code",
   "execution_count": 63,
   "metadata": {},
   "outputs": [
    {
     "data": {
      "text/plain": [
       "AdaBoostClassifier(random_state=42)"
      ]
     },
     "execution_count": 63,
     "metadata": {},
     "output_type": "execute_result"
    }
   ],
   "source": [
    "from sklearn.ensemble import AdaBoostClassifier\n",
    "adaboost_clf = AdaBoostClassifier(random_state=42)\n",
    "adaboost_clf.fit(X_train_resampled, y_train_resampled)"
   ]
  },
  {
   "cell_type": "markdown",
   "metadata": {},
   "source": [
    "## Evaluate"
   ]
  },
  {
   "cell_type": "code",
   "execution_count": 64,
   "metadata": {},
   "outputs": [],
   "source": [
    "# AdaBoost model predictions\n",
    "adaboost_train_preds = adaboost_clf.predict(X_train_resampled)\n",
    "adaboost_test_preds = adaboost_clf.predict(X_test)"
   ]
  },
  {
   "cell_type": "code",
   "execution_count": 65,
   "metadata": {},
   "outputs": [
    {
     "data": {
      "image/png": "[encoded data removed]",
      "text/plain": [
       "<Figure size 432x288 with 2 Axes>"
      ]
     },
     "metadata": {
      "needs_background": "light"
     },
     "output_type": "display_data"
    }
   ],
   "source": [
    "plot_confusion_matrix(adaboost_clf, X_test, y_test,\n",
    "                     cmap=plt.cm.Blues)\n",
    "plt.show()"
   ]
  },
  {
   "cell_type": "code",
   "execution_count": 66,
   "metadata": {},
   "outputs": [
    {
     "name": "stdout",
     "output_type": "stream",
     "text": [
      "              precision    recall  f1-score   support\n",
      "\n",
      "           0       0.97      0.81      0.88       729\n",
      "           1       0.38      0.80      0.52       105\n",
      "\n",
      "    accuracy                           0.81       834\n",
      "   macro avg       0.67      0.81      0.70       834\n",
      "weighted avg       0.89      0.81      0.84       834\n",
      "\n",
      "The accuracy score is 0.8117505995203836\n"
     ]
    }
   ],
   "source": [
    "print(classification_report(y_test, adaboost_test_preds)) \n",
    "print(\"The accuracy score is\" + \" \"+ str(accuracy_score(y_test, adaboost_test_preds)))"
   ]
  },
  {
   "cell_type": "code",
   "execution_count": 67,
   "metadata": {},
   "outputs": [
    {
     "name": "stdout",
     "output_type": "stream",
     "text": [
      "              precision    recall  f1-score   support\n",
      "\n",
      "           0       0.81      0.85      0.83      2121\n",
      "           1       0.84      0.80      0.82      2121\n",
      "\n",
      "    accuracy                           0.82      4242\n",
      "   macro avg       0.82      0.82      0.82      4242\n",
      "weighted avg       0.82      0.82      0.82      4242\n",
      "\n",
      "The accuracy score is 0.8241395568128241\n"
     ]
    }
   ],
   "source": [
    "print(classification_report(y_train_resampled, adaboost_train_preds))\n",
    "print(\"The accuracy score is\" + \" \"+ str(accuracy_score(y_train_resampled, adaboost_train_preds)))"
   ]
  },
  {
   "cell_type": "markdown",
   "metadata": {},
   "source": [
    "Comments on AdaBoost Model:\n",
    "* It is very fast\n",
    "* It completely overfit to the training set\n",
    "* It has comparatively higher rate of FN (main column that is trying to be reduced) and FP in comparison to RF.\n",
    "* It does not have as good of scoring (by any metric of comparison) to the RF models"
   ]
  },
  {
   "cell_type": "markdown",
   "metadata": {},
   "source": [
    "## Tune Model with GridSearchCV and Run Again"
   ]
  },
  {
   "cell_type": "code",
   "execution_count": 68,
   "metadata": {},
   "outputs": [
    {
     "data": {
      "text/plain": [
       "{'learning_rate': 1, 'n_estimators': 100}"
      ]
     },
     "execution_count": 68,
     "metadata": {},
     "output_type": "execute_result"
    }
   ],
   "source": [
    "gs = GridSearchCV(estimator=adaboost_clf,\n",
    "                 param_grid={\n",
    "                     'n_estimators': [25, 50, 100, 500],\n",
    "                     'learning_rate': [.001, .01, .1, 1]\n",
    "                 }, cv=5)\n",
    "\n",
    "gs.fit(X_train_resampled, y_train_resampled)\n",
    "gs.best_params_"
   ]
  },
  {
   "cell_type": "code",
   "execution_count": 69,
   "metadata": {},
   "outputs": [
    {
     "data": {
      "text/plain": [
       "AdaBoostClassifier(learning_rate=1, n_estimators=100, random_state=42)"
      ]
     },
     "execution_count": 69,
     "metadata": {},
     "output_type": "execute_result"
    }
   ],
   "source": [
    "adaboost_clf = AdaBoostClassifier(learning_rate=1, n_estimators=100,\n",
    "                                  random_state=42)\n",
    "adaboost_clf.fit(X_train_resampled, y_train_resampled)"
   ]
  },
  {
   "cell_type": "code",
   "execution_count": 70,
   "metadata": {},
   "outputs": [
    {
     "name": "stdout",
     "output_type": "stream",
     "text": [
      "              precision    recall  f1-score   support\n",
      "\n",
      "           0       0.81      0.85      0.83      2121\n",
      "           1       0.85      0.80      0.82      2121\n",
      "\n",
      "    accuracy                           0.83      4242\n",
      "   macro avg       0.83      0.83      0.83      4242\n",
      "weighted avg       0.83      0.83      0.83      4242\n",
      "\n",
      "              precision    recall  f1-score   support\n",
      "\n",
      "           0       0.96      0.81      0.88       729\n",
      "           1       0.37      0.79      0.51       105\n",
      "\n",
      "    accuracy                           0.81       834\n",
      "   macro avg       0.67      0.80      0.69       834\n",
      "weighted avg       0.89      0.81      0.83       834\n",
      "\n"
     ]
    }
   ],
   "source": [
    "# AdaBoost model predictions\n",
    "adaboost_train_preds = adaboost_clf.predict(X_train_resampled)\n",
    "adaboost_test_preds = adaboost_clf.predict(X_test)\n",
    "\n",
    "print(classification_report(y_train_resampled, adaboost_train_preds))\n",
    "print(classification_report(y_test, adaboost_test_preds))"
   ]
  },
  {
   "cell_type": "code",
   "execution_count": 71,
   "metadata": {},
   "outputs": [
    {
     "data": {
      "image/png": "[encoded data removed]",
      "text/plain": [
       "<Figure size 432x288 with 2 Axes>"
      ]
     },
     "metadata": {
      "needs_background": "light"
     },
     "output_type": "display_data"
    }
   ],
   "source": [
    "plot_confusion_matrix(adaboost_clf, X_test, y_test,\n",
    "                     cmap=plt.cm.Blues)\n",
    "plt.show()"
   ]
  },
  {
   "cell_type": "markdown",
   "metadata": {},
   "source": [
    "Significantly less FPs in this tuned model in comparison to the untuned AdaBoost model, but still does not perform nearly as well as RF"
   ]
  },
  {
   "cell_type": "markdown",
   "metadata": {},
   "source": [
    "# RF Without State Column"
   ]
  },
  {
   "cell_type": "markdown",
   "metadata": {},
   "source": [
    "The 'State' column is probably not particularly useful for SyriaTel, and none of the states seem to have super strong feature importance."
   ]
  },
  {
   "cell_type": "markdown",
   "metadata": {},
   "source": [
    "## Remove State Column and Prepare Dataset to Model"
   ]
  },
  {
   "cell_type": "code",
   "execution_count": 73,
   "metadata": {},
   "outputs": [],
   "source": [
    "# Define X and y\n",
    "y = df['churn']\n",
    "\n",
    "# dropping # vmail messages because its distribution isn't normal\n",
    "# drop redundancies now that there are total charge, minutes, and calls cols.\n",
    "X = df.drop(['churn', 'total intl calls', 'number vmail messages',\n",
    "             'total_intl_calls', 'state', 'total day minutes',\n",
    "             'total day calls', 'total day charge', 'total eve minutes',\n",
    "             'total eve calls', 'total eve charge', 'total night minutes',\n",
    "             'total night calls', 'total night charge', 'state_int'], axis=1)\n",
    "\n",
    "# Split\n",
    "X_train, X_test, y_train, y_test = train_test_split(X, y, random_state=27)\n",
    "\n",
    "# Fixing class imbalance with SMOTE\n",
    "smote = SMOTE()\n",
    "X_train_resampled, y_train_resampled = smote.fit_sample(X_train, y_train)\n",
    "\n",
    "# define categorical columns\n",
    "cats = ['international plan', 'intl_calls_bins',\n",
    "        'customer service calls', 'voice mail plan']\n",
    "\n",
    "# Seperate data into categorical for train and test sets\n",
    "X_train_cats = X_train_resampled[cats]\n",
    "X_test_cats = X_test[cats]\n",
    "\n",
    "# handle categorical values\n",
    "ohe = OneHotEncoder(handle_unknown=\"ignore\", sparse=False)\n",
    "\n",
    "ohe.fit(X_train_cats)\n",
    "X_train_ohe = pd.DataFrame(\n",
    "    ohe.transform(X_train_cats),\n",
    "    index=X_train_cats.index,\n",
    "    columns=ohe.get_feature_names()\n",
    ")\n",
    "\n",
    "ohe.fit(X_test_cats)\n",
    "X_test_ohe = pd.DataFrame(\n",
    "    ohe.transform(X_test_cats),\n",
    "    index=X_test_cats.index,\n",
    "    columns=ohe.get_feature_names()\n",
    ")\n",
    "\n",
    "# Scaling variables to work well with OHE data\n",
    "X_train_numerics = X_train_resampled.drop(cats, axis=1)\n",
    "X_test_numerics = X_test.drop(cats, axis=1)\n",
    "\n",
    "scaler = MinMaxScaler()\n",
    "\n",
    "scaler.fit(X_train_numerics)\n",
    "X_train_scaled = pd.DataFrame(\n",
    "    scaler.transform(X_train_numerics),\n",
    "    index=X_train_numerics.index,\n",
    "    columns=X_train_numerics.columns\n",
    ")\n",
    "\n",
    "scaler.fit(X_train_numerics)\n",
    "X_test_scaled = pd.DataFrame(\n",
    "    scaler.transform(X_test_numerics),\n",
    "    index=X_test_numerics.index,\n",
    "    columns=X_test_numerics.columns\n",
    ")\n",
    "\n",
    "\n",
    "# Concatenate\n",
    "X_train_resampled = pd.DataFrame()\n",
    "X_train_resampled = pd.concat([X_train_scaled, X_train_ohe], axis=1)\n",
    "\n",
    "X_test = pd.DataFrame()\n",
    "X_test = pd.concat([X_test_scaled, X_test_ohe], axis=1)"
   ]
  },
  {
   "cell_type": "markdown",
   "metadata": {},
   "source": [
    "## Fit Model"
   ]
  },
  {
   "cell_type": "code",
   "execution_count": 74,
   "metadata": {},
   "outputs": [
    {
     "data": {
      "text/plain": [
       "RandomForestClassifier(max_depth=13, random_state=1)"
      ]
     },
     "execution_count": 74,
     "metadata": {},
     "output_type": "execute_result"
    }
   ],
   "source": [
    "# random forest model\n",
    "forest = RandomForestClassifier(n_estimators=100, max_depth=13, random_state=1)\n",
    "forest.fit(X_train_resampled, y_train_resampled)"
   ]
  },
  {
   "cell_type": "markdown",
   "metadata": {},
   "source": [
    "## Evaluate"
   ]
  },
  {
   "cell_type": "code",
   "execution_count": 75,
   "metadata": {},
   "outputs": [
    {
     "name": "stdout",
     "output_type": "stream",
     "text": [
      "              precision    recall  f1-score   support\n",
      "\n",
      "           0       0.88      0.96      0.92      2121\n",
      "           1       0.96      0.86      0.91      2121\n",
      "\n",
      "    accuracy                           0.91      4242\n",
      "   macro avg       0.92      0.91      0.91      4242\n",
      "weighted avg       0.92      0.91      0.91      4242\n",
      "\n",
      "              precision    recall  f1-score   support\n",
      "\n",
      "           0       0.98      0.91      0.95       729\n",
      "           1       0.59      0.87      0.70       105\n",
      "\n",
      "    accuracy                           0.91       834\n",
      "   macro avg       0.79      0.89      0.82       834\n",
      "weighted avg       0.93      0.91      0.91       834\n",
      "\n"
     ]
    }
   ],
   "source": [
    "print(classification_report(y_train_resampled, y_hat_train)) \n",
    "print(classification_report(y_test, y_hat_test))"
   ]
  },
  {
   "cell_type": "code",
   "execution_count": 76,
   "metadata": {},
   "outputs": [
    {
     "data": {
      "text/plain": [
       "0.9566242338519566"
      ]
     },
     "execution_count": 76,
     "metadata": {},
     "output_type": "execute_result"
    }
   ],
   "source": [
    "# Training Accuracy\n",
    "forest.score(X_train_resampled, y_train_resampled)"
   ]
  },
  {
   "cell_type": "code",
   "execution_count": 77,
   "metadata": {},
   "outputs": [
    {
     "data": {
      "text/plain": [
       "0.9292565947242206"
      ]
     },
     "execution_count": 77,
     "metadata": {},
     "output_type": "execute_result"
    }
   ],
   "source": [
    "# Testing Accuracy\n",
    "forest.score(X_test, y_test)"
   ]
  },
  {
   "cell_type": "code",
   "execution_count": 78,
   "metadata": {},
   "outputs": [
    {
     "data": {
      "image/png": "[encoded data removed]",
      "text/plain": [
       "<Figure size 576x1152 with 1 Axes>"
      ]
     },
     "metadata": {
      "needs_background": "light"
     },
     "output_type": "display_data"
    }
   ],
   "source": [
    "plot_feature_importances(forest)"
   ]
  },
  {
   "cell_type": "code",
   "execution_count": 79,
   "metadata": {},
   "outputs": [
    {
     "data": {
      "image/png": "[encoded data removed]",
      "text/plain": [
       "<Figure size 432x288 with 2 Axes>"
      ]
     },
     "metadata": {
      "needs_background": "light"
     },
     "output_type": "display_data"
    }
   ],
   "source": [
    "plot_confusion_matrix(forest, X_train_resampled, y_train_resampled,\n",
    "                     cmap=plt.cm.Blues)\n",
    "plt.show()"
   ]
  },
  {
   "cell_type": "code",
   "execution_count": 80,
   "metadata": {},
   "outputs": [
    {
     "data": {
      "image/png": "[encoded data removed]",
      "text/plain": [
       "<Figure size 432x288 with 2 Axes>"
      ]
     },
     "metadata": {
      "needs_background": "light"
     },
     "output_type": "display_data"
    }
   ],
   "source": [
    "plot_confusion_matrix(forest, X_test, y_test,\n",
    "                     cmap=plt.cm.Blues)\n",
    "plt.show()"
   ]
  },
  {
   "cell_type": "markdown",
   "metadata": {},
   "source": [
    "## Tune Model with GridSearchCV"
   ]
  },
  {
   "cell_type": "code",
   "execution_count": null,
   "metadata": {},
   "outputs": [],
   "source": [
    "forest = RandomForestClassifier(random_state=1)\n",
    "\n",
    "gs = GridSearchCV(estimator=forest,\n",
    "                 param_grid={\n",
    "                     'n_estimators': [100],     # 100 worked best previously\n",
    "                     'criterion': ['entropy'],     # entropy worked best prev.\n",
    "                     'max_depth': [None, 1, 7, 15],\n",
    "                     'min_samples_split': [2, 5, 10],\n",
    "                     'min_samples_leaf': [2, 3, 4, 5]\n",
    "                 }, cv=10)\n",
    "\n",
    "gs.fit(X_train_resampled, y_train_resampled)\n",
    "gs.best_params_"
   ]
  },
  {
   "cell_type": "markdown",
   "metadata": {},
   "source": [
    "Approximately 2.25 minute runtime for this GridSearchCV."
   ]
  },
  {
   "cell_type": "code",
   "execution_count": null,
   "metadata": {},
   "outputs": [],
   "source": [
    "# Best accuracy\n",
    "print('Best accuracy: %.3f' % gs.best_score_)\n",
    "\n",
    "# Best params\n",
    "print('\\nBest params:\\n', gs.best_params_)"
   ]
  },
  {
   "cell_type": "code",
   "execution_count": 81,
   "metadata": {},
   "outputs": [
    {
     "data": {
      "text/plain": [
       "RandomForestClassifier(criterion='entropy', min_samples_leaf=2,\n",
       "                       min_samples_split=5, random_state=1)"
      ]
     },
     "execution_count": 81,
     "metadata": {},
     "output_type": "execute_result"
    }
   ],
   "source": [
    "forest = RandomForestClassifier(n_estimators=100, criterion='entropy',\n",
    "                                min_samples_leaf=2, min_samples_split=5,\n",
    "                                max_depth=None, random_state=1)\n",
    "forest.fit(X_train_resampled, y_train_resampled)"
   ]
  },
  {
   "cell_type": "markdown",
   "metadata": {},
   "source": [
    "## Re-Evaluate"
   ]
  },
  {
   "cell_type": "code",
   "execution_count": 82,
   "metadata": {},
   "outputs": [
    {
     "name": "stdout",
     "output_type": "stream",
     "text": [
      "              precision    recall  f1-score   support\n",
      "\n",
      "           0       0.88      0.96      0.92      2121\n",
      "           1       0.96      0.86      0.91      2121\n",
      "\n",
      "    accuracy                           0.91      4242\n",
      "   macro avg       0.92      0.91      0.91      4242\n",
      "weighted avg       0.92      0.91      0.91      4242\n",
      "\n",
      "              precision    recall  f1-score   support\n",
      "\n",
      "           0       0.98      0.91      0.95       729\n",
      "           1       0.59      0.87      0.70       105\n",
      "\n",
      "    accuracy                           0.91       834\n",
      "   macro avg       0.79      0.89      0.82       834\n",
      "weighted avg       0.93      0.91      0.91       834\n",
      "\n"
     ]
    }
   ],
   "source": [
    "print(classification_report(y_train_resampled, y_hat_train)) \n",
    "print(classification_report(y_test, y_hat_test))"
   ]
  },
  {
   "cell_type": "code",
   "execution_count": 83,
   "metadata": {},
   "outputs": [
    {
     "data": {
      "text/plain": [
       "0.9865629420084866"
      ]
     },
     "execution_count": 83,
     "metadata": {},
     "output_type": "execute_result"
    }
   ],
   "source": [
    "# Training Accuracy\n",
    "forest.score(X_train_resampled, y_train_resampled)"
   ]
  },
  {
   "cell_type": "code",
   "execution_count": 84,
   "metadata": {},
   "outputs": [
    {
     "data": {
      "text/plain": [
       "0.9376498800959233"
      ]
     },
     "execution_count": 84,
     "metadata": {},
     "output_type": "execute_result"
    }
   ],
   "source": [
    "# Testing Accuracy\n",
    "forest.score(X_test, y_test)"
   ]
  },
  {
   "cell_type": "code",
   "execution_count": 85,
   "metadata": {},
   "outputs": [
    {
     "data": {
      "image/png": "[encoded data removed]",
      "text/plain": [
       "<Figure size 432x288 with 2 Axes>"
      ]
     },
     "metadata": {
      "needs_background": "light"
     },
     "output_type": "display_data"
    }
   ],
   "source": [
    "plot_confusion_matrix(forest, X_train_resampled, y_train_resampled,\n",
    "                     cmap=plt.cm.Blues)\n",
    "plt.show()"
   ]
  },
  {
   "cell_type": "code",
   "execution_count": 86,
   "metadata": {},
   "outputs": [
    {
     "data": {
      "text/plain": [
       "{'TP': 88, 'TN': 694, 'FP': 35, 'FN': 17}"
      ]
     },
     "execution_count": 86,
     "metadata": {},
     "output_type": "execute_result"
    }
   ],
   "source": [
    "y_pred = forest.predict(X_test)\n",
    "conf_matrix(y_test, y_pred)"
   ]
  },
  {
   "cell_type": "code",
   "execution_count": 87,
   "metadata": {},
   "outputs": [
    {
     "data": {
      "image/png": "[encoded data removed]",
      "text/plain": [
       "<Figure size 432x288 with 2 Axes>"
      ]
     },
     "metadata": {
      "needs_background": "light"
     },
     "output_type": "display_data"
    }
   ],
   "source": [
    "plot_confusion_matrix(forest, X_test, y_test,\n",
    "                     cmap=plt.cm.Blues)\n",
    "plt.show()"
   ]
  },
  {
   "cell_type": "code",
   "execution_count": 88,
   "metadata": {},
   "outputs": [
    {
     "data": {
      "image/png": "[encoded data removed]",
      "text/plain": [
       "<Figure size 576x1152 with 1 Axes>"
      ]
     },
     "metadata": {
      "needs_background": "light"
     },
     "output_type": "display_data"
    }
   ],
   "source": [
    "plot_feature_importances(forest)"
   ]
  },
  {
   "cell_type": "code",
   "execution_count": null,
   "metadata": {},
   "outputs": [],
   "source": [
    "# try to visualize the tree\n",
    "# adapted from: https://towardsdatascience.com/how-to-visualize-a-decision-tree-from-a-random-forest-in-python-using-scikit-learn-38ad2d75f21c\n",
    "# credits to Will Koehresen for the code above (link above)\n",
    "\n",
    "from sklearn.tree import export_graphviz\n",
    "# Export as dot file\n",
    "export_graphviz(forest.estimators_[33], out_file='tree.dot', \n",
    "                feature_names = X.columns.to_list(),\n",
    "                class_names = 'churn',\n",
    "                rounded = True, proportion = False, \n",
    "                precision = 3, filled = True)\n",
    "\n",
    "# Convert to png using system command (requires Graphviz)\n",
    "from subprocess import call\n",
    "call(['dot', '-Tpng', 'tree.dot', '-o', 'tree.png', '-Gdpi=600'])\n",
    "\n",
    "# Display in jupyter notebook\n",
    "from IPython.display import Image\n",
    "Image(filename = 'tree.png')"
   ]
  },
  {
   "cell_type": "markdown",
   "metadata": {},
   "source": [
    "# Final Model Selection and Discussion"
   ]
  },
  {
   "cell_type": "markdown",
   "metadata": {},
   "source": [
    "The goal of this project is to reduce customer churn rate for SyriaTel. This dataset is based in the US, so it is important for model results to extrapolate well to an application in Syria (where SyriaTel is based). \n",
    "To reduce customer churn rate, it is important to identify customers that are likely to churn, why these customers churn, and deploy a customer retention strategy on these customers."
   ]
  },
  {
   "cell_type": "markdown",
   "metadata": {},
   "source": [
    "Main evaluation metrics to use and the basis of justification for utilizing these metrics:\n",
    "* The main goal is to implement retention strategies such as offering discounted rates, better plans, etc. to customers identified as likely to churn.\n",
    "* Customers that are classified as churning by the model will be offered a retention strategy that will probably cost money to implement, but it can be justified by retaining the customer in the long term.\n",
    "* Accuracy is important for minimizing total false negatives and false positives. \n",
    "* False negatives (customers identified as retained but are not actually retained) are important to minimize because these are customers that \"fell through the cracks\" and left without any attempt to save their business.\n",
    "* False positives are important to minimize because these customers will potentially represent an unneeded cost because they will be offered one of the retention strategies, which costs the company money, even though they don't need incentive to stay with the company. This loss could be countered with some type of survey to identify dissatisfied customers, but it is important to decrease the amount of false positives.\n",
    "* False negatives (customers identified as not churning but actually churned) should be penalized more because these customers do not have the potential to be retained with any particular strategy, they simply fall through the cracks. This cost is greater than a decent retention strategy because the retention strategy will signify an initial cost, but it will allow for the customer to be retained for a longer time.\n",
    "\n",
    "Other justifications for model selection:\n",
    "* The model must have potential to extrapolate from this dataset (from a US-based company) to the stakeholder (SyriaTel).\n",
    "* It is ideal for the model to be deployed somewhat quickly so that customers can be classified as likely to churn or not at the end of various time periods, and so that customer retention strategies can be deployed quickly."
   ]
  },
  {
   "cell_type": "markdown",
   "metadata": {},
   "source": [
    "Retention Strategies:\n",
    "* If the customer has an international plan, then offer a certain amount of months for free. The international plan in this dataset doesn't seem to do anything (check EDA notebook), and it probably wouldn't be of any cost for this particular company to offer international plans free for an extended period. But this idea is one strategy for retaining customers with international plans.\n",
    "* Offer a discount for call charges. Total charge was an important feature in most models, so it will be useful to offer discounts to retain customers. \n",
    "* Create better customer service methods and offer solutions quickly to customers that call multiple times.\n",
    "* Have an effective international plan."
   ]
  },
  {
   "cell_type": "markdown",
   "metadata": {},
   "source": [
    "Main Retention Strategy to Consider:\n",
    "* Offer customers identified as likely to churn the option to have a discount such as 6 months at 50% off.\n",
    "\n",
    "Items to consider:\n",
    "* Assumptions have to be made in order to evaluate how effective the retention strategy will be.\n",
    "* Assumption 1: average cost to acquire a new customer is around 300 dollars. Sources: https://www.forbes.com/sites/forbestechcouncil/2020/10/30/acquiring-subscribers-is-only-half-the-battle/https://www.entrepreneur.com/article/225415\n",
    "* Average phone bill cost (in the US) for a single user: 70 dollars/month. Source: https://www.usmobile.com/blog/cut-cell-phone-bill/\n",
    "* Assume that customers that leave the service will cost the company 370 dollars (cost of one month of service + cost to acquire new customer).\n",
    "* For False Positive customers (model identifies customer as churning, but they do not churn), assume the cost to the company is (35 dollars* 6 months) = 210 dollars.\n",
    "* For False Negative customers (model identifies as retained but they churn), assume the cost to the company is 370 dollars.\n",
    "* For True Negative customers, assume the rate of retention (after offering the discount) is 80%. \n",
    "* The expected value for any True Negative customer is .8(-210+370) + .2(-370) = 54 dollars.\n",
    "\n",
    "Metric to Use:\n",
    "* A False Negative costs about 1.762 times as much as a False Positive. The metric will need to implement recognition of this discrepancy.\n",
    "* "
   ]
  },
  {
   "cell_type": "code",
   "execution_count": null,
   "metadata": {},
   "outputs": [],
   "source": []
  }
 ],
 "metadata": {
  "kernelspec": {
   "display_name": "Python 3",
   "language": "python",
   "name": "python3"
  },
  "language_info": {
   "codemirror_mode": {
    "name": "ipython",
    "version": 3
   },
   "file_extension": ".py",
   "mimetype": "text/x-python",
   "name": "python",
   "nbconvert_exporter": "python",
   "pygments_lexer": "ipython3",
   "version": "3.8.5"
  },
  "toc": {
   "base_numbering": 1,
   "nav_menu": {},
   "number_sections": true,
   "sideBar": true,
   "skip_h1_title": false,
   "title_cell": "Table of Contents",
   "title_sidebar": "Contents",
   "toc_cell": false,
   "toc_position": {
    "height": "calc(100% - 180px)",
    "left": "10px",
    "top": "150px",
    "width": "383.976px"
   },
   "toc_section_display": true,
   "toc_window_display": true
  }
 },
 "nbformat": 4,
 "nbformat_minor": 4
}
