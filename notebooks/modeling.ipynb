{
 "cells": [
  {
   "cell_type": "markdown",
   "metadata": {},
   "source": [
    "# Final Project Submission\n",
    "* Student name: Sam Oliver\n",
    "* Student pace: self paced\n",
    "* Scheduled project review date/time: 7/15/2022 (11:00am EST)\n",
    "* Instructor name: Abhineet Kulkarni\n",
    "* Blog post URL: https://medium.com/@samueloliver303/exploring-how-random-forests-work-in-machine-learning-7515015a6aa8"
   ]
  },
  {
   "cell_type": "markdown",
   "metadata": {},
   "source": [
    "# Overview"
   ]
  },
  {
   "cell_type": "markdown",
   "metadata": {},
   "source": [
    "This notebook represents efforts to predict trends in the telecommunication data that was investigated in the EDA notebook. For initial context, it is recommended to first read the README file. It is helpful to scan through the EDA first before this notebook as well to understand some of the strategies implemented in this notebook."
   ]
  },
  {
   "cell_type": "markdown",
   "metadata": {},
   "source": [
    "The problem: SyriaTel (a telecommunications company in Syria) is using a US-based telecom dataset surrounding the idea of customer churn in order to decrease losses involved in losing customers.\n",
    "Main considerations for this problem:\n",
    "* Business consideration: Identify customers that are likely to churn and implement a strategy, such as discounted rates for x number of months, to retain these customers.\n",
    "* Evaluation consideration: More money will be lost on a False Negative (customer that is predicted to be retained but actually churned) than on a False Positive (customer that is predicted to churn but actually is retained) because it is assumed that it is more costly to replace the False Negative with a new customer and lose the stream of income from this churned customer than it is to implement a retention strategy (i.e. discounted rate) on a customer that does not need it and simply lose the difference between what they would have paid versus the discounted payment stream. For this reason, an F-2 Score will be used to evaluate model success because this metric penalizes False Negatives more than False Positives.\n",
    "* It should also be noted that F-2 Score is used instead of another metric like recall because F-2 will penalize both FPs and FNs, which is important because both of these cases negatively affect the company. F-2 Score also allows for some buffer in assumptions made for how to assign a specific cost to FPs and FN's, which will be evaluated later in this notebook."
   ]
  },
  {
   "attachments": {
    "FBetaScoreFormula.png": {
     "image/png": "[encoded data removed]"
    }
   },
   "cell_type": "markdown",
   "metadata": {},
   "source": [
    "The F-Score Formula is below. To find F-2, Beta is simply replaced with 2:\n",
    "![FBetaScoreFormula.png](attachment:FBetaScoreFormula.png)"
   ]
  },
  {
   "attachments": {
    "FBetaScoreFormulaTypes.png": {
     "image/png": "[encoded data removed]"
    }
   },
   "cell_type": "markdown",
   "metadata": {},
   "source": [
    "In terms of type I and type II errors, the formula is as follows:\n",
    "![FBetaScoreFormulaTypes.png](attachment:FBetaScoreFormulaTypes.png)"
   ]
  },
  {
   "cell_type": "markdown",
   "metadata": {},
   "source": [
    "# Modeling Preparation"
   ]
  },
  {
   "cell_type": "markdown",
   "metadata": {},
   "source": [
    "## Imports and Some Dtype Conversions"
   ]
  },
  {
   "cell_type": "code",
   "execution_count": 1,
   "metadata": {},
   "outputs": [],
   "source": [
    "# imports\n",
    "import pandas as pd\n",
    "import numpy as np\n",
    "import matplotlib.pyplot as plt\n",
    "import seaborn as sns\n",
    "import sklearn\n",
    "\n",
    "%matplotlib inline\n",
    "\n",
    "from sklearn.model_selection import train_test_split\n",
    "from sklearn.impute import SimpleImputer\n",
    "from sklearn.preprocessing import OneHotEncoder\n",
    "from sklearn.preprocessing import MinMaxScaler\n",
    "from sklearn.linear_model import LogisticRegression\n",
    "\n",
    "from imblearn.over_sampling import SMOTE\n",
    "\n",
    "from sklearn.preprocessing import StandardScaler\n",
    "from sklearn.neighbors import KNeighborsClassifier\n",
    "from sklearn.model_selection import train_test_split, GridSearchCV\n",
    "from sklearn.ensemble import RandomForestClassifier\n",
    "from sklearn.pipeline import Pipeline\n",
    "from sklearn import tree\n",
    "from sklearn.svm import SVC  \n",
    "from sklearn import svm\n",
    "\n",
    "from sklearn.metrics import classification_report, confusion_matrix\n",
    "from sklearn.metrics import fbeta_score, accuracy_score, make_scorer\n",
    "from sklearn.metrics import plot_confusion_matrix"
   ]
  },
  {
   "cell_type": "code",
   "execution_count": 2,
   "metadata": {},
   "outputs": [
    {
     "data": {
      "text/html": [
       "<div>\n",
       "<style scoped>\n",
       "    .dataframe tbody tr th:only-of-type {\n",
       "        vertical-align: middle;\n",
       "    }\n",
       "\n",
       "    .dataframe tbody tr th {\n",
       "        vertical-align: top;\n",
       "    }\n",
       "\n",
       "    .dataframe thead th {\n",
       "        text-align: right;\n",
       "    }\n",
       "</style>\n",
       "<table border=\"1\" class=\"dataframe\">\n",
       "  <thead>\n",
       "    <tr style=\"text-align: right;\">\n",
       "      <th></th>\n",
       "      <th>state</th>\n",
       "      <th>account length</th>\n",
       "      <th>international plan</th>\n",
       "      <th>voice mail plan</th>\n",
       "      <th>total day minutes</th>\n",
       "      <th>total day calls</th>\n",
       "      <th>total day charge</th>\n",
       "      <th>total eve minutes</th>\n",
       "      <th>total eve calls</th>\n",
       "      <th>total eve charge</th>\n",
       "      <th>total night minutes</th>\n",
       "      <th>total night calls</th>\n",
       "      <th>total night charge</th>\n",
       "      <th>total intl calls</th>\n",
       "      <th>total intl charge</th>\n",
       "      <th>customer service calls</th>\n",
       "      <th>churn</th>\n",
       "    </tr>\n",
       "  </thead>\n",
       "  <tbody>\n",
       "    <tr>\n",
       "      <th>0</th>\n",
       "      <td>KS</td>\n",
       "      <td>128</td>\n",
       "      <td>0</td>\n",
       "      <td>1</td>\n",
       "      <td>265.1</td>\n",
       "      <td>110</td>\n",
       "      <td>45.07</td>\n",
       "      <td>197.4</td>\n",
       "      <td>99</td>\n",
       "      <td>16.78</td>\n",
       "      <td>244.7</td>\n",
       "      <td>91</td>\n",
       "      <td>11.01</td>\n",
       "      <td>3</td>\n",
       "      <td>2.70</td>\n",
       "      <td>1</td>\n",
       "      <td>0</td>\n",
       "    </tr>\n",
       "    <tr>\n",
       "      <th>1</th>\n",
       "      <td>OH</td>\n",
       "      <td>107</td>\n",
       "      <td>0</td>\n",
       "      <td>1</td>\n",
       "      <td>161.6</td>\n",
       "      <td>123</td>\n",
       "      <td>27.47</td>\n",
       "      <td>195.5</td>\n",
       "      <td>103</td>\n",
       "      <td>16.62</td>\n",
       "      <td>254.4</td>\n",
       "      <td>103</td>\n",
       "      <td>11.45</td>\n",
       "      <td>3</td>\n",
       "      <td>3.70</td>\n",
       "      <td>1</td>\n",
       "      <td>0</td>\n",
       "    </tr>\n",
       "    <tr>\n",
       "      <th>2</th>\n",
       "      <td>NJ</td>\n",
       "      <td>137</td>\n",
       "      <td>0</td>\n",
       "      <td>0</td>\n",
       "      <td>243.4</td>\n",
       "      <td>114</td>\n",
       "      <td>41.38</td>\n",
       "      <td>121.2</td>\n",
       "      <td>110</td>\n",
       "      <td>10.30</td>\n",
       "      <td>162.6</td>\n",
       "      <td>104</td>\n",
       "      <td>7.32</td>\n",
       "      <td>5</td>\n",
       "      <td>3.29</td>\n",
       "      <td>0</td>\n",
       "      <td>0</td>\n",
       "    </tr>\n",
       "    <tr>\n",
       "      <th>3</th>\n",
       "      <td>OH</td>\n",
       "      <td>84</td>\n",
       "      <td>1</td>\n",
       "      <td>0</td>\n",
       "      <td>299.4</td>\n",
       "      <td>71</td>\n",
       "      <td>50.90</td>\n",
       "      <td>61.9</td>\n",
       "      <td>88</td>\n",
       "      <td>5.26</td>\n",
       "      <td>196.9</td>\n",
       "      <td>89</td>\n",
       "      <td>8.86</td>\n",
       "      <td>7</td>\n",
       "      <td>1.78</td>\n",
       "      <td>2</td>\n",
       "      <td>0</td>\n",
       "    </tr>\n",
       "    <tr>\n",
       "      <th>4</th>\n",
       "      <td>OK</td>\n",
       "      <td>75</td>\n",
       "      <td>1</td>\n",
       "      <td>0</td>\n",
       "      <td>166.7</td>\n",
       "      <td>113</td>\n",
       "      <td>28.34</td>\n",
       "      <td>148.3</td>\n",
       "      <td>122</td>\n",
       "      <td>12.61</td>\n",
       "      <td>186.9</td>\n",
       "      <td>121</td>\n",
       "      <td>8.41</td>\n",
       "      <td>3</td>\n",
       "      <td>2.73</td>\n",
       "      <td>3</td>\n",
       "      <td>0</td>\n",
       "    </tr>\n",
       "  </tbody>\n",
       "</table>\n",
       "</div>"
      ],
      "text/plain": [
       "  state  account length  international plan  voice mail plan  \\\n",
       "0    KS             128                   0                1   \n",
       "1    OH             107                   0                1   \n",
       "2    NJ             137                   0                0   \n",
       "3    OH              84                   1                0   \n",
       "4    OK              75                   1                0   \n",
       "\n",
       "   total day minutes  total day calls  total day charge  total eve minutes  \\\n",
       "0              265.1              110             45.07              197.4   \n",
       "1              161.6              123             27.47              195.5   \n",
       "2              243.4              114             41.38              121.2   \n",
       "3              299.4               71             50.90               61.9   \n",
       "4              166.7              113             28.34              148.3   \n",
       "\n",
       "   total eve calls  total eve charge  total night minutes  total night calls  \\\n",
       "0               99             16.78                244.7                 91   \n",
       "1              103             16.62                254.4                103   \n",
       "2              110             10.30                162.6                104   \n",
       "3               88              5.26                196.9                 89   \n",
       "4              122             12.61                186.9                121   \n",
       "\n",
       "   total night charge  total intl calls  total intl charge  \\\n",
       "0               11.01                 3               2.70   \n",
       "1               11.45                 3               3.70   \n",
       "2                7.32                 5               3.29   \n",
       "3                8.86                 7               1.78   \n",
       "4                8.41                 3               2.73   \n",
       "\n",
       "   customer service calls  churn  \n",
       "0                       1      0  \n",
       "1                       1      0  \n",
       "2                       0      0  \n",
       "3                       2      0  \n",
       "4                       3      0  "
      ]
     },
     "execution_count": 2,
     "metadata": {},
     "output_type": "execute_result"
    }
   ],
   "source": [
    "# import dataset\n",
    "df = pd.read_csv('..\\\\data\\\\telecom_data.csv')\n",
    "\n",
    "# Handle object types for international plan and voice mail plan\n",
    "df.loc[df['international plan'] == 'no', 'international plan'] = 0\n",
    "df.loc[df['international plan'] == 'yes', 'international plan'] = 1 \n",
    "\n",
    "df.loc[df['voice mail plan'] == 'no', 'voice mail plan'] = 0\n",
    "df.loc[df['voice mail plan']== 'yes', 'voice mail plan'] = 1\n",
    "\n",
    "# Change churn to values: 1 (churned/True) 0 (no churn/False)\n",
    "df.loc[df['churn'] == True, 'churn'] = 1\n",
    "df.loc[df['churn'] == False, 'churn'] = 0\n",
    "\n",
    "# going to create backup df and drop phone number from original df\n",
    "# phone number could be used as unique id, but it doesn't seem necessary\n",
    "df_backup = df.copy()\n",
    "df = df.drop(['phone number'], axis=1)\n",
    "\n",
    "# casting int values to churn, voice mail plan, and international plan cols\n",
    "objs = ['international plan', 'voice mail plan', 'churn']\n",
    "\n",
    "for o in objs:\n",
    "    df = df.astype({o: int})\n",
    "    \n",
    "# dropping area code\n",
    "df = df.drop(['area code'], axis=1)\n",
    "\n",
    "# dropping various columns due to perfect (or exceptionally high) correlation\n",
    "df = df.drop(['total intl minutes', 'number vmail messages'], axis=1)\n",
    "\n",
    "# check df\n",
    "df.head()"
   ]
  },
  {
   "cell_type": "markdown",
   "metadata": {},
   "source": [
    "Description of the variables in the dataset:"
   ]
  },
  {
   "cell_type": "markdown",
   "metadata": {},
   "source": [
    "| Feature | Description |\n",
    "| --- | --- |\n",
    "| State | Which state in the US the customer is located |\n",
    "| Account length | Number of months customer has been using the service\n",
    "| Area code | Customer's area code |\n",
    "| Phone number | Customer's phone number without area code |\n",
    "| International plan| (Y/N) does customer have an international plan? |\n",
    "| Voice mail plan | (Y/N) does the customer have a voice mail plan? |\n",
    "| Number vmail messages | Number of voice mail messages |\n",
    "| Total day minutes | Total day minutes used |\n",
    "| Total day calls | Calls made during the day |\n",
    "| Total day charge | Total charge for day calls |\n",
    "| Total eve minutes | Total evening minutes used |\n",
    "| Total eve calls | Calls made during the evening |\n",
    "| Total eve charge | Total charge for evening calls |\n",
    "| Total night minutes | Total night minutes used |\n",
    "| Total night calls | Calls made during the night |\n",
    "| Total night charge | Calls made during the night|\n",
    "| Total intl minutes | Total minutes for international calls |\n",
    "| Total intl calls | Total number of international calls |\n",
    "| Total intl charge | Total charges for international calls |\n",
    "| Customer service calls | Total number of calls to customer service |\n",
    "| Churn | (T/F) Did customer churn (cancel service) or not? |"
   ]
  },
  {
   "cell_type": "markdown",
   "metadata": {},
   "source": [
    "Handle international calls to bin them into categories easier."
   ]
  },
  {
   "cell_type": "code",
   "execution_count": 3,
   "metadata": {},
   "outputs": [
    {
     "data": {
      "text/plain": [
       "3     668\n",
       "4     619\n",
       "2     489\n",
       "5     472\n",
       "6     336\n",
       "7     218\n",
       "1     160\n",
       "8     116\n",
       "9     109\n",
       "10     50\n",
       "11     28\n",
       "0      18\n",
       "12     15\n",
       "13     14\n",
       "15      7\n",
       "14      6\n",
       "18      3\n",
       "16      2\n",
       "19      1\n",
       "17      1\n",
       "20      1\n",
       "Name: total intl calls, dtype: int64"
      ]
     },
     "execution_count": 3,
     "metadata": {},
     "output_type": "execute_result"
    }
   ],
   "source": [
    "# handle international calls to bin them into categories easier.\n",
    "df['total intl calls'].value_counts()"
   ]
  },
  {
   "cell_type": "code",
   "execution_count": 4,
   "metadata": {},
   "outputs": [
    {
     "data": {
      "text/plain": [
       "{'whiskers': [<matplotlib.lines.Line2D at 0x1dd385ce4c0>,\n",
       "  <matplotlib.lines.Line2D at 0x1dd385ce820>],\n",
       " 'caps': [<matplotlib.lines.Line2D at 0x1dd385ceb80>,\n",
       "  <matplotlib.lines.Line2D at 0x1dd385ceee0>],\n",
       " 'boxes': [<matplotlib.lines.Line2D at 0x1dd385ce160>],\n",
       " 'medians': [<matplotlib.lines.Line2D at 0x1dd385e8280>],\n",
       " 'fliers': [<matplotlib.lines.Line2D at 0x1dd385e85e0>],\n",
       " 'means': []}"
      ]
     },
     "execution_count": 4,
     "metadata": {},
     "output_type": "execute_result"
    },
    {
     "data": {
      "image/png": "[encoded data removed]",
      "text/plain": [
       "<Figure size 432x288 with 1 Axes>"
      ]
     },
     "metadata": {
      "needs_background": "light"
     },
     "output_type": "display_data"
    }
   ],
   "source": [
    "plt.boxplot(df['total intl calls'])"
   ]
  },
  {
   "cell_type": "markdown",
   "metadata": {},
   "source": [
    "A few outliers in total international calls, but most customers have made around 3-6 calls."
   ]
  },
  {
   "cell_type": "code",
   "execution_count": 5,
   "metadata": {},
   "outputs": [
    {
     "data": {
      "text/plain": [
       "count    3333.000000\n",
       "mean        4.479448\n",
       "std         2.461214\n",
       "min         0.000000\n",
       "25%         3.000000\n",
       "50%         4.000000\n",
       "75%         6.000000\n",
       "max        20.000000\n",
       "Name: total intl calls, dtype: float64"
      ]
     },
     "execution_count": 5,
     "metadata": {},
     "output_type": "execute_result"
    }
   ],
   "source": [
    "df['total intl calls'].describe()"
   ]
  },
  {
   "cell_type": "markdown",
   "metadata": {},
   "source": [
    "Treating total international calls as categorical because it can be treated as such in the dataset. Binning into low, moderate, and high international call frequency for simplicity."
   ]
  },
  {
   "cell_type": "code",
   "execution_count": 6,
   "metadata": {
    "scrolled": true
   },
   "outputs": [
    {
     "data": {
      "text/plain": [
       "count         3333\n",
       "unique           3\n",
       "top       moderate\n",
       "freq          2095\n",
       "Name: total_intl_calls, dtype: object"
      ]
     },
     "execution_count": 6,
     "metadata": {},
     "output_type": "execute_result"
    }
   ],
   "source": [
    "# range is 0-20 for international calls with most concentrated from 0-10\n",
    "# I will bin into cats: low, moderate, and high with values <3, 3-6, and >6\n",
    "\n",
    "list_tmp = []\n",
    "\n",
    "for index, row in df.iterrows():\n",
    "    if row['total intl calls'] < 3:\n",
    "        list_tmp.append('low')\n",
    "    elif row['total intl calls'] > 6:\n",
    "        list_tmp.append('high')\n",
    "    else:\n",
    "        list_tmp.append('moderate')\n",
    "\n",
    "df['total_intl_calls'] = list_tmp\n",
    "\n",
    "df['total_intl_calls'].describe()"
   ]
  },
  {
   "cell_type": "markdown",
   "metadata": {},
   "source": [
    "## What would be the % chance of guessing correctly if the customer was assumed to not churn?"
   ]
  },
  {
   "cell_type": "code",
   "execution_count": 7,
   "metadata": {},
   "outputs": [
    {
     "data": {
      "text/plain": [
       "0.8550855085508551"
      ]
     },
     "execution_count": 7,
     "metadata": {},
     "output_type": "execute_result"
    }
   ],
   "source": [
    "1-df.churn.mean()"
   ]
  },
  {
   "cell_type": "markdown",
   "metadata": {},
   "source": [
    "Guessing \"not churned\" for every customer would yield about an 85.5% chance of guessing correctly.\n",
    "Notice the class imbalance as well."
   ]
  },
  {
   "cell_type": "markdown",
   "metadata": {},
   "source": [
    "## Handle datatypes"
   ]
  },
  {
   "cell_type": "markdown",
   "metadata": {},
   "source": [
    "Handle state and total_intl_calls object types. Turn these into integers for later modeling."
   ]
  },
  {
   "cell_type": "code",
   "execution_count": 8,
   "metadata": {},
   "outputs": [],
   "source": [
    "states = [\"AL\", \"AK\", \"AZ\", \"AR\", \"CA\", \"CO\", \"CT\", \"DC\", \"DE\", \"FL\", \"GA\",\n",
    "          \"HI\", \"ID\", \"IL\", \"IN\", \"IA\", \"KS\", \"KY\", \"LA\", \"ME\", \"MD\", \"MA\",\n",
    "          \"MI\", \"MN\", \"MS\", \"MO\", \"MT\", \"NE\", \"NV\", \"NH\", \"NJ\", \"NM\", \"NY\",\n",
    "          \"NC\", \"ND\", \"OH\", \"OK\", \"OR\", \"PA\", \"RI\", \"SC\", \"SD\", \"TN\", \"TX\",\n",
    "          \"UT\", \"VT\", \"VA\", \"WA\", \"WV\", \"WI\", \"WY\"]"
   ]
  },
  {
   "cell_type": "code",
   "execution_count": 9,
   "metadata": {},
   "outputs": [],
   "source": [
    "state_int = []\n",
    "for i, row in df.iterrows():\n",
    "    state_int.append(states.index(row['state']))"
   ]
  },
  {
   "cell_type": "code",
   "execution_count": 10,
   "metadata": {},
   "outputs": [],
   "source": [
    "df['state_int'] = state_int"
   ]
  },
  {
   "cell_type": "markdown",
   "metadata": {},
   "source": [
    "States in the dataset are alphabetically ordered such that Alabama is 0 and Wyoming is 50."
   ]
  },
  {
   "cell_type": "code",
   "execution_count": 11,
   "metadata": {},
   "outputs": [],
   "source": [
    "intl_calls_int = []\n",
    "for i, row in df.iterrows():\n",
    "    if row['total_intl_calls'] == 'low':\n",
    "        intl_calls_int.append(0)\n",
    "    elif row['total_intl_calls'] == 'moderate':\n",
    "        intl_calls_int.append(1)\n",
    "    else:\n",
    "        intl_calls_int.append(2)\n",
    "\n",
    "df['intl_calls_bins'] = intl_calls_int"
   ]
  },
  {
   "cell_type": "markdown",
   "metadata": {},
   "source": [
    "Total international calls is now split into 0, 1, and 2 instead of low, moderate, and high. \n",
    "The new columns correspond to the following: 0 represents customers with less than 3 international calls, 1 represents customers with between 3 and 6 international calls, and 6 represents customers with over 6 international calls."
   ]
  },
  {
   "cell_type": "markdown",
   "metadata": {},
   "source": [
    "## Feature Engineering: Totals for Charge, Minutes, and Calls"
   ]
  },
  {
   "cell_type": "markdown",
   "metadata": {},
   "source": [
    "To reduce the number of variables and redundancies in the dataset, total calls, total charge, and total minutes will represent totals for each category. These new categories will not include international call data."
   ]
  },
  {
   "cell_type": "code",
   "execution_count": 12,
   "metadata": {},
   "outputs": [],
   "source": [
    "df['total_calls'] = df.apply(lambda x: x['total night calls'] + x['total day calls'] + x['total eve calls'], \n",
    "                               axis=1)\n",
    "df['total_charge']= df.apply(lambda x: x['total day charge'] + x['total eve charge'] + x['total night charge'],\n",
    "                                             axis=1)\n",
    "df['total_minutes'] = df.apply(lambda x: x['total day minutes'] + x['total eve minutes'] + x['total night minutes'],\n",
    "                                             axis=1)"
   ]
  },
  {
   "cell_type": "markdown",
   "metadata": {},
   "source": [
    "It was observed from the EDA that total minutes and total charge are perfectly correlated. Total minutes will be dropped from the dataframe."
   ]
  },
  {
   "cell_type": "code",
   "execution_count": 13,
   "metadata": {},
   "outputs": [],
   "source": [
    "df = df.drop(['total_minutes'], axis=1)"
   ]
  },
  {
   "cell_type": "markdown",
   "metadata": {},
   "source": [
    "## Define X and y and Normalize the Data"
   ]
  },
  {
   "cell_type": "code",
   "execution_count": 14,
   "metadata": {},
   "outputs": [],
   "source": [
    "y = df['churn']\n",
    "\n",
    "# drop redundancies now that there are total charge, minutes, and calls cols.\n",
    "# dropping any other columns that have been replaced with new ones.\n",
    "\n",
    "X = df.drop(['churn', 'total intl calls',\n",
    "             'total_intl_calls', 'state', 'total day minutes',\n",
    "             'total day calls', 'total day charge', 'total eve minutes',\n",
    "             'total eve calls', 'total eve charge', 'total night minutes',\n",
    "             'total night calls', 'total night charge'], axis=1)"
   ]
  },
  {
   "cell_type": "markdown",
   "metadata": {},
   "source": [
    "## Train-test-split and SMOTE"
   ]
  },
  {
   "cell_type": "markdown",
   "metadata": {},
   "source": [
    "The target feature has imbalance because customers that churned only represent about 14.5% of the data. Synthetic Minority Oversampling Technique (SMOTE) will be implemented to create balance in the target feature such that the models do not overlook the minority class (churned customers)."
   ]
  },
  {
   "cell_type": "code",
   "execution_count": 15,
   "metadata": {},
   "outputs": [],
   "source": [
    "# Split\n",
    "X_train, X_test, y_train, y_test = train_test_split(X, y, random_state=27)\n",
    "\n",
    "# Fixing class imbalance with SMOTE\n",
    "smote = SMOTE(random_state=42)\n",
    "X_train_resampled, y_train_resampled = smote.fit_sample(X_train, y_train)"
   ]
  },
  {
   "cell_type": "markdown",
   "metadata": {},
   "source": [
    "## OHE and Normalize"
   ]
  },
  {
   "cell_type": "markdown",
   "metadata": {},
   "source": [
    "Avoiding data leakage by transforming after the split. Also avoiding data leakage by fitting OHE and Scaler on training data and then transforming both OHE and Scaler using the training data fit."
   ]
  },
  {
   "cell_type": "code",
   "execution_count": 16,
   "metadata": {},
   "outputs": [],
   "source": [
    "# Define categorical columns for OHE\n",
    "cats = ['state_int', 'international plan', 'intl_calls_bins',\n",
    "        'customer service calls', 'voice mail plan']"
   ]
  },
  {
   "cell_type": "code",
   "execution_count": 17,
   "metadata": {},
   "outputs": [],
   "source": [
    "# Seperate data into categorical for train and test sets\n",
    "X_train_cats = X_train_resampled[cats]\n",
    "X_test_cats = X_test[cats]\n",
    "\n",
    "# handle categorical values\n",
    "ohe = OneHotEncoder(handle_unknown=\"ignore\", sparse=False)\n",
    "\n",
    "# OHE for training categoricals\n",
    "ohe.fit(X_train_cats)\n",
    "X_train_ohe = pd.DataFrame(\n",
    "    ohe.transform(X_train_cats),\n",
    "    index=X_train_cats.index,\n",
    "    columns=ohe.get_feature_names()\n",
    ")\n",
    "\n",
    "# OHE for testing categoricals - transform with train fit\n",
    "X_test_ohe = pd.DataFrame(\n",
    "    ohe.transform(X_test_cats),\n",
    "    index=X_test_cats.index,\n",
    "    columns=ohe.get_feature_names()\n",
    ")\n",
    "\n",
    "# Scaling variables to work well with OHE data -scale train and test data\n",
    "X_train_numerics = X_train_resampled.drop(cats, axis=1)\n",
    "X_test_numerics = X_test.drop(cats, axis=1)\n",
    "\n",
    "scaler = MinMaxScaler()\n",
    "\n",
    "scaler.fit(X_train_numerics)\n",
    "X_train_scaled = pd.DataFrame(\n",
    "    scaler.transform(X_train_numerics),\n",
    "    index=X_train_numerics.index,\n",
    "    columns=X_train_numerics.columns\n",
    ")\n",
    "\n",
    "# Scale variables of test data with the train fit (avoids data leakage)\n",
    "X_test_scaled = pd.DataFrame(\n",
    "    scaler.transform(X_test_numerics),\n",
    "    index=X_test_numerics.index,\n",
    "    columns=X_test_numerics.columns\n",
    ")\n",
    "\n",
    "\n",
    "# Concatenate and replace X_train and X_test with OHE+scaled data\n",
    "X_train_resampled = pd.DataFrame()\n",
    "X_train_resampled = pd.concat([X_train_scaled, X_train_ohe], axis=1)\n",
    "\n",
    "X_test = pd.DataFrame()\n",
    "X_test = pd.concat([X_test_scaled, X_test_ohe], axis=1)"
   ]
  },
  {
   "cell_type": "markdown",
   "metadata": {},
   "source": [
    "Printing a few rows of the training data below. Explanation of variable names is below this output."
   ]
  },
  {
   "cell_type": "code",
   "execution_count": 18,
   "metadata": {},
   "outputs": [
    {
     "data": {
      "text/html": [
       "<div>\n",
       "<style scoped>\n",
       "    .dataframe tbody tr th:only-of-type {\n",
       "        vertical-align: middle;\n",
       "    }\n",
       "\n",
       "    .dataframe tbody tr th {\n",
       "        vertical-align: top;\n",
       "    }\n",
       "\n",
       "    .dataframe thead th {\n",
       "        text-align: right;\n",
       "    }\n",
       "</style>\n",
       "<table border=\"1\" class=\"dataframe\">\n",
       "  <thead>\n",
       "    <tr style=\"text-align: right;\">\n",
       "      <th></th>\n",
       "      <th>account length</th>\n",
       "      <th>total intl charge</th>\n",
       "      <th>total_calls</th>\n",
       "      <th>total_charge</th>\n",
       "      <th>x0_0</th>\n",
       "      <th>x0_1</th>\n",
       "      <th>x0_2</th>\n",
       "      <th>x0_3</th>\n",
       "      <th>x0_4</th>\n",
       "      <th>x0_5</th>\n",
       "      <th>...</th>\n",
       "      <th>x3_2</th>\n",
       "      <th>x3_3</th>\n",
       "      <th>x3_4</th>\n",
       "      <th>x3_5</th>\n",
       "      <th>x3_6</th>\n",
       "      <th>x3_7</th>\n",
       "      <th>x3_8</th>\n",
       "      <th>x3_9</th>\n",
       "      <th>x4_0</th>\n",
       "      <th>x4_1</th>\n",
       "    </tr>\n",
       "  </thead>\n",
       "  <tbody>\n",
       "    <tr>\n",
       "      <th>0</th>\n",
       "      <td>0.223214</td>\n",
       "      <td>0.479630</td>\n",
       "      <td>0.779279</td>\n",
       "      <td>0.794778</td>\n",
       "      <td>0.0</td>\n",
       "      <td>0.0</td>\n",
       "      <td>0.0</td>\n",
       "      <td>0.0</td>\n",
       "      <td>0.0</td>\n",
       "      <td>0.0</td>\n",
       "      <td>...</td>\n",
       "      <td>0.0</td>\n",
       "      <td>0.0</td>\n",
       "      <td>0.0</td>\n",
       "      <td>0.0</td>\n",
       "      <td>0.0</td>\n",
       "      <td>0.0</td>\n",
       "      <td>0.0</td>\n",
       "      <td>0.0</td>\n",
       "      <td>1.0</td>\n",
       "      <td>0.0</td>\n",
       "    </tr>\n",
       "    <tr>\n",
       "      <th>1</th>\n",
       "      <td>0.982143</td>\n",
       "      <td>0.120370</td>\n",
       "      <td>0.414414</td>\n",
       "      <td>0.550741</td>\n",
       "      <td>0.0</td>\n",
       "      <td>0.0</td>\n",
       "      <td>0.0</td>\n",
       "      <td>0.0</td>\n",
       "      <td>0.0</td>\n",
       "      <td>0.0</td>\n",
       "      <td>...</td>\n",
       "      <td>0.0</td>\n",
       "      <td>0.0</td>\n",
       "      <td>0.0</td>\n",
       "      <td>0.0</td>\n",
       "      <td>0.0</td>\n",
       "      <td>0.0</td>\n",
       "      <td>0.0</td>\n",
       "      <td>0.0</td>\n",
       "      <td>0.0</td>\n",
       "      <td>1.0</td>\n",
       "    </tr>\n",
       "    <tr>\n",
       "      <th>2</th>\n",
       "      <td>0.486607</td>\n",
       "      <td>0.585185</td>\n",
       "      <td>0.612613</td>\n",
       "      <td>0.382357</td>\n",
       "      <td>0.0</td>\n",
       "      <td>0.0</td>\n",
       "      <td>0.0</td>\n",
       "      <td>0.0</td>\n",
       "      <td>0.0</td>\n",
       "      <td>0.0</td>\n",
       "      <td>...</td>\n",
       "      <td>1.0</td>\n",
       "      <td>0.0</td>\n",
       "      <td>0.0</td>\n",
       "      <td>0.0</td>\n",
       "      <td>0.0</td>\n",
       "      <td>0.0</td>\n",
       "      <td>0.0</td>\n",
       "      <td>0.0</td>\n",
       "      <td>1.0</td>\n",
       "      <td>0.0</td>\n",
       "    </tr>\n",
       "    <tr>\n",
       "      <th>3</th>\n",
       "      <td>0.611607</td>\n",
       "      <td>0.550000</td>\n",
       "      <td>0.211712</td>\n",
       "      <td>0.722089</td>\n",
       "      <td>0.0</td>\n",
       "      <td>0.0</td>\n",
       "      <td>0.0</td>\n",
       "      <td>0.0</td>\n",
       "      <td>0.0</td>\n",
       "      <td>0.0</td>\n",
       "      <td>...</td>\n",
       "      <td>1.0</td>\n",
       "      <td>0.0</td>\n",
       "      <td>0.0</td>\n",
       "      <td>0.0</td>\n",
       "      <td>0.0</td>\n",
       "      <td>0.0</td>\n",
       "      <td>0.0</td>\n",
       "      <td>0.0</td>\n",
       "      <td>1.0</td>\n",
       "      <td>0.0</td>\n",
       "    </tr>\n",
       "    <tr>\n",
       "      <th>4</th>\n",
       "      <td>0.352679</td>\n",
       "      <td>0.655556</td>\n",
       "      <td>0.436937</td>\n",
       "      <td>0.144954</td>\n",
       "      <td>0.0</td>\n",
       "      <td>0.0</td>\n",
       "      <td>0.0</td>\n",
       "      <td>0.0</td>\n",
       "      <td>0.0</td>\n",
       "      <td>0.0</td>\n",
       "      <td>...</td>\n",
       "      <td>0.0</td>\n",
       "      <td>0.0</td>\n",
       "      <td>0.0</td>\n",
       "      <td>0.0</td>\n",
       "      <td>0.0</td>\n",
       "      <td>0.0</td>\n",
       "      <td>0.0</td>\n",
       "      <td>0.0</td>\n",
       "      <td>1.0</td>\n",
       "      <td>0.0</td>\n",
       "    </tr>\n",
       "  </tbody>\n",
       "</table>\n",
       "<p>5 rows × 72 columns</p>\n",
       "</div>"
      ],
      "text/plain": [
       "   account length  total intl charge  total_calls  total_charge  x0_0  x0_1  \\\n",
       "0        0.223214           0.479630     0.779279      0.794778   0.0   0.0   \n",
       "1        0.982143           0.120370     0.414414      0.550741   0.0   0.0   \n",
       "2        0.486607           0.585185     0.612613      0.382357   0.0   0.0   \n",
       "3        0.611607           0.550000     0.211712      0.722089   0.0   0.0   \n",
       "4        0.352679           0.655556     0.436937      0.144954   0.0   0.0   \n",
       "\n",
       "   x0_2  x0_3  x0_4  x0_5  ...  x3_2  x3_3  x3_4  x3_5  x3_6  x3_7  x3_8  \\\n",
       "0   0.0   0.0   0.0   0.0  ...   0.0   0.0   0.0   0.0   0.0   0.0   0.0   \n",
       "1   0.0   0.0   0.0   0.0  ...   0.0   0.0   0.0   0.0   0.0   0.0   0.0   \n",
       "2   0.0   0.0   0.0   0.0  ...   1.0   0.0   0.0   0.0   0.0   0.0   0.0   \n",
       "3   0.0   0.0   0.0   0.0  ...   1.0   0.0   0.0   0.0   0.0   0.0   0.0   \n",
       "4   0.0   0.0   0.0   0.0  ...   0.0   0.0   0.0   0.0   0.0   0.0   0.0   \n",
       "\n",
       "   x3_9  x4_0  x4_1  \n",
       "0   0.0   1.0   0.0  \n",
       "1   0.0   0.0   1.0  \n",
       "2   0.0   1.0   0.0  \n",
       "3   0.0   1.0   0.0  \n",
       "4   0.0   1.0   0.0  \n",
       "\n",
       "[5 rows x 72 columns]"
      ]
     },
     "execution_count": 18,
     "metadata": {},
     "output_type": "execute_result"
    }
   ],
   "source": [
    "X_train_resampled.head()"
   ]
  },
  {
   "cell_type": "markdown",
   "metadata": {},
   "source": [
    "To clarify the new confusing column names ('x0_0' and so on), the following list is provided to retain what each column refers to:\n",
    "* First 51 columns (x0_0-x0_50) refer to the states\n",
    "* The next two columns (x1_0 & x1_1) refer to whether or not the customer has an international plan.\n",
    "* Columns x2_0-x2_2 refer to the frequency (low, moderate, high) of international calls.\n",
    "* Columns x3_0-x3_9 refer to how many calls to customer service the customer has completed.\n",
    "* The last two columns indicate whether or not the customer has a voice mail plan."
   ]
  },
  {
   "cell_type": "markdown",
   "metadata": {},
   "source": [
    "## Confusion Matrix Helper Function"
   ]
  },
  {
   "cell_type": "markdown",
   "metadata": {},
   "source": [
    "This function return a simple, string of confusion matrix values."
   ]
  },
  {
   "cell_type": "code",
   "execution_count": 19,
   "metadata": {},
   "outputs": [],
   "source": [
    "# This function prints out a string of totals for TP, TN, FP, & FN\n",
    "def conf_matrix(y_true, y_pred):\n",
    "    cm = {'TP': 0, 'TN': 0, 'FP': 0, 'FN': 0}\n",
    "    \n",
    "    for ind, label in enumerate(y_true):\n",
    "        pred = y_pred[ind]\n",
    "        if label == 1:\n",
    "            # CASE: TP \n",
    "            if label == pred:\n",
    "                cm['TP'] += 1\n",
    "            # CASE: FN\n",
    "            else:\n",
    "                cm['FN'] += 1\n",
    "        else:\n",
    "            # CASE: TN\n",
    "            if label == pred:\n",
    "                cm['TN'] += 1\n",
    "            # CASE: FP\n",
    "            else:\n",
    "                cm['FP'] += 1\n",
    "    return cm"
   ]
  },
  {
   "cell_type": "markdown",
   "metadata": {},
   "source": [
    "# Baseline Model - Logistic Regression"
   ]
  },
  {
   "cell_type": "markdown",
   "metadata": {},
   "source": [
    "## Fit data to model"
   ]
  },
  {
   "cell_type": "markdown",
   "metadata": {},
   "source": [
    "Using a simpler model (Logistic Regression) for the baseline model."
   ]
  },
  {
   "cell_type": "code",
   "execution_count": 20,
   "metadata": {},
   "outputs": [
    {
     "data": {
      "text/plain": [
       "LogisticRegression(C=1000000000000.0, fit_intercept=False, random_state=1,\n",
       "                   solver='liblinear')"
      ]
     },
     "execution_count": 20,
     "metadata": {},
     "output_type": "execute_result"
    }
   ],
   "source": [
    "# model\n",
    "logreg = LogisticRegression(fit_intercept=False, C=1e12, solver='liblinear',\n",
    "                            random_state=1)\n",
    "model_log = logreg.fit(X_train_resampled, y_train_resampled)\n",
    "model_log"
   ]
  },
  {
   "cell_type": "markdown",
   "metadata": {},
   "source": [
    "## Evaluate"
   ]
  },
  {
   "cell_type": "code",
   "execution_count": 21,
   "metadata": {
    "scrolled": true
   },
   "outputs": [],
   "source": [
    "# Create prediction and residuals for training data\n",
    "y_hat_train = logreg.predict(X_train_resampled)"
   ]
  },
  {
   "cell_type": "code",
   "execution_count": 22,
   "metadata": {},
   "outputs": [
    {
     "name": "stdout",
     "output_type": "stream",
     "text": [
      "[[1637  484]\n",
      " [ 460 1661]]\n",
      "              precision    recall  f1-score   support\n",
      "\n",
      "           0       0.78      0.77      0.78      2121\n",
      "           1       0.77      0.78      0.78      2121\n",
      "\n",
      "    accuracy                           0.78      4242\n",
      "   macro avg       0.78      0.78      0.78      4242\n",
      "weighted avg       0.78      0.78      0.78      4242\n",
      "\n",
      "The accuracy score is 0.7774634606317775\n"
     ]
    }
   ],
   "source": [
    "# Confusion matrix and classifcation report for training data.\n",
    "print(confusion_matrix(y_train_resampled, y_hat_train))  \n",
    "print(classification_report(y_train_resampled, y_hat_train)) \n",
    "print(\"The accuracy score is\" + \" \"+ str(accuracy_score(y_train_resampled, y_hat_train)))"
   ]
  },
  {
   "cell_type": "markdown",
   "metadata": {},
   "source": [
    "* A baseline accuracy score should be over 85.5% because that is what guessing 'churn' every time will score.\n",
    "* Baseline training model produces about the same amount of FP's and FN's. \n",
    "* Precision, recall, and f1 is about the same for churn vs. no churn categories."
   ]
  },
  {
   "cell_type": "markdown",
   "metadata": {},
   "source": [
    "Investigate test results"
   ]
  },
  {
   "cell_type": "code",
   "execution_count": 23,
   "metadata": {},
   "outputs": [
    {
     "name": "stdout",
     "output_type": "stream",
     "text": [
      "[[549 180]\n",
      " [ 17  88]]\n",
      "              precision    recall  f1-score   support\n",
      "\n",
      "           0       0.97      0.75      0.85       729\n",
      "           1       0.33      0.84      0.47       105\n",
      "\n",
      "    accuracy                           0.76       834\n",
      "   macro avg       0.65      0.80      0.66       834\n",
      "weighted avg       0.89      0.76      0.80       834\n",
      "\n",
      "The accuracy score is 0.7637889688249401\n"
     ]
    }
   ],
   "source": [
    "y_hat_test = logreg.predict(X_test)\n",
    "\n",
    "print(confusion_matrix(y_test, y_hat_test))  \n",
    "print(classification_report(y_test, y_hat_test)) \n",
    "print(\"The accuracy score is\" + \" \"+ str(accuracy_score(y_test, y_hat_test)))"
   ]
  },
  {
   "cell_type": "markdown",
   "metadata": {},
   "source": [
    "* Accuracy score is slightly lower than training data. \n",
    "* Not many false negatives, which is good. However, a lot of false positives present.\n",
    "* Precision very low for churn customers. F1 low for churn customers."
   ]
  },
  {
   "cell_type": "code",
   "execution_count": 24,
   "metadata": {},
   "outputs": [
    {
     "data": {
      "text/plain": [
       "{'TP': 88, 'TN': 549, 'FP': 180, 'FN': 17}"
      ]
     },
     "execution_count": 24,
     "metadata": {},
     "output_type": "execute_result"
    }
   ],
   "source": [
    "conf_matrix(y_test, y_hat_test)"
   ]
  },
  {
   "cell_type": "code",
   "execution_count": 25,
   "metadata": {},
   "outputs": [
    {
     "data": {
      "image/png": "[encoded data removed]",
      "text/plain": [
       "<Figure size 432x288 with 2 Axes>"
      ]
     },
     "metadata": {
      "needs_background": "light"
     },
     "output_type": "display_data"
    }
   ],
   "source": [
    "plot_confusion_matrix(logreg, X_test, y_test,\n",
    "                     cmap=plt.cm.Blues)\n",
    "plt.show()"
   ]
  },
  {
   "cell_type": "markdown",
   "metadata": {},
   "source": [
    "Better visualization than the string printout from above...\n",
    "It can be seen that there are quite a few false positives in the baseline model."
   ]
  },
  {
   "cell_type": "code",
   "execution_count": 26,
   "metadata": {},
   "outputs": [
    {
     "name": "stdout",
     "output_type": "stream",
     "text": [
      "[0.64]\n"
     ]
    }
   ],
   "source": [
    "# create list for storing F-Beta2 scores for each model\n",
    "fbeta2_scores = []\n",
    "\n",
    "f = fbeta_score(y_test, y_hat_test, beta=2.0)\n",
    "fbeta2_scores.append(round(f, 3))\n",
    "print(fbeta2_scores)"
   ]
  },
  {
   "cell_type": "markdown",
   "metadata": {},
   "source": [
    "Logistic Regression results:\n",
    "* Both accuracy scores are below a the strategy of simply guessing \"not churned\" for every customer.\n",
    "* It will be key to reduce the number of customers that are identified as retained but actually churned. Ideally everyone that can be identified as churning will be retained with some kind of strategy.\n",
    "* This model produces a lot of false positives, which ultimately penalized the F2 score."
   ]
  },
  {
   "cell_type": "markdown",
   "metadata": {},
   "source": [
    "# Model 2 - RF"
   ]
  },
  {
   "cell_type": "markdown",
   "metadata": {},
   "source": [
    "Using a random forest model to make use of a more complex model that will likely generate better scores than the baseline. Random forest will allow to make use of a wide range of random parameter selection, which is beneficial for this dataset because of the large amount of variables."
   ]
  },
  {
   "cell_type": "markdown",
   "metadata": {},
   "source": [
    "## Fit model"
   ]
  },
  {
   "cell_type": "code",
   "execution_count": 27,
   "metadata": {},
   "outputs": [
    {
     "data": {
      "text/plain": [
       "RandomForestClassifier(max_depth=13, random_state=1)"
      ]
     },
     "execution_count": 27,
     "metadata": {},
     "output_type": "execute_result"
    }
   ],
   "source": [
    "# random forest model\n",
    "forest = RandomForestClassifier(n_estimators=100, max_depth=13, random_state=1)\n",
    "forest.fit(X_train_resampled, y_train_resampled)"
   ]
  },
  {
   "cell_type": "markdown",
   "metadata": {},
   "source": [
    "## Evaluate"
   ]
  },
  {
   "cell_type": "code",
   "execution_count": 28,
   "metadata": {},
   "outputs": [],
   "source": [
    "def plot_feature_importances(model):\n",
    "    n_features = X_train_resampled.shape[1]\n",
    "    plt.figure(figsize=(8,16))\n",
    "    plt.barh(range(n_features), model.feature_importances_, align='center') \n",
    "    plt.yticks(np.arange(n_features), X_train_resampled.columns.values) \n",
    "    plt.xlabel('Feature importance')\n",
    "    plt.ylabel('Feature')"
   ]
  },
  {
   "cell_type": "code",
   "execution_count": 29,
   "metadata": {},
   "outputs": [
    {
     "data": {
      "image/png": "[encoded data removed]",
      "text/plain": [
       "<Figure size 576x1152 with 1 Axes>"
      ]
     },
     "metadata": {
      "needs_background": "light"
     },
     "output_type": "display_data"
    }
   ],
   "source": [
    "plot_feature_importances(forest)"
   ]
  },
  {
   "cell_type": "markdown",
   "metadata": {},
   "source": [
    "* Individual states were not very indicative of anything.\n",
    "* Total charge is most important feature by far.\n",
    "* Having a voice mail plan was the most important feature out of any of the categorical features."
   ]
  },
  {
   "cell_type": "code",
   "execution_count": 30,
   "metadata": {},
   "outputs": [
    {
     "data": {
      "text/plain": [
       "0.8814238566713815"
      ]
     },
     "execution_count": 30,
     "metadata": {},
     "output_type": "execute_result"
    }
   ],
   "source": [
    "# Training Accuracy\n",
    "forest.score(X_train_resampled, y_train_resampled)"
   ]
  },
  {
   "cell_type": "code",
   "execution_count": 31,
   "metadata": {},
   "outputs": [
    {
     "data": {
      "text/plain": [
       "0.8776978417266187"
      ]
     },
     "execution_count": 31,
     "metadata": {},
     "output_type": "execute_result"
    }
   ],
   "source": [
    "# Testing Accuracy\n",
    "forest.score(X_test, y_test)"
   ]
  },
  {
   "cell_type": "markdown",
   "metadata": {},
   "source": [
    "Similar score between train and test sets may indicate lack of overfitting."
   ]
  },
  {
   "cell_type": "code",
   "execution_count": 32,
   "metadata": {},
   "outputs": [
    {
     "name": "stdout",
     "output_type": "stream",
     "text": [
      "[[1965  156]\n",
      " [ 347 1774]]\n",
      "              precision    recall  f1-score   support\n",
      "\n",
      "           0       0.85      0.93      0.89      2121\n",
      "           1       0.92      0.84      0.88      2121\n",
      "\n",
      "    accuracy                           0.88      4242\n",
      "   macro avg       0.88      0.88      0.88      4242\n",
      "weighted avg       0.88      0.88      0.88      4242\n",
      "\n"
     ]
    }
   ],
   "source": [
    "y_hat_train = forest.predict(X_train_resampled)\n",
    "\n",
    "print(confusion_matrix(y_train_resampled, y_hat_train))  \n",
    "print(classification_report(y_train_resampled, y_hat_train)) "
   ]
  },
  {
   "cell_type": "markdown",
   "metadata": {},
   "source": [
    "* Precision, recall, and f1-score all look pretty good. \n",
    "* There are many more FN's than FP's, which is not great for F2-Score, which is the metric being used to compare models."
   ]
  },
  {
   "cell_type": "code",
   "execution_count": 33,
   "metadata": {},
   "outputs": [
    {
     "name": "stdout",
     "output_type": "stream",
     "text": [
      "[[645  84]\n",
      " [ 18  87]]\n",
      "              precision    recall  f1-score   support\n",
      "\n",
      "           0       0.97      0.88      0.93       729\n",
      "           1       0.51      0.83      0.63       105\n",
      "\n",
      "    accuracy                           0.88       834\n",
      "   macro avg       0.74      0.86      0.78       834\n",
      "weighted avg       0.91      0.88      0.89       834\n",
      "\n"
     ]
    }
   ],
   "source": [
    "y_hat_test = forest.predict(X_test)\n",
    "\n",
    "print(confusion_matrix(y_test, y_hat_test))  \n",
    "print(classification_report(y_test, y_hat_test)) "
   ]
  },
  {
   "cell_type": "markdown",
   "metadata": {},
   "source": [
    "* F1-score for churned customers is low.\n",
    "* Precision for churned customers is low.\n",
    "* Not many FN's, but still quite a few FP's."
   ]
  },
  {
   "cell_type": "code",
   "execution_count": 34,
   "metadata": {},
   "outputs": [
    {
     "data": {
      "image/png": "[encoded data removed]",
      "text/plain": [
       "<Figure size 432x288 with 2 Axes>"
      ]
     },
     "metadata": {
      "needs_background": "light"
     },
     "output_type": "display_data"
    }
   ],
   "source": [
    "plot_confusion_matrix(forest, X_test, y_test,\n",
    "                     cmap=plt.cm.Blues)\n",
    "plt.show()"
   ]
  },
  {
   "cell_type": "markdown",
   "metadata": {},
   "source": [
    "Making this plot again to easily visualize the confusion matrix for the test data."
   ]
  },
  {
   "cell_type": "code",
   "execution_count": 35,
   "metadata": {},
   "outputs": [
    {
     "data": {
      "text/plain": [
       "[0.64, 0.736]"
      ]
     },
     "execution_count": 35,
     "metadata": {},
     "output_type": "execute_result"
    }
   ],
   "source": [
    "f = fbeta_score(y_test, y_hat_test, beta=2.0)\n",
    "fbeta2_scores.append(round(f, 3))\n",
    "fbeta2_scores"
   ]
  },
  {
   "cell_type": "markdown",
   "metadata": {},
   "source": [
    "# Model 3 - Optimize RF Model"
   ]
  },
  {
   "cell_type": "markdown",
   "metadata": {},
   "source": [
    "## Fit and use GridSearchCV to find best parameters"
   ]
  },
  {
   "cell_type": "markdown",
   "metadata": {},
   "source": [
    "Creating F-2 Scorer for GridSearchCV so that it can optimize that as a score instead of accuracy or something else."
   ]
  },
  {
   "cell_type": "code",
   "execution_count": 36,
   "metadata": {},
   "outputs": [],
   "source": [
    "# FBeta2 Scorer\n",
    "ftwo_scorer = make_scorer(fbeta_score, beta=2)"
   ]
  },
  {
   "cell_type": "code",
   "execution_count": 37,
   "metadata": {},
   "outputs": [
    {
     "name": "stdout",
     "output_type": "stream",
     "text": [
      "Best F-2 Score: 0.833\n",
      "\n",
      "Best params:\n",
      " {'clf__criterion': 'gini', 'clf__max_depth': None, 'clf__min_samples_leaf': 2, 'clf__min_samples_split': 5, 'clf__n_estimators': 1000}\n"
     ]
    }
   ],
   "source": [
    "# Using a pipeline to select for optimal parameters in the RF Classifier\n",
    "pipe = Pipeline([('clf', RandomForestClassifier(random_state=1))])\n",
    "\n",
    "grid_params = [{'clf__n_estimators': [100, 1000],\n",
    "                'clf__criterion': ['gini', 'entropy'],\n",
    "                'clf__max_depth': [None, 1, 5, 7, 11, 13, 17, 19],\n",
    "                'clf__min_samples_split': [2, 5, 10],\n",
    "                'clf__min_samples_leaf': [2, 3, 4, 5]\n",
    "               }]\n",
    "\n",
    "# grid search\n",
    "gs = GridSearchCV(estimator=pipe,\n",
    "                  param_grid=grid_params,\n",
    "                  scoring=ftwo_scorer,\n",
    "                  cv=5)\n",
    "\n",
    "# Fit using grid search\n",
    "gs.fit(X_train_resampled, y_train_resampled)\n",
    "\n",
    "# Best F-2 Score\n",
    "print('Best F-2 Score: %.3f' % gs.best_score_)\n",
    "\n",
    "# Best params\n",
    "print('\\nBest params:\\n', gs.best_params_)"
   ]
  },
  {
   "cell_type": "markdown",
   "metadata": {},
   "source": [
    "This GridSearchCV code took my machine about 40 minutes to run."
   ]
  },
  {
   "cell_type": "code",
   "execution_count": 38,
   "metadata": {},
   "outputs": [
    {
     "data": {
      "text/plain": [
       "RandomForestClassifier(min_samples_leaf=2, min_samples_split=5,\n",
       "                       n_estimators=1000, random_state=1)"
      ]
     },
     "execution_count": 38,
     "metadata": {},
     "output_type": "execute_result"
    }
   ],
   "source": [
    "forest = RandomForestClassifier(n_estimators=1000, criterion='gini', \n",
    "                                max_depth=None, min_samples_leaf=2,\n",
    "                                min_samples_split=5, random_state=1)\n",
    "forest.fit(X_train_resampled, y_train_resampled)"
   ]
  },
  {
   "cell_type": "markdown",
   "metadata": {},
   "source": [
    "## Evaluate"
   ]
  },
  {
   "cell_type": "code",
   "execution_count": 39,
   "metadata": {},
   "outputs": [
    {
     "data": {
      "text/plain": [
       "0.9556812824139557"
      ]
     },
     "execution_count": 39,
     "metadata": {},
     "output_type": "execute_result"
    }
   ],
   "source": [
    "# Training Accuracy\n",
    "forest.score(X_train_resampled, y_train_resampled)"
   ]
  },
  {
   "cell_type": "code",
   "execution_count": 40,
   "metadata": {},
   "outputs": [
    {
     "data": {
      "text/plain": [
       "0.9016786570743405"
      ]
     },
     "execution_count": 40,
     "metadata": {},
     "output_type": "execute_result"
    }
   ],
   "source": [
    "# Testing Accuracy\n",
    "forest.score(X_test, y_test)"
   ]
  },
  {
   "cell_type": "code",
   "execution_count": 41,
   "metadata": {},
   "outputs": [
    {
     "name": "stdout",
     "output_type": "stream",
     "text": [
      "              precision    recall  f1-score   support\n",
      "\n",
      "           0       0.85      0.93      0.89      2121\n",
      "           1       0.92      0.84      0.88      2121\n",
      "\n",
      "    accuracy                           0.88      4242\n",
      "   macro avg       0.88      0.88      0.88      4242\n",
      "weighted avg       0.88      0.88      0.88      4242\n",
      "\n",
      "              precision    recall  f1-score   support\n",
      "\n",
      "           0       0.97      0.88      0.93       729\n",
      "           1       0.51      0.83      0.63       105\n",
      "\n",
      "    accuracy                           0.88       834\n",
      "   macro avg       0.74      0.86      0.78       834\n",
      "weighted avg       0.91      0.88      0.89       834\n",
      "\n"
     ]
    }
   ],
   "source": [
    "print(classification_report(y_train_resampled, y_hat_train)) \n",
    "print(classification_report(y_test, y_hat_test)) "
   ]
  },
  {
   "cell_type": "markdown",
   "metadata": {},
   "source": [
    "* Train report looks good.\n",
    "* Test report shows low precision in churn column."
   ]
  },
  {
   "cell_type": "code",
   "execution_count": 42,
   "metadata": {},
   "outputs": [
    {
     "data": {
      "image/png": "[encoded data removed]",
      "text/plain": [
       "<Figure size 432x288 with 2 Axes>"
      ]
     },
     "metadata": {
      "needs_background": "light"
     },
     "output_type": "display_data"
    }
   ],
   "source": [
    "plot_confusion_matrix(forest, X_test, y_test,\n",
    "                     cmap=plt.cm.Blues)\n",
    "plt.show()"
   ]
  },
  {
   "cell_type": "markdown",
   "metadata": {},
   "source": [
    "High FP rate."
   ]
  },
  {
   "cell_type": "code",
   "execution_count": 43,
   "metadata": {
    "scrolled": true
   },
   "outputs": [
    {
     "data": {
      "image/png": "[encoded data removed]",
      "text/plain": [
       "<Figure size 576x1152 with 1 Axes>"
      ]
     },
     "metadata": {
      "needs_background": "light"
     },
     "output_type": "display_data"
    }
   ],
   "source": [
    "plot_feature_importances(forest)"
   ]
  },
  {
   "cell_type": "markdown",
   "metadata": {},
   "source": [
    "Similar feature importances as the first RF model."
   ]
  },
  {
   "cell_type": "code",
   "execution_count": 44,
   "metadata": {},
   "outputs": [
    {
     "data": {
      "text/plain": [
       "[0.64, 0.736, 0.768]"
      ]
     },
     "execution_count": 44,
     "metadata": {},
     "output_type": "execute_result"
    }
   ],
   "source": [
    "y_hat_test = forest.predict(X_test)\n",
    "f = fbeta_score(y_test, y_hat_test, beta=2.0)\n",
    "fbeta2_scores.append(round(f, 3))\n",
    "fbeta2_scores"
   ]
  },
  {
   "cell_type": "markdown",
   "metadata": {},
   "source": [
    "# Model 4 - Optimize RF Model (2nd Attempt)"
   ]
  },
  {
   "cell_type": "markdown",
   "metadata": {},
   "source": [
    "Attempting to reduce runtime by decreasing parameters a bit, but this code still does take a while to run.\n",
    "\n",
    "To avoid overfitting in the RF Model, the following strategies will be utilized:\n",
    "* Use less features (use something like 50% of total features for the max features parameter).\n",
    "* Keep n_estimators large because the more trees there are, the less likely it is to overfit."
   ]
  },
  {
   "cell_type": "markdown",
   "metadata": {},
   "source": [
    "## Optimize RF Parameters and Fit"
   ]
  },
  {
   "cell_type": "code",
   "execution_count": 45,
   "metadata": {},
   "outputs": [
    {
     "name": "stdout",
     "output_type": "stream",
     "text": [
      "Best F-2 Score: 0.859\n",
      "\n",
      "Best params:\n",
      " {'clf__criterion': 'entropy', 'clf__max_depth': None, 'clf__max_features': 37, 'clf__min_samples_leaf': 2, 'clf__min_samples_split': 5, 'clf__n_estimators': 100}\n"
     ]
    }
   ],
   "source": [
    "# Using a pipeline to select for optimal parameters in the RF Classifier\n",
    "pipe = Pipeline([('clf', RandomForestClassifier(random_state=1))])\n",
    "\n",
    "grid_params = [{'clf__n_estimators': [100],\n",
    "                'clf__criterion': ['entropy'],\n",
    "                'clf__max_depth': [None, 1, 7, 15],\n",
    "                'clf__min_samples_split': [2, 5, 10],\n",
    "                'clf__min_samples_leaf': [2, 3, 4, 5],\n",
    "                'clf__max_features': [37]     #this is 50% of total features\n",
    "               }]\n",
    "\n",
    "# grid search\n",
    "gs = GridSearchCV(estimator=pipe,\n",
    "                  param_grid=grid_params,\n",
    "                  scoring=ftwo_scorer,\n",
    "                  cv=5)\n",
    "\n",
    "# Fit using grid search\n",
    "gs.fit(X_train_resampled, y_train_resampled)\n",
    "\n",
    "# Best F-2 Score\n",
    "print('Best F-2 Score: %.3f' % gs.best_score_)\n",
    "\n",
    "# Best params\n",
    "print('\\nBest params:\\n', gs.best_params_)"
   ]
  },
  {
   "cell_type": "code",
   "execution_count": 46,
   "metadata": {},
   "outputs": [
    {
     "data": {
      "text/plain": [
       "RandomForestClassifier(criterion='entropy', max_features=37, min_samples_leaf=2,\n",
       "                       min_samples_split=5, random_state=1)"
      ]
     },
     "execution_count": 46,
     "metadata": {},
     "output_type": "execute_result"
    }
   ],
   "source": [
    "forest = RandomForestClassifier(n_estimators=100, criterion='entropy', \n",
    "                                max_depth=None, min_samples_leaf=2,\n",
    "                                min_samples_split=5, random_state=1,\n",
    "                                max_features=37)\n",
    "forest.fit(X_train_resampled, y_train_resampled)"
   ]
  },
  {
   "cell_type": "markdown",
   "metadata": {},
   "source": [
    "## Evaluate"
   ]
  },
  {
   "cell_type": "code",
   "execution_count": 47,
   "metadata": {},
   "outputs": [
    {
     "data": {
      "text/plain": [
       "0.9893917963224894"
      ]
     },
     "execution_count": 47,
     "metadata": {},
     "output_type": "execute_result"
    }
   ],
   "source": [
    "# Training Accuracy\n",
    "forest.score(X_train_resampled, y_train_resampled)"
   ]
  },
  {
   "cell_type": "code",
   "execution_count": 48,
   "metadata": {},
   "outputs": [
    {
     "data": {
      "text/plain": [
       "0.9136690647482014"
      ]
     },
     "execution_count": 48,
     "metadata": {},
     "output_type": "execute_result"
    }
   ],
   "source": [
    "# Testing Accuracy\n",
    "forest.score(X_test, y_test)"
   ]
  },
  {
   "cell_type": "code",
   "execution_count": 49,
   "metadata": {},
   "outputs": [
    {
     "name": "stdout",
     "output_type": "stream",
     "text": [
      "              precision    recall  f1-score   support\n",
      "\n",
      "           0       0.85      0.93      0.89      2121\n",
      "           1       0.92      0.84      0.88      2121\n",
      "\n",
      "    accuracy                           0.88      4242\n",
      "   macro avg       0.88      0.88      0.88      4242\n",
      "weighted avg       0.88      0.88      0.88      4242\n",
      "\n",
      "              precision    recall  f1-score   support\n",
      "\n",
      "           0       0.98      0.91      0.94       729\n",
      "           1       0.58      0.84      0.68       105\n",
      "\n",
      "    accuracy                           0.90       834\n",
      "   macro avg       0.78      0.87      0.81       834\n",
      "weighted avg       0.92      0.90      0.91       834\n",
      "\n"
     ]
    }
   ],
   "source": [
    "print(classification_report(y_train_resampled, y_hat_train)) \n",
    "print(classification_report(y_test, y_hat_test)) "
   ]
  },
  {
   "cell_type": "markdown",
   "metadata": {},
   "source": [
    "* Improved precision slightly from other optimized RF.\n",
    "* Pretty similar performance as other optimized RF."
   ]
  },
  {
   "cell_type": "code",
   "execution_count": 50,
   "metadata": {},
   "outputs": [
    {
     "data": {
      "image/png": "[encoded data removed]",
      "text/plain": [
       "<Figure size 432x288 with 2 Axes>"
      ]
     },
     "metadata": {
      "needs_background": "light"
     },
     "output_type": "display_data"
    }
   ],
   "source": [
    "plot_confusion_matrix(forest, X_test, y_test,\n",
    "                     cmap=plt.cm.Blues)\n",
    "plt.show()"
   ]
  },
  {
   "cell_type": "markdown",
   "metadata": {},
   "source": [
    "* Decrease in amount of FP's from previous model."
   ]
  },
  {
   "cell_type": "code",
   "execution_count": 51,
   "metadata": {},
   "outputs": [
    {
     "data": {
      "text/plain": [
       "[0.64, 0.736, 0.768, 0.775]"
      ]
     },
     "execution_count": 51,
     "metadata": {},
     "output_type": "execute_result"
    }
   ],
   "source": [
    "y_hat_test = forest.predict(X_test)\n",
    "f = fbeta_score(y_test, y_hat_test, beta=2.0)\n",
    "fbeta2_scores.append(round(f, 3))\n",
    "fbeta2_scores"
   ]
  },
  {
   "cell_type": "markdown",
   "metadata": {},
   "source": [
    "# Model 5 - AdaBoost"
   ]
  },
  {
   "cell_type": "markdown",
   "metadata": {},
   "source": [
    "The motivation for this model is to reduce runtime expense found in the RF model optimization processes."
   ]
  },
  {
   "cell_type": "markdown",
   "metadata": {},
   "source": [
    "## Instantiate Model and Fit"
   ]
  },
  {
   "cell_type": "code",
   "execution_count": 52,
   "metadata": {},
   "outputs": [
    {
     "data": {
      "text/plain": [
       "AdaBoostClassifier(random_state=42)"
      ]
     },
     "execution_count": 52,
     "metadata": {},
     "output_type": "execute_result"
    }
   ],
   "source": [
    "from sklearn.ensemble import AdaBoostClassifier\n",
    "adaboost_clf = AdaBoostClassifier(random_state=42)\n",
    "adaboost_clf.fit(X_train_resampled, y_train_resampled)"
   ]
  },
  {
   "cell_type": "markdown",
   "metadata": {},
   "source": [
    "## Evaluate"
   ]
  },
  {
   "cell_type": "code",
   "execution_count": 53,
   "metadata": {},
   "outputs": [],
   "source": [
    "# AdaBoost model predictions for test and train sets\n",
    "adaboost_train_preds = adaboost_clf.predict(X_train_resampled)\n",
    "adaboost_test_preds = adaboost_clf.predict(X_test)"
   ]
  },
  {
   "cell_type": "code",
   "execution_count": 54,
   "metadata": {},
   "outputs": [
    {
     "name": "stdout",
     "output_type": "stream",
     "text": [
      "              precision    recall  f1-score   support\n",
      "\n",
      "           0       0.97      0.82      0.89       729\n",
      "           1       0.40      0.83      0.54       105\n",
      "\n",
      "    accuracy                           0.82       834\n",
      "   macro avg       0.69      0.83      0.72       834\n",
      "weighted avg       0.90      0.82      0.85       834\n",
      "\n"
     ]
    }
   ],
   "source": [
    "print(classification_report(y_test, adaboost_test_preds)) "
   ]
  },
  {
   "cell_type": "markdown",
   "metadata": {},
   "source": [
    "* Very low precision for churned customers."
   ]
  },
  {
   "cell_type": "code",
   "execution_count": 55,
   "metadata": {},
   "outputs": [
    {
     "data": {
      "image/png": "[encoded data removed]",
      "text/plain": [
       "<Figure size 432x288 with 2 Axes>"
      ]
     },
     "metadata": {
      "needs_background": "light"
     },
     "output_type": "display_data"
    }
   ],
   "source": [
    "plot_confusion_matrix(adaboost_clf, X_test, y_test,\n",
    "                     cmap=plt.cm.Blues)\n",
    "plt.show()"
   ]
  },
  {
   "cell_type": "markdown",
   "metadata": {},
   "source": [
    "Lots of FP's!"
   ]
  },
  {
   "cell_type": "code",
   "execution_count": 56,
   "metadata": {},
   "outputs": [
    {
     "data": {
      "text/plain": [
       "[0.64, 0.736, 0.768, 0.775, 0.683]"
      ]
     },
     "execution_count": 56,
     "metadata": {},
     "output_type": "execute_result"
    }
   ],
   "source": [
    "f = fbeta_score(y_test, adaboost_test_preds, beta=2.0)\n",
    "fbeta2_scores.append(round(f, 3))\n",
    "fbeta2_scores"
   ]
  },
  {
   "cell_type": "markdown",
   "metadata": {},
   "source": [
    "Comments on AdaBoost Model:\n",
    "* It is very fast\n",
    "* It has a much higher rate of FPs compared to the RF models.\n",
    "* It does not have as good of scoring (by any metric of comparison) as the RF models"
   ]
  },
  {
   "cell_type": "markdown",
   "metadata": {},
   "source": [
    "## Tune Model with GridSearchCV and Run Again"
   ]
  },
  {
   "cell_type": "code",
   "execution_count": 57,
   "metadata": {},
   "outputs": [
    {
     "data": {
      "text/plain": [
       "{'learning_rate': 1, 'n_estimators': 50}"
      ]
     },
     "execution_count": 57,
     "metadata": {},
     "output_type": "execute_result"
    }
   ],
   "source": [
    "gs = GridSearchCV(estimator=adaboost_clf,\n",
    "                 param_grid={\n",
    "                     'n_estimators': [25, 50, 100, 500],\n",
    "                     'learning_rate': [.001, .01, .1, 1]\n",
    "                 }, scoring=ftwo_scorer, cv=5)\n",
    "\n",
    "gs.fit(X_train_resampled, y_train_resampled)\n",
    "gs.best_params_"
   ]
  },
  {
   "cell_type": "code",
   "execution_count": 58,
   "metadata": {},
   "outputs": [
    {
     "data": {
      "text/plain": [
       "AdaBoostClassifier(learning_rate=1, random_state=42)"
      ]
     },
     "execution_count": 58,
     "metadata": {},
     "output_type": "execute_result"
    }
   ],
   "source": [
    "adaboost_clf = AdaBoostClassifier(learning_rate=1, n_estimators=50,\n",
    "                                  random_state=42)\n",
    "adaboost_clf.fit(X_train_resampled, y_train_resampled)"
   ]
  },
  {
   "cell_type": "code",
   "execution_count": 59,
   "metadata": {},
   "outputs": [
    {
     "name": "stdout",
     "output_type": "stream",
     "text": [
      "              precision    recall  f1-score   support\n",
      "\n",
      "           0       0.97      0.82      0.89       729\n",
      "           1       0.40      0.83      0.54       105\n",
      "\n",
      "    accuracy                           0.82       834\n",
      "   macro avg       0.69      0.83      0.72       834\n",
      "weighted avg       0.90      0.82      0.85       834\n",
      "\n"
     ]
    }
   ],
   "source": [
    "# AdaBoost model predictions\n",
    "adaboost_train_preds = adaboost_clf.predict(X_train_resampled)\n",
    "adaboost_test_preds = adaboost_clf.predict(X_test)\n",
    "\n",
    "print(classification_report(y_test, adaboost_test_preds))"
   ]
  },
  {
   "cell_type": "markdown",
   "metadata": {},
   "source": [
    "Not much of an improvement from first AdaBoost model."
   ]
  },
  {
   "cell_type": "code",
   "execution_count": 60,
   "metadata": {},
   "outputs": [
    {
     "data": {
      "image/png": "[encoded data removed]",
      "text/plain": [
       "<Figure size 432x288 with 2 Axes>"
      ]
     },
     "metadata": {
      "needs_background": "light"
     },
     "output_type": "display_data"
    }
   ],
   "source": [
    "plot_confusion_matrix(adaboost_clf, X_test, y_test,\n",
    "                     cmap=plt.cm.Blues)\n",
    "plt.show()"
   ]
  },
  {
   "cell_type": "markdown",
   "metadata": {},
   "source": [
    "Still lots of FP's."
   ]
  },
  {
   "cell_type": "code",
   "execution_count": 61,
   "metadata": {},
   "outputs": [
    {
     "data": {
      "text/plain": [
       "[0.64, 0.736, 0.768, 0.775, 0.683, 0.683]"
      ]
     },
     "execution_count": 61,
     "metadata": {},
     "output_type": "execute_result"
    }
   ],
   "source": [
    "f = fbeta_score(y_test, adaboost_test_preds, beta=2.0)\n",
    "fbeta2_scores.append(round(f, 3))\n",
    "fbeta2_scores"
   ]
  },
  {
   "cell_type": "markdown",
   "metadata": {},
   "source": [
    "# RF Without State Column"
   ]
  },
  {
   "cell_type": "markdown",
   "metadata": {},
   "source": [
    "The 'State' column is probably not particularly useful for SyriaTel, and none of the states seem to have super strong feature importance by themselves."
   ]
  },
  {
   "cell_type": "markdown",
   "metadata": {},
   "source": [
    "## Remove State Column and Prepare Dataset to Model"
   ]
  },
  {
   "cell_type": "code",
   "execution_count": 62,
   "metadata": {},
   "outputs": [],
   "source": [
    "# define new categorical columns\n",
    "cats = ['international plan', 'intl_calls_bins',\n",
    "        'customer service calls', 'voice mail plan']\n",
    "\n",
    "# Define X and y\n",
    "y = df['churn']\n",
    "\n",
    "# drop state_int column as well this time\n",
    "X = df.drop(['churn', 'total intl calls',\n",
    "             'total_intl_calls', 'state', 'total day minutes',\n",
    "             'total day calls', 'total day charge', 'total eve minutes',\n",
    "             'total eve calls', 'total eve charge', 'total night minutes',\n",
    "             'total night calls', 'total night charge', 'state_int'], axis=1)\n",
    "\n",
    "# Split\n",
    "X_train, X_test, y_train, y_test = train_test_split(X, y, random_state=27)\n",
    "\n",
    "# Fixing class imbalance with SMOTE\n",
    "smote = SMOTE(random_state=42)\n",
    "X_train_resampled, y_train_resampled = smote.fit_sample(X_train, y_train)\n",
    "\n",
    "# Seperate data into categorical for train and test sets\n",
    "X_train_cats = X_train_resampled[cats]\n",
    "X_test_cats = X_test[cats]\n",
    "\n",
    "# handle categorical values\n",
    "ohe = OneHotEncoder(handle_unknown=\"ignore\", sparse=False)\n",
    "\n",
    "# OHE for training categoricals\n",
    "ohe.fit(X_train_cats)\n",
    "X_train_ohe = pd.DataFrame(\n",
    "    ohe.transform(X_train_cats),\n",
    "    index=X_train_cats.index,\n",
    "    columns=ohe.get_feature_names()\n",
    ")\n",
    "\n",
    "# OHE for testing categoricals - transform with train fit\n",
    "X_test_ohe = pd.DataFrame(\n",
    "    ohe.transform(X_test_cats),\n",
    "    index=X_test_cats.index,\n",
    "    columns=ohe.get_feature_names()\n",
    ")\n",
    "\n",
    "# Scaling variables to work well with OHE data -scale train and test data\n",
    "X_train_numerics = X_train_resampled.drop(cats, axis=1)\n",
    "X_test_numerics = X_test.drop(cats, axis=1)\n",
    "\n",
    "scaler = MinMaxScaler()\n",
    "\n",
    "scaler.fit(X_train_numerics)\n",
    "X_train_scaled = pd.DataFrame(\n",
    "    scaler.transform(X_train_numerics),\n",
    "    index=X_train_numerics.index,\n",
    "    columns=X_train_numerics.columns\n",
    ")\n",
    "\n",
    "# Scale variables of test data with the train fit (avoids data leakage)\n",
    "X_test_scaled = pd.DataFrame(\n",
    "    scaler.transform(X_test_numerics),\n",
    "    index=X_test_numerics.index,\n",
    "    columns=X_test_numerics.columns\n",
    ")\n",
    "\n",
    "\n",
    "# Concatenate and replace X_train and X_test with OHE+scaled data\n",
    "X_train_resampled = pd.DataFrame()\n",
    "X_train_resampled = pd.concat([X_train_scaled, X_train_ohe], axis=1)\n",
    "\n",
    "X_test = pd.DataFrame()\n",
    "X_test = pd.concat([X_test_scaled, X_test_ohe], axis=1)"
   ]
  },
  {
   "cell_type": "markdown",
   "metadata": {},
   "source": [
    "## Fit Model"
   ]
  },
  {
   "cell_type": "code",
   "execution_count": 63,
   "metadata": {},
   "outputs": [
    {
     "data": {
      "text/plain": [
       "RandomForestClassifier(max_depth=13, random_state=69)"
      ]
     },
     "execution_count": 63,
     "metadata": {},
     "output_type": "execute_result"
    }
   ],
   "source": [
    "# random forest model\n",
    "forest = RandomForestClassifier(n_estimators=100, max_depth=13, \n",
    "                                random_state=69)\n",
    "forest.fit(X_train_resampled, y_train_resampled)"
   ]
  },
  {
   "cell_type": "markdown",
   "metadata": {},
   "source": [
    "## Evaluate"
   ]
  },
  {
   "cell_type": "code",
   "execution_count": 64,
   "metadata": {},
   "outputs": [
    {
     "name": "stdout",
     "output_type": "stream",
     "text": [
      "              precision    recall  f1-score   support\n",
      "\n",
      "           0       0.85      0.93      0.89      2121\n",
      "           1       0.92      0.84      0.88      2121\n",
      "\n",
      "    accuracy                           0.88      4242\n",
      "   macro avg       0.88      0.88      0.88      4242\n",
      "weighted avg       0.88      0.88      0.88      4242\n",
      "\n",
      "              precision    recall  f1-score   support\n",
      "\n",
      "           0       0.97      0.93      0.95       729\n",
      "           1       0.62      0.83      0.71       105\n",
      "\n",
      "    accuracy                           0.91       834\n",
      "   macro avg       0.80      0.88      0.83       834\n",
      "weighted avg       0.93      0.91      0.92       834\n",
      "\n"
     ]
    }
   ],
   "source": [
    "print(classification_report(y_train_resampled, y_hat_train)) \n",
    "print(classification_report(y_test, y_hat_test))"
   ]
  },
  {
   "cell_type": "markdown",
   "metadata": {},
   "source": [
    "* Metrics look really good, but precision for churn would ideally be higher."
   ]
  },
  {
   "cell_type": "code",
   "execution_count": 65,
   "metadata": {},
   "outputs": [
    {
     "data": {
      "text/plain": [
       "0.9464875058934464"
      ]
     },
     "execution_count": 65,
     "metadata": {},
     "output_type": "execute_result"
    }
   ],
   "source": [
    "# Training Accuracy\n",
    "forest.score(X_train_resampled, y_train_resampled)"
   ]
  },
  {
   "cell_type": "code",
   "execution_count": 66,
   "metadata": {},
   "outputs": [
    {
     "data": {
      "text/plain": [
       "0.9304556354916067"
      ]
     },
     "execution_count": 66,
     "metadata": {},
     "output_type": "execute_result"
    }
   ],
   "source": [
    "# Testing Accuracy\n",
    "forest.score(X_test, y_test)"
   ]
  },
  {
   "cell_type": "markdown",
   "metadata": {},
   "source": [
    "Accuracy is high for both train and test data, and they are similar, indicating lower chance of overfitting."
   ]
  },
  {
   "cell_type": "code",
   "execution_count": 67,
   "metadata": {},
   "outputs": [],
   "source": [
    "final_cols = ['account length', 'total intl charge',\n",
    "               'total_calls', 'total_charge',\n",
    "               'no international plan', 'has international plan',\n",
    "               'low international calls', 'moderate international calls',\n",
    "               'high international calls', '0 customer service calls',\n",
    "               '1 customer service call', '2 customer service calls', \n",
    "               '3 customer service calls',\n",
    "               '4 customer service calls', '5 customer service calls',\n",
    "               '6 customer service calls', '7 customer service calls',\n",
    "               '8 customer service calls', '9 customer service calls', \n",
    "               'no voice mail plan', 'has voice mail plan']"
   ]
  },
  {
   "cell_type": "code",
   "execution_count": 68,
   "metadata": {},
   "outputs": [
    {
     "data": {
      "text/html": [
       "<div>\n",
       "<style scoped>\n",
       "    .dataframe tbody tr th:only-of-type {\n",
       "        vertical-align: middle;\n",
       "    }\n",
       "\n",
       "    .dataframe tbody tr th {\n",
       "        vertical-align: top;\n",
       "    }\n",
       "\n",
       "    .dataframe thead th {\n",
       "        text-align: right;\n",
       "    }\n",
       "</style>\n",
       "<table border=\"1\" class=\"dataframe\">\n",
       "  <thead>\n",
       "    <tr style=\"text-align: right;\">\n",
       "      <th></th>\n",
       "      <th>feature importances values</th>\n",
       "    </tr>\n",
       "  </thead>\n",
       "  <tbody>\n",
       "    <tr>\n",
       "      <th>total_charge</th>\n",
       "      <td>0.359</td>\n",
       "    </tr>\n",
       "    <tr>\n",
       "      <th>total intl charge</th>\n",
       "      <td>0.097</td>\n",
       "    </tr>\n",
       "    <tr>\n",
       "      <th>account length</th>\n",
       "      <td>0.079</td>\n",
       "    </tr>\n",
       "    <tr>\n",
       "      <th>total_calls</th>\n",
       "      <td>0.074</td>\n",
       "    </tr>\n",
       "    <tr>\n",
       "      <th>4 customer service calls</th>\n",
       "      <td>0.062</td>\n",
       "    </tr>\n",
       "    <tr>\n",
       "      <th>low international calls</th>\n",
       "      <td>0.060</td>\n",
       "    </tr>\n",
       "    <tr>\n",
       "      <th>no voice mail plan</th>\n",
       "      <td>0.055</td>\n",
       "    </tr>\n",
       "    <tr>\n",
       "      <th>has voice mail plan</th>\n",
       "      <td>0.045</td>\n",
       "    </tr>\n",
       "    <tr>\n",
       "      <th>high international calls</th>\n",
       "      <td>0.033</td>\n",
       "    </tr>\n",
       "    <tr>\n",
       "      <th>moderate international calls</th>\n",
       "      <td>0.025</td>\n",
       "    </tr>\n",
       "    <tr>\n",
       "      <th>has international plan</th>\n",
       "      <td>0.019</td>\n",
       "    </tr>\n",
       "    <tr>\n",
       "      <th>no international plan</th>\n",
       "      <td>0.019</td>\n",
       "    </tr>\n",
       "    <tr>\n",
       "      <th>1 customer service call</th>\n",
       "      <td>0.018</td>\n",
       "    </tr>\n",
       "    <tr>\n",
       "      <th>5 customer service calls</th>\n",
       "      <td>0.017</td>\n",
       "    </tr>\n",
       "    <tr>\n",
       "      <th>0 customer service calls</th>\n",
       "      <td>0.013</td>\n",
       "    </tr>\n",
       "    <tr>\n",
       "      <th>2 customer service calls</th>\n",
       "      <td>0.009</td>\n",
       "    </tr>\n",
       "    <tr>\n",
       "      <th>3 customer service calls</th>\n",
       "      <td>0.007</td>\n",
       "    </tr>\n",
       "    <tr>\n",
       "      <th>6 customer service calls</th>\n",
       "      <td>0.006</td>\n",
       "    </tr>\n",
       "    <tr>\n",
       "      <th>7 customer service calls</th>\n",
       "      <td>0.001</td>\n",
       "    </tr>\n",
       "    <tr>\n",
       "      <th>8 customer service calls</th>\n",
       "      <td>0.001</td>\n",
       "    </tr>\n",
       "    <tr>\n",
       "      <th>9 customer service calls</th>\n",
       "      <td>0.000</td>\n",
       "    </tr>\n",
       "  </tbody>\n",
       "</table>\n",
       "</div>"
      ],
      "text/plain": [
       "                              feature importances values\n",
       "total_charge                                       0.359\n",
       "total intl charge                                  0.097\n",
       "account length                                     0.079\n",
       "total_calls                                        0.074\n",
       "4 customer service calls                           0.062\n",
       "low international calls                            0.060\n",
       "no voice mail plan                                 0.055\n",
       "has voice mail plan                                0.045\n",
       "high international calls                           0.033\n",
       "moderate international calls                       0.025\n",
       "has international plan                             0.019\n",
       "no international plan                              0.019\n",
       "1 customer service call                            0.018\n",
       "5 customer service calls                           0.017\n",
       "0 customer service calls                           0.013\n",
       "2 customer service calls                           0.009\n",
       "3 customer service calls                           0.007\n",
       "6 customer service calls                           0.006\n",
       "7 customer service calls                           0.001\n",
       "8 customer service calls                           0.001\n",
       "9 customer service calls                           0.000"
      ]
     },
     "execution_count": 68,
     "metadata": {},
     "output_type": "execute_result"
    }
   ],
   "source": [
    "# Create table of feature importances and values\n",
    "df_final_feature_importances = pd.DataFrame(index=(final_cols))\n",
    "# df_final_feature_importances.set_axis([final_cols], axis=1)\n",
    "df_final_feature_importances['feature importances values'] = np.round(forest.feature_importances_, 3)\n",
    "df_final_feature_importances = df_final_feature_importances.sort_values(\n",
    "    by=['feature importances values'], ascending=False)\n",
    "df_final_feature_importances"
   ]
  },
  {
   "cell_type": "markdown",
   "metadata": {},
   "source": [
    "* Total charge is by far the most important feature.\n",
    "* International charge is the next important.\n",
    "* Account length and total calls are about the same and are the third and fourth most important categories."
   ]
  },
  {
   "cell_type": "code",
   "execution_count": 69,
   "metadata": {},
   "outputs": [],
   "source": [
    "# creating new feature importances plot function to allow for more \n",
    "# comprehensability for this plot, which will be used elsewhere as well.\n",
    "\n",
    "def plot_feature_importances_final(model):\n",
    "    n_features = X_train_resampled.shape[1]\n",
    "    plt.figure(figsize=(8,16))\n",
    "    plt.barh(range(n_features), model.feature_importances_, align='center') \n",
    "    plt.yticks(np.arange(n_features), final_cols) \n",
    "    plt.xlabel('Feature Importance')\n",
    "    plt.ylabel('Feature')\n",
    "    plt.title('Final Model Feature Importances')"
   ]
  },
  {
   "cell_type": "code",
   "execution_count": 70,
   "metadata": {},
   "outputs": [
    {
     "data": {
      "image/png": "[encoded data removed]",
      "text/plain": [
       "<Figure size 576x1152 with 1 Axes>"
      ]
     },
     "metadata": {
      "needs_background": "light"
     },
     "output_type": "display_data"
    }
   ],
   "source": [
    "plot_feature_importances_final(forest)"
   ]
  },
  {
   "cell_type": "markdown",
   "metadata": {},
   "source": [
    "* 4 customer service calls is the most important categorical column.\n",
    "* total charge is very important in the model\n",
    "* total international charge, account length, and total calls are the next most important features."
   ]
  },
  {
   "cell_type": "code",
   "execution_count": 71,
   "metadata": {},
   "outputs": [
    {
     "data": {
      "image/png": "[encoded data removed]",
      "text/plain": [
       "<Figure size 432x288 with 2 Axes>"
      ]
     },
     "metadata": {
      "needs_background": "light"
     },
     "output_type": "display_data"
    }
   ],
   "source": [
    "plot_confusion_matrix(forest, X_test, y_test,\n",
    "                     cmap=plt.cm.Blues)\n",
    "plt.title(\"Final Model Test Data Confusion Matrix\")\n",
    "plt.show()"
   ]
  },
  {
   "cell_type": "markdown",
   "metadata": {},
   "source": [
    "* Very low amount of false negatives. \n",
    "* Pretty low number of false positives as well. This column would ideally be lower, but its penalty is less than FN's."
   ]
  },
  {
   "cell_type": "code",
   "execution_count": 72,
   "metadata": {},
   "outputs": [
    {
     "data": {
      "text/plain": [
       "[0.64, 0.736, 0.768, 0.775, 0.683, 0.683, 0.808]"
      ]
     },
     "execution_count": 72,
     "metadata": {},
     "output_type": "execute_result"
    }
   ],
   "source": [
    "y_hat_test = forest.predict(X_test)\n",
    "f = fbeta_score(y_test, y_hat_test, beta=2.0)\n",
    "fbeta2_scores.append(round(f, 3))\n",
    "fbeta2_scores"
   ]
  },
  {
   "cell_type": "markdown",
   "metadata": {},
   "source": [
    "###### Tune Model with GridSearchCV"
   ]
  },
  {
   "cell_type": "code",
   "execution_count": 73,
   "metadata": {},
   "outputs": [
    {
     "data": {
      "text/plain": [
       "GridSearchCV(cv=5, estimator=RandomForestClassifier(random_state=1),\n",
       "             param_grid={'criterion': ['entropy', 'gini'],\n",
       "                         'max_depth': [None, 1, 7, 15, 23, 31],\n",
       "                         'min_samples_leaf': [2, 3, 4, 5, 6],\n",
       "                         'min_samples_split': [2, 5, 10],\n",
       "                         'n_estimators': [10, 100, 1000]},\n",
       "             scoring=make_scorer(fbeta_score, beta=2))"
      ]
     },
     "execution_count": 73,
     "metadata": {},
     "output_type": "execute_result"
    }
   ],
   "source": [
    "forest = RandomForestClassifier(random_state=1)\n",
    "\n",
    "gs = GridSearchCV(estimator=forest,\n",
    "                 param_grid={\n",
    "                     'n_estimators': [10, 100, 1000],    \n",
    "                     'criterion': ['entropy', 'gini'],   \n",
    "                     'max_depth': [None, 1, 7, 15, 23, 31],\n",
    "                     'min_samples_split': [2, 5, 10],\n",
    "                     'min_samples_leaf': [2, 3, 4, 5, 6]\n",
    "                 }, scoring=ftwo_scorer, cv=5)\n",
    "\n",
    "gs.fit(X_train_resampled, y_train_resampled)"
   ]
  },
  {
   "cell_type": "markdown",
   "metadata": {},
   "source": [
    "Approximately 42 minute runtime for this GridSearchCV."
   ]
  },
  {
   "cell_type": "code",
   "execution_count": 74,
   "metadata": {},
   "outputs": [
    {
     "name": "stdout",
     "output_type": "stream",
     "text": [
      "Best F2 Score: 0.854\n",
      "\n",
      "Best params:\n",
      " {'criterion': 'gini', 'max_depth': 31, 'min_samples_leaf': 2, 'min_samples_split': 2, 'n_estimators': 1000}\n"
     ]
    }
   ],
   "source": [
    "# Best F-2 Score\n",
    "print('Best F2 Score: %.3f' % gs.best_score_)\n",
    "\n",
    "# Best params\n",
    "print('\\nBest params:\\n', gs.best_params_)"
   ]
  },
  {
   "cell_type": "code",
   "execution_count": 75,
   "metadata": {},
   "outputs": [
    {
     "data": {
      "text/plain": [
       "RandomForestClassifier(max_depth=31, min_samples_leaf=2, n_estimators=1000,\n",
       "                       random_state=42)"
      ]
     },
     "execution_count": 75,
     "metadata": {},
     "output_type": "execute_result"
    }
   ],
   "source": [
    "forest = RandomForestClassifier(n_estimators=1000, criterion='gini',\n",
    "                                min_samples_leaf=2, min_samples_split=2,\n",
    "                                max_depth=31, random_state=42)\n",
    "forest.fit(X_train_resampled, y_train_resampled)"
   ]
  },
  {
   "cell_type": "markdown",
   "metadata": {},
   "source": [
    "## Re-Evaluate"
   ]
  },
  {
   "cell_type": "code",
   "execution_count": 76,
   "metadata": {},
   "outputs": [
    {
     "name": "stdout",
     "output_type": "stream",
     "text": [
      "              precision    recall  f1-score   support\n",
      "\n",
      "           0     0.8499    0.9264    0.8865      2121\n",
      "           1     0.9192    0.8364    0.8758      2121\n",
      "\n",
      "    accuracy                         0.8814      4242\n",
      "   macro avg     0.8845    0.8814    0.8812      4242\n",
      "weighted avg     0.8845    0.8814    0.8812      4242\n",
      "\n",
      "              precision    recall  f1-score   support\n",
      "\n",
      "           0       0.98      0.94      0.96       729\n",
      "           1       0.68      0.85      0.75       105\n",
      "\n",
      "    accuracy                           0.93       834\n",
      "   macro avg       0.83      0.90      0.86       834\n",
      "weighted avg       0.94      0.93      0.93       834\n",
      "\n"
     ]
    }
   ],
   "source": [
    "print(classification_report(y_train_resampled, y_hat_train, digits=4)) \n",
    "print(classification_report(y_test, y_hat_test))"
   ]
  },
  {
   "cell_type": "markdown",
   "metadata": {},
   "source": [
    "Fairly similar scores to the previous model."
   ]
  },
  {
   "cell_type": "code",
   "execution_count": 77,
   "metadata": {},
   "outputs": [
    {
     "data": {
      "text/plain": [
       "0.9813767090994814"
      ]
     },
     "execution_count": 77,
     "metadata": {},
     "output_type": "execute_result"
    }
   ],
   "source": [
    "# Training Accuracy\n",
    "forest.score(X_train_resampled, y_train_resampled)"
   ]
  },
  {
   "cell_type": "code",
   "execution_count": 78,
   "metadata": {},
   "outputs": [
    {
     "data": {
      "text/plain": [
       "0.9292565947242206"
      ]
     },
     "execution_count": 78,
     "metadata": {},
     "output_type": "execute_result"
    }
   ],
   "source": [
    "# Testing Accuracy\n",
    "forest.score(X_test, y_test)"
   ]
  },
  {
   "cell_type": "markdown",
   "metadata": {},
   "source": [
    "Difference in testing and training accuracy scores suggests overfitting."
   ]
  },
  {
   "cell_type": "code",
   "execution_count": 79,
   "metadata": {},
   "outputs": [
    {
     "data": {
      "text/plain": [
       "{'TP': 87, 'TN': 688, 'FP': 41, 'FN': 18}"
      ]
     },
     "execution_count": 79,
     "metadata": {},
     "output_type": "execute_result"
    }
   ],
   "source": [
    "y_pred = forest.predict(X_test)\n",
    "conf_matrix(y_test, y_pred)"
   ]
  },
  {
   "cell_type": "code",
   "execution_count": 80,
   "metadata": {},
   "outputs": [
    {
     "data": {
      "image/png": "[encoded data removed]",
      "text/plain": [
       "<Figure size 432x288 with 2 Axes>"
      ]
     },
     "metadata": {
      "needs_background": "light"
     },
     "output_type": "display_data"
    }
   ],
   "source": [
    "plot_confusion_matrix(forest, X_test, y_test, cmap=plt.cm.Blues)\n",
    "plt.show()"
   ]
  },
  {
   "cell_type": "code",
   "execution_count": 81,
   "metadata": {},
   "outputs": [
    {
     "data": {
      "image/png": "[encoded data removed]",
      "text/plain": [
       "<Figure size 576x1152 with 1 Axes>"
      ]
     },
     "metadata": {
      "needs_background": "light"
     },
     "output_type": "display_data"
    }
   ],
   "source": [
    "plot_feature_importances(forest)"
   ]
  },
  {
   "cell_type": "markdown",
   "metadata": {},
   "source": [
    "Pretty similar results as the previous model."
   ]
  },
  {
   "cell_type": "code",
   "execution_count": 82,
   "metadata": {},
   "outputs": [
    {
     "data": {
      "text/plain": [
       "[0.64, 0.736, 0.768, 0.775, 0.683, 0.683, 0.808, 0.794]"
      ]
     },
     "execution_count": 82,
     "metadata": {},
     "output_type": "execute_result"
    }
   ],
   "source": [
    "y_hat_test = forest.predict(X_test)\n",
    "f = fbeta_score(y_test, y_hat_test, beta=2.0)\n",
    "fbeta2_scores.append(round(f, 3))\n",
    "fbeta2_scores"
   ]
  },
  {
   "cell_type": "markdown",
   "metadata": {},
   "source": [
    "Slightly lower F-2 Score than the previous model."
   ]
  },
  {
   "cell_type": "markdown",
   "metadata": {},
   "source": [
    "Suppressing the following code because it produces a large file size for the image it makes.\n",
    "The following code creates an image of a single tree in the forest in the section 8 tuned model."
   ]
  },
  {
   "cell_type": "code",
   "execution_count": 83,
   "metadata": {},
   "outputs": [],
   "source": [
    "# try to visualize the tree\n",
    "# adapted from: https://towardsdatascience.com/how-to-visualize-a-decision-tree-from-a-random-forest-in-python-using-scikit-learn-38ad2d75f21c\n",
    "# credits to Will Koehresen for the code above (link above)\n",
    "\n",
    "# from sklearn.tree import export_graphviz\n",
    "# # Export as dot file\n",
    "# export_graphviz(forest.estimators_[3], out_file='tree.dot', \n",
    "#                 feature_names = X_train_resampled.columns.to_list(),\n",
    "#                 class_names = 'churn',\n",
    "#                 rounded = True, proportion = False, \n",
    "#                 precision = 3, filled = True)\n",
    "\n",
    "# # Convert to png using system command (requires Graphviz)\n",
    "# from subprocess import call\n",
    "# call(['dot', '-Tpng', 'tree.dot', '-o', 'tree.png', '-Gdpi=600'])\n",
    "\n",
    "# # Display in jupyter notebook\n",
    "# from IPython.display import Image\n",
    "# Image(filename = 'tree.png')"
   ]
  },
  {
   "cell_type": "markdown",
   "metadata": {},
   "source": [
    "# Final Model Selection and Discussion"
   ]
  },
  {
   "cell_type": "markdown",
   "metadata": {},
   "source": [
    "## Overview"
   ]
  },
  {
   "cell_type": "markdown",
   "metadata": {},
   "source": [
    "The goal of this project is to reduce customer churn rate for SyriaTel. This dataset is based in the US, so it is important for model results to extrapolate well to an application in Syria (where SyriaTel is based). \n",
    "To reduce customer churn rate, it is important to identify customers that are likely to churn, why these customers churn, and deploy a customer retention strategy on these customers."
   ]
  },
  {
   "cell_type": "markdown",
   "metadata": {},
   "source": [
    "Main evaluation metrics to use and the basis of justification for utilizing these metrics:\n",
    "* The main goal is to implement retention strategies such as offering discounted rates, better plans, etc. to customers identified as likely to churn.\n",
    "* Customers that are classified as churning by the model will be offered a retention strategy that will probably cost money to implement, but it can be justified by retaining the customer in the long term.\n",
    "* Accuracy is important for minimizing total false negatives and false positives. \n",
    "* False negatives (customers identified as retained but are not actually retained) are important to minimize because these are customers that \"fell through the cracks\" and left without any attempt to save their business.\n",
    "* False positives are important to minimize because these customers will potentially represent an unneeded cost because they will be offered one of the retention strategies, which costs the company money, even though they don't need incentive to stay with the company. This loss could be countered with some type of survey to identify dissatisfied customers, but it is important to decrease the amount of false positives.\n",
    "* False negatives (customers identified as not churning but actually churned) should be penalized more because these customers do not have the potential to be retained with any particular strategy, they simply fall through the cracks. This cost is greater than a decent retention strategy because the retention strategy will signify an initial cost, but it will allow for the customer to be retained for a longer time.\n",
    "\n",
    "Other justifications for model selection:\n",
    "* The model must have potential to extrapolate from this dataset (from a US-based company) to the stakeholder (SyriaTel).\n",
    "* It is ideal for the model to be deployed somewhat quickly so that customers can be classified as likely to churn or not at the end of various time periods, and so that customer retention strategies can be deployed quickly."
   ]
  },
  {
   "cell_type": "markdown",
   "metadata": {},
   "source": [
    "Potential Retention Strategies:\n",
    "* If the customer has an international plan, then offer a certain amount of months for free. The international plan in this dataset doesn't seem to do anything (check EDA notebook), and it probably wouldn't be of any cost for this particular company to offer international plans free for an extended period. But this idea is one strategy for retaining customers with international plans.\n",
    "* Offer a discount for call charges. Total charge was an important feature in most models, so it will be useful to offer discounts to retain customers. \n",
    "* Create better customer service methods and offer solutions quickly to customers that call multiple times.\n",
    "* Have an effective international plan."
   ]
  },
  {
   "cell_type": "markdown",
   "metadata": {},
   "source": [
    "## Customer Retention Strategy and Evaluation Metric"
   ]
  },
  {
   "cell_type": "markdown",
   "metadata": {},
   "source": [
    "Main Retention Strategy to Consider:\n",
    "* Offer customers identified as likely to churn the option to have a discount such as 6 months at 50% off.\n",
    "\n",
    "Items to consider:\n",
    "* Assumptions have to be made in order to evaluate how effective the retention strategy will be.\n",
    "* Assumption 1: average cost to acquire a new customer is around 300 dollars. Sources: https://www.forbes.com/sites/forbestechcouncil/2020/10/30/acquiring-subscribers-is-only-half-the-battle/https://www.entrepreneur.com/article/225415\n",
    "* Average phone bill cost (in the US) for a single user: 70 dollars/month. Source: https://www.usmobile.com/blog/cut-cell-phone-bill/\n",
    "* Assume that customers that leave the service will cost the company 370 dollars (cost of one month of service + cost to acquire new customer).\n",
    "* For False Positive customers (model identifies customer as churning, but they do not churn), assume the cost to the company is (35 dollars* 6 months) = 210 dollars.\n",
    "* For False Negative customers (model identifies as retained but they churn), assume the cost to the company is 370 dollars.\n",
    "* For True Positive customers, assume the rate of retention (after offering the discount) is 80%. \n",
    "* The expected value gained for any True Positive customer is .8(-210+370) + .2(-370) = 54 dollars.\n",
    "\n",
    "Discussion of Metric to Use (F-Beta2):\n",
    "* A False Negative costs about 1.762 times as much as a False Positive from the above calculations. The metric will need to implement recognition of this discrepancy.\n",
    "* Could use expected amount of money gained or lost.\n",
    "* Use F-Beta with a beta value > 1 to penalize False Negatives more than False Positives.\n",
    "* Due to the nature of making many assumptions in the previous calculations, F-Beta2 score will be used to compare model performance between each other. This scoring method ensures that FN's are penalized more than FP's. F-Beta2 will not necessarily penalize FN's exactly 1.762 times more than FP's, but it will give a good comparison between models that will offer a good estimation that doesn't have to rely on the assumptions made.\n"
   ]
  },
  {
   "cell_type": "markdown",
   "metadata": {},
   "source": [
    "## Final Model and Inferences from the Model"
   ]
  },
  {
   "cell_type": "code",
   "execution_count": 84,
   "metadata": {},
   "outputs": [
    {
     "data": {
      "text/plain": [
       "[0.64, 0.736, 0.768, 0.775, 0.683, 0.683, 0.808, 0.794]"
      ]
     },
     "execution_count": 84,
     "metadata": {},
     "output_type": "execute_result"
    }
   ],
   "source": [
    "fbeta2_scores"
   ]
  },
  {
   "cell_type": "markdown",
   "metadata": {},
   "source": [
    "The first RF model without the state column performed the best in terms of F-2 Score."
   ]
  },
  {
   "cell_type": "markdown",
   "metadata": {},
   "source": [
    "### Review the top feature importances of the model"
   ]
  },
  {
   "cell_type": "code",
   "execution_count": 85,
   "metadata": {},
   "outputs": [
    {
     "data": {
      "text/html": [
       "<div>\n",
       "<style scoped>\n",
       "    .dataframe tbody tr th:only-of-type {\n",
       "        vertical-align: middle;\n",
       "    }\n",
       "\n",
       "    .dataframe tbody tr th {\n",
       "        vertical-align: top;\n",
       "    }\n",
       "\n",
       "    .dataframe thead th {\n",
       "        text-align: right;\n",
       "    }\n",
       "</style>\n",
       "<table border=\"1\" class=\"dataframe\">\n",
       "  <thead>\n",
       "    <tr style=\"text-align: right;\">\n",
       "      <th></th>\n",
       "      <th>feature importances values</th>\n",
       "    </tr>\n",
       "  </thead>\n",
       "  <tbody>\n",
       "    <tr>\n",
       "      <th>total_charge</th>\n",
       "      <td>0.359</td>\n",
       "    </tr>\n",
       "    <tr>\n",
       "      <th>total intl charge</th>\n",
       "      <td>0.097</td>\n",
       "    </tr>\n",
       "    <tr>\n",
       "      <th>account length</th>\n",
       "      <td>0.079</td>\n",
       "    </tr>\n",
       "    <tr>\n",
       "      <th>total_calls</th>\n",
       "      <td>0.074</td>\n",
       "    </tr>\n",
       "    <tr>\n",
       "      <th>4 customer service calls</th>\n",
       "      <td>0.062</td>\n",
       "    </tr>\n",
       "    <tr>\n",
       "      <th>low international calls</th>\n",
       "      <td>0.060</td>\n",
       "    </tr>\n",
       "    <tr>\n",
       "      <th>no voice mail plan</th>\n",
       "      <td>0.055</td>\n",
       "    </tr>\n",
       "    <tr>\n",
       "      <th>has voice mail plan</th>\n",
       "      <td>0.045</td>\n",
       "    </tr>\n",
       "    <tr>\n",
       "      <th>high international calls</th>\n",
       "      <td>0.033</td>\n",
       "    </tr>\n",
       "    <tr>\n",
       "      <th>moderate international calls</th>\n",
       "      <td>0.025</td>\n",
       "    </tr>\n",
       "  </tbody>\n",
       "</table>\n",
       "</div>"
      ],
      "text/plain": [
       "                              feature importances values\n",
       "total_charge                                       0.359\n",
       "total intl charge                                  0.097\n",
       "account length                                     0.079\n",
       "total_calls                                        0.074\n",
       "4 customer service calls                           0.062\n",
       "low international calls                            0.060\n",
       "no voice mail plan                                 0.055\n",
       "has voice mail plan                                0.045\n",
       "high international calls                           0.033\n",
       "moderate international calls                       0.025"
      ]
     },
     "execution_count": 85,
     "metadata": {},
     "output_type": "execute_result"
    }
   ],
   "source": [
    "df_final_feature_importances.head(10)"
   ]
  },
  {
   "cell_type": "markdown",
   "metadata": {},
   "source": [
    "By far the most important feature is total charge. It will be important to focus on discounting costs of customers that are predicted to churn. It would be worthwhile to  investigate better overall methods to decrease costs for customers.\n",
    "The second most important feature is total international charge, and the third most important feature is total calls. \n",
    "It seems like there may be a common theme with either charging too much or not providing comprehensive enough packages for calling. There are various business strategies that could reduce churn in these cases such as rewarding customers for utilizing the service more or offering more comprehensive plans for customers such as unlimited calling."
   ]
  },
  {
   "cell_type": "markdown",
   "metadata": {},
   "source": [
    "### Estimate money saved with this model"
   ]
  },
  {
   "cell_type": "markdown",
   "metadata": {},
   "source": [
    "Without a retention strategy, how much money is lost? SyriaTel has around 8 million customers (according to its LinkedIn page), so let's assume that and account for lost money without a strategy. With the assumptions made in section 10.2, 370 dollars is lost for customers that are not identified as churning. 14.5% of customers in the original dataset churned. With eight million total customers, that would represent a loss of business from 1.16 million customers and $429.2M."
   ]
  },
  {
   "cell_type": "markdown",
   "metadata": {},
   "source": [
    "In the final model, the frequency of FN's (customers that churn but are predicted as retained) is about 1.80%. The frequency of TP's (TP's / total observations) is about 10.80%. The frequency of FP's is about 5.16%. Therefore, FN's will account for 144,000 customers, FP's will account for 412,800 customers, and TP's will account for 864,000 customers. The expected loss (derived from the calculations in section 10.2) equates to 53,280,000 dollars from FN's and  86,688,000 dollars from FP's. The expected gain from TP's is 46,656,000 dollars. In total, SyriaTel is expected to lose about 93,312,000 dollars with this retention strategy, but SyriaTel will save 335,888,000 dollars by implementing this strategy in comparison to having no strategy. "
   ]
  },
  {
   "cell_type": "markdown",
   "metadata": {},
   "source": [
    "### Conclusions"
   ]
  },
  {
   "cell_type": "markdown",
   "metadata": {},
   "source": [
    "With the retention strategy covered in this notebook, SyriaTel is estimated to save just under 336 million dollars. Obviously SyriaTel is based in Syria and probably does not use dollars, and the estimations for these calculations is based somewhat on US telecommunications data (reference section 10.2). However, the point of this notebook is that the model created allows for SyriaTel to save an enormous amount of money. There are also other considerations that can be inferred from this model that SyriaTel can make use of. For instance, this dataset highlights the need for good customer service, especially after the customer has contacted customer service previously. The dataset also highlights the need for a comprehensive international plan (if that plan is offered) because many customers with an international plan ended up churning in this dataset."
   ]
  },
  {
   "cell_type": "markdown",
   "metadata": {},
   "source": [
    "Further considerations:\n",
    "* Tune estimation parameters to account for telecommunication data in Syria.\n",
    "* Use a larger telecommunications dataset. There were 3,333 datapoints in this set, which is by no means a large dataset. A larger dataset will allow for more confidence in the predictive models covered in this notebook.\n",
    "* Tune the hyperparameters in the model and re-adjust the model after more data has been collected.\n",
    "* Ideally this model and various parameters would be adjusted and predictions would be created again after another time period has surpassed and customer churn rate can be re-evaluated. \n",
    "* There are other macroeconomic variables in Syria that will affect customer retention. Syria is not the most stable of areas, and the EU has even imposed sanctions on SyriaTel in the past (reference: https://www.reuters.com/article/us-syria-eu-sanctions-idUSTRE78N1DY20110924)"
   ]
  }
 ],
 "metadata": {
  "kernelspec": {
   "display_name": "Python 3",
   "language": "python",
   "name": "python3"
  },
  "language_info": {
   "codemirror_mode": {
    "name": "ipython",
    "version": 3
   },
   "file_extension": ".py",
   "mimetype": "text/x-python",
   "name": "python",
   "nbconvert_exporter": "python",
   "pygments_lexer": "ipython3",
   "version": "3.8.5"
  },
  "toc": {
   "base_numbering": 1,
   "nav_menu": {},
   "number_sections": true,
   "sideBar": true,
   "skip_h1_title": false,
   "title_cell": "Table of Contents",
   "title_sidebar": "Contents",
   "toc_cell": false,
   "toc_position": {
    "height": "calc(100% - 180px)",
    "left": "10px",
    "top": "150px",
    "width": "386.719px"
   },
   "toc_section_display": true,
   "toc_window_display": true
  }
 },
 "nbformat": 4,
 "nbformat_minor": 4
}
